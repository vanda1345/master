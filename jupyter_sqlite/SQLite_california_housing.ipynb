{
 "cells": [
  {
   "cell_type": "code",
   "execution_count": 1,
   "id": "fcc6f339",
   "metadata": {},
   "outputs": [],
   "source": [
    "from sklearn import datasets\n",
    "import sqlite3 as sqlite\n",
    "import pandas as pd\n",
    "import matplotlib.pyplot as plt\n",
    "import numpy as np"
   ]
  },
  {
   "cell_type": "markdown",
   "id": "192e4d26",
   "metadata": {},
   "source": [
    "# Regression data from scklearn"
   ]
  },
  {
   "cell_type": "code",
   "execution_count": 2,
   "id": "5c80394b",
   "metadata": {},
   "outputs": [
    {
     "data": {
      "text/html": [
       "<div>\n",
       "<style scoped>\n",
       "    .dataframe tbody tr th:only-of-type {\n",
       "        vertical-align: middle;\n",
       "    }\n",
       "\n",
       "    .dataframe tbody tr th {\n",
       "        vertical-align: top;\n",
       "    }\n",
       "\n",
       "    .dataframe thead th {\n",
       "        text-align: right;\n",
       "    }\n",
       "</style>\n",
       "<table border=\"1\" class=\"dataframe\">\n",
       "  <thead>\n",
       "    <tr style=\"text-align: right;\">\n",
       "      <th></th>\n",
       "      <th>MedInc</th>\n",
       "      <th>HouseAge</th>\n",
       "      <th>AveRooms</th>\n",
       "      <th>AveBedrms</th>\n",
       "      <th>Population</th>\n",
       "      <th>AveOccup</th>\n",
       "      <th>Latitude</th>\n",
       "      <th>Longitude</th>\n",
       "      <th>MedHouseVal</th>\n",
       "    </tr>\n",
       "  </thead>\n",
       "  <tbody>\n",
       "    <tr>\n",
       "      <th>0</th>\n",
       "      <td>8.3252</td>\n",
       "      <td>41.0</td>\n",
       "      <td>6.984127</td>\n",
       "      <td>1.023810</td>\n",
       "      <td>322.0</td>\n",
       "      <td>2.555556</td>\n",
       "      <td>37.88</td>\n",
       "      <td>-122.23</td>\n",
       "      <td>4.526</td>\n",
       "    </tr>\n",
       "    <tr>\n",
       "      <th>1</th>\n",
       "      <td>8.3014</td>\n",
       "      <td>21.0</td>\n",
       "      <td>6.238137</td>\n",
       "      <td>0.971880</td>\n",
       "      <td>2401.0</td>\n",
       "      <td>2.109842</td>\n",
       "      <td>37.86</td>\n",
       "      <td>-122.22</td>\n",
       "      <td>3.585</td>\n",
       "    </tr>\n",
       "    <tr>\n",
       "      <th>2</th>\n",
       "      <td>7.2574</td>\n",
       "      <td>52.0</td>\n",
       "      <td>8.288136</td>\n",
       "      <td>1.073446</td>\n",
       "      <td>496.0</td>\n",
       "      <td>2.802260</td>\n",
       "      <td>37.85</td>\n",
       "      <td>-122.24</td>\n",
       "      <td>3.521</td>\n",
       "    </tr>\n",
       "    <tr>\n",
       "      <th>3</th>\n",
       "      <td>5.6431</td>\n",
       "      <td>52.0</td>\n",
       "      <td>5.817352</td>\n",
       "      <td>1.073059</td>\n",
       "      <td>558.0</td>\n",
       "      <td>2.547945</td>\n",
       "      <td>37.85</td>\n",
       "      <td>-122.25</td>\n",
       "      <td>3.413</td>\n",
       "    </tr>\n",
       "    <tr>\n",
       "      <th>4</th>\n",
       "      <td>3.8462</td>\n",
       "      <td>52.0</td>\n",
       "      <td>6.281853</td>\n",
       "      <td>1.081081</td>\n",
       "      <td>565.0</td>\n",
       "      <td>2.181467</td>\n",
       "      <td>37.85</td>\n",
       "      <td>-122.25</td>\n",
       "      <td>3.422</td>\n",
       "    </tr>\n",
       "    <tr>\n",
       "      <th>...</th>\n",
       "      <td>...</td>\n",
       "      <td>...</td>\n",
       "      <td>...</td>\n",
       "      <td>...</td>\n",
       "      <td>...</td>\n",
       "      <td>...</td>\n",
       "      <td>...</td>\n",
       "      <td>...</td>\n",
       "      <td>...</td>\n",
       "    </tr>\n",
       "    <tr>\n",
       "      <th>20635</th>\n",
       "      <td>1.5603</td>\n",
       "      <td>25.0</td>\n",
       "      <td>5.045455</td>\n",
       "      <td>1.133333</td>\n",
       "      <td>845.0</td>\n",
       "      <td>2.560606</td>\n",
       "      <td>39.48</td>\n",
       "      <td>-121.09</td>\n",
       "      <td>0.781</td>\n",
       "    </tr>\n",
       "    <tr>\n",
       "      <th>20636</th>\n",
       "      <td>2.5568</td>\n",
       "      <td>18.0</td>\n",
       "      <td>6.114035</td>\n",
       "      <td>1.315789</td>\n",
       "      <td>356.0</td>\n",
       "      <td>3.122807</td>\n",
       "      <td>39.49</td>\n",
       "      <td>-121.21</td>\n",
       "      <td>0.771</td>\n",
       "    </tr>\n",
       "    <tr>\n",
       "      <th>20637</th>\n",
       "      <td>1.7000</td>\n",
       "      <td>17.0</td>\n",
       "      <td>5.205543</td>\n",
       "      <td>1.120092</td>\n",
       "      <td>1007.0</td>\n",
       "      <td>2.325635</td>\n",
       "      <td>39.43</td>\n",
       "      <td>-121.22</td>\n",
       "      <td>0.923</td>\n",
       "    </tr>\n",
       "    <tr>\n",
       "      <th>20638</th>\n",
       "      <td>1.8672</td>\n",
       "      <td>18.0</td>\n",
       "      <td>5.329513</td>\n",
       "      <td>1.171920</td>\n",
       "      <td>741.0</td>\n",
       "      <td>2.123209</td>\n",
       "      <td>39.43</td>\n",
       "      <td>-121.32</td>\n",
       "      <td>0.847</td>\n",
       "    </tr>\n",
       "    <tr>\n",
       "      <th>20639</th>\n",
       "      <td>2.3886</td>\n",
       "      <td>16.0</td>\n",
       "      <td>5.254717</td>\n",
       "      <td>1.162264</td>\n",
       "      <td>1387.0</td>\n",
       "      <td>2.616981</td>\n",
       "      <td>39.37</td>\n",
       "      <td>-121.24</td>\n",
       "      <td>0.894</td>\n",
       "    </tr>\n",
       "  </tbody>\n",
       "</table>\n",
       "<p>20640 rows × 9 columns</p>\n",
       "</div>"
      ],
      "text/plain": [
       "       MedInc  HouseAge  AveRooms  AveBedrms  Population  AveOccup  Latitude  \\\n",
       "0      8.3252      41.0  6.984127   1.023810       322.0  2.555556     37.88   \n",
       "1      8.3014      21.0  6.238137   0.971880      2401.0  2.109842     37.86   \n",
       "2      7.2574      52.0  8.288136   1.073446       496.0  2.802260     37.85   \n",
       "3      5.6431      52.0  5.817352   1.073059       558.0  2.547945     37.85   \n",
       "4      3.8462      52.0  6.281853   1.081081       565.0  2.181467     37.85   \n",
       "...       ...       ...       ...        ...         ...       ...       ...   \n",
       "20635  1.5603      25.0  5.045455   1.133333       845.0  2.560606     39.48   \n",
       "20636  2.5568      18.0  6.114035   1.315789       356.0  3.122807     39.49   \n",
       "20637  1.7000      17.0  5.205543   1.120092      1007.0  2.325635     39.43   \n",
       "20638  1.8672      18.0  5.329513   1.171920       741.0  2.123209     39.43   \n",
       "20639  2.3886      16.0  5.254717   1.162264      1387.0  2.616981     39.37   \n",
       "\n",
       "       Longitude  MedHouseVal  \n",
       "0        -122.23        4.526  \n",
       "1        -122.22        3.585  \n",
       "2        -122.24        3.521  \n",
       "3        -122.25        3.413  \n",
       "4        -122.25        3.422  \n",
       "...          ...          ...  \n",
       "20635    -121.09        0.781  \n",
       "20636    -121.21        0.771  \n",
       "20637    -121.22        0.923  \n",
       "20638    -121.32        0.847  \n",
       "20639    -121.24        0.894  \n",
       "\n",
       "[20640 rows x 9 columns]"
      ]
     },
     "execution_count": 2,
     "metadata": {},
     "output_type": "execute_result"
    }
   ],
   "source": [
    "ch = datasets.fetch_california_housing()\n",
    "cali_housing = pd.DataFrame(data= np.c_[ch['data'], ch['target']],\n",
    "                     columns= ch['feature_names'] + ['MedHouseVal'])\n",
    "cali_housing"
   ]
  },
  {
   "cell_type": "code",
   "execution_count": 3,
   "id": "09f30430",
   "metadata": {},
   "outputs": [
    {
     "data": {
      "text/html": [
       "<div>\n",
       "<style scoped>\n",
       "    .dataframe tbody tr th:only-of-type {\n",
       "        vertical-align: middle;\n",
       "    }\n",
       "\n",
       "    .dataframe tbody tr th {\n",
       "        vertical-align: top;\n",
       "    }\n",
       "\n",
       "    .dataframe thead th {\n",
       "        text-align: right;\n",
       "    }\n",
       "</style>\n",
       "<table border=\"1\" class=\"dataframe\">\n",
       "  <thead>\n",
       "    <tr style=\"text-align: right;\">\n",
       "      <th></th>\n",
       "      <th>MedInc</th>\n",
       "      <th>HouseAge</th>\n",
       "      <th>AveRooms</th>\n",
       "      <th>AveBedrms</th>\n",
       "      <th>Population</th>\n",
       "      <th>AveOccup</th>\n",
       "      <th>Latitude</th>\n",
       "      <th>Longitude</th>\n",
       "      <th>MedHouseVal</th>\n",
       "    </tr>\n",
       "  </thead>\n",
       "  <tbody>\n",
       "    <tr>\n",
       "      <th>0</th>\n",
       "      <td>8.3252</td>\n",
       "      <td>41.0</td>\n",
       "      <td>6.984127</td>\n",
       "      <td>1.023810</td>\n",
       "      <td>322.0</td>\n",
       "      <td>2.555556</td>\n",
       "      <td>37.88</td>\n",
       "      <td>-122.23</td>\n",
       "      <td>4.526</td>\n",
       "    </tr>\n",
       "    <tr>\n",
       "      <th>1</th>\n",
       "      <td>8.3014</td>\n",
       "      <td>21.0</td>\n",
       "      <td>6.238137</td>\n",
       "      <td>0.971880</td>\n",
       "      <td>2401.0</td>\n",
       "      <td>2.109842</td>\n",
       "      <td>37.86</td>\n",
       "      <td>-122.22</td>\n",
       "      <td>3.585</td>\n",
       "    </tr>\n",
       "    <tr>\n",
       "      <th>2</th>\n",
       "      <td>7.2574</td>\n",
       "      <td>52.0</td>\n",
       "      <td>8.288136</td>\n",
       "      <td>1.073446</td>\n",
       "      <td>496.0</td>\n",
       "      <td>2.802260</td>\n",
       "      <td>37.85</td>\n",
       "      <td>-122.24</td>\n",
       "      <td>3.521</td>\n",
       "    </tr>\n",
       "    <tr>\n",
       "      <th>3</th>\n",
       "      <td>5.6431</td>\n",
       "      <td>52.0</td>\n",
       "      <td>5.817352</td>\n",
       "      <td>1.073059</td>\n",
       "      <td>558.0</td>\n",
       "      <td>2.547945</td>\n",
       "      <td>37.85</td>\n",
       "      <td>-122.25</td>\n",
       "      <td>3.413</td>\n",
       "    </tr>\n",
       "    <tr>\n",
       "      <th>4</th>\n",
       "      <td>3.8462</td>\n",
       "      <td>52.0</td>\n",
       "      <td>6.281853</td>\n",
       "      <td>1.081081</td>\n",
       "      <td>565.0</td>\n",
       "      <td>2.181467</td>\n",
       "      <td>37.85</td>\n",
       "      <td>-122.25</td>\n",
       "      <td>3.422</td>\n",
       "    </tr>\n",
       "  </tbody>\n",
       "</table>\n",
       "</div>"
      ],
      "text/plain": [
       "   MedInc  HouseAge  AveRooms  AveBedrms  Population  AveOccup  Latitude  \\\n",
       "0  8.3252      41.0  6.984127   1.023810       322.0  2.555556     37.88   \n",
       "1  8.3014      21.0  6.238137   0.971880      2401.0  2.109842     37.86   \n",
       "2  7.2574      52.0  8.288136   1.073446       496.0  2.802260     37.85   \n",
       "3  5.6431      52.0  5.817352   1.073059       558.0  2.547945     37.85   \n",
       "4  3.8462      52.0  6.281853   1.081081       565.0  2.181467     37.85   \n",
       "\n",
       "   Longitude  MedHouseVal  \n",
       "0    -122.23        4.526  \n",
       "1    -122.22        3.585  \n",
       "2    -122.24        3.521  \n",
       "3    -122.25        3.413  \n",
       "4    -122.25        3.422  "
      ]
     },
     "execution_count": 3,
     "metadata": {},
     "output_type": "execute_result"
    }
   ],
   "source": [
    "conn_sql = sqlite.connect('MasterAll.db')\n",
    "cali_housing.to_sql('cali_housing', con=conn_sql, if_exists='replace', index=False)\n",
    "\n",
    "#reload the inserted data\n",
    "cali_housing = pd.read_sql('SELECT * FROM cali_housing', conn_sql)\n",
    "cali_housing.head()"
   ]
  },
  {
   "cell_type": "code",
   "execution_count": 4,
   "id": "bf570b60",
   "metadata": {},
   "outputs": [],
   "source": [
    "#saving data to csv form to be used in different systems\n",
    "cali_housing.to_csv('dbs/cali_housing.csv', index=False)"
   ]
  },
  {
   "cell_type": "code",
   "execution_count": 5,
   "id": "0c2b18e8",
   "metadata": {},
   "outputs": [],
   "source": [
    "conn_sql.commit()"
   ]
  },
  {
   "cell_type": "code",
   "execution_count": 6,
   "id": "f6c785ca",
   "metadata": {},
   "outputs": [
    {
     "name": "stdout",
     "output_type": "stream",
     "text": [
      "Shape:  (20640, 9)\n",
      "Dimensions:  2\n"
     ]
    }
   ],
   "source": [
    "#shape and dimension of dataframe cali_housing\n",
    "print('Shape: ', cali_housing.shape)\n",
    "print('Dimensions: ', cali_housing.ndim)"
   ]
  },
  {
   "cell_type": "code",
   "execution_count": 7,
   "id": "c7bc2348",
   "metadata": {},
   "outputs": [
    {
     "data": {
      "text/plain": [
       "MedInc         float64\n",
       "HouseAge       float64\n",
       "AveRooms       float64\n",
       "AveBedrms      float64\n",
       "Population     float64\n",
       "AveOccup       float64\n",
       "Latitude       float64\n",
       "Longitude      float64\n",
       "MedHouseVal    float64\n",
       "dtype: object"
      ]
     },
     "execution_count": 7,
     "metadata": {},
     "output_type": "execute_result"
    }
   ],
   "source": [
    "#checking types of data contained in dataframe\n",
    "cali_housing.dtypes"
   ]
  },
  {
   "cell_type": "code",
   "execution_count": 8,
   "id": "98d0e535",
   "metadata": {},
   "outputs": [
    {
     "data": {
      "text/plain": [
       "False"
      ]
     },
     "execution_count": 8,
     "metadata": {},
     "output_type": "execute_result"
    }
   ],
   "source": [
    "#check if any column has missing/nan values\n",
    "(cali_housing.isnull().values.any())\n",
    "#cali_housing[cali_housing.isnull().any(axis=1)]"
   ]
  },
  {
   "cell_type": "code",
   "execution_count": 9,
   "id": "b8b16b60",
   "metadata": {},
   "outputs": [
    {
     "data": {
      "image/png": "[encoded data removed]",
      "text/plain": [
       "<Figure size 960x480 with 2 Axes>"
      ]
     },
     "metadata": {
      "needs_background": "light"
     },
     "output_type": "display_data"
    }
   ],
   "source": [
    "plt.rc('axes', facecolor='#E5E7E9', edgecolor='none',\n",
    "       axisbelow=True, grid=True)\n",
    "fig = plt.figure(figsize=(12, 6), dpi=80)\n",
    "mhsval = fig.add_subplot(121)\n",
    "minc = fig.add_subplot(122)\n",
    "plt.grid(color='w')\n",
    "#fig = plt.figure(num=None, figsize=(5, 10), dpi=80, facecolor='y', edgecolor='k')\n",
    "mhsval.hist(cali_housing.MedHouseVal, bins=80, edgecolor='lightblue')\n",
    "mhsval.set_xlabel('MedHouseValue')\n",
    "mhsval.set_title(\"Histogram of House value medium\")\n",
    "\n",
    "minc.hist(cali_housing.MedInc, bins=80, edgecolor='lightblue')\n",
    "minc.set_xlabel('MedInc')\n",
    "minc.set_title(\"Histogram of medium income\")\n",
    "\n",
    "plt.show()"
   ]
  },
  {
   "cell_type": "code",
   "execution_count": 10,
   "id": "108f5b11",
   "metadata": {},
   "outputs": [],
   "source": [
    "cali_housing = cali_housing.sort_values( by=\"MedHouseVal\", ascending=True )"
   ]
  },
  {
   "cell_type": "code",
   "execution_count": 11,
   "id": "a0ba11e0",
   "metadata": {},
   "outputs": [
    {
     "data": {
      "image/png": "[encoded data removed]",
      "text/plain": [
       "<Figure size 1200x1200 with 1 Axes>"
      ]
     },
     "metadata": {
      "needs_background": "light"
     },
     "output_type": "display_data"
    }
   ],
   "source": [
    "plt.figure(figsize=(15,15),dpi=80)\n",
    "plt.plot(cali_housing.MedHouseVal,cali_housing.MedInc)\n",
    "plt.title('Unemployment Rate Vs Year')\n",
    "plt.xlabel('Year')\n",
    "plt.ylabel('Unemployment Rate')\n",
    "plt.show()"
   ]
  },
  {
   "cell_type": "code",
   "execution_count": 12,
   "id": "3d5b6c8a",
   "metadata": {},
   "outputs": [
    {
     "name": "stdout",
     "output_type": "stream",
     "text": [
      "                            OLS Regression Results                            \n",
      "==============================================================================\n",
      "Dep. Variable:               HouseAge   R-squared:                       0.011\n",
      "Model:                            OLS   Adj. R-squared:                  0.011\n",
      "Method:                 Least Squares   F-statistic:                     232.8\n",
      "Date:                Wed, 28 Jul 2021   Prob (F-statistic):           2.76e-52\n",
      "Time:                        22:54:10   Log-Likelihood:                -81442.\n",
      "No. Observations:               20640   AIC:                         1.629e+05\n",
      "Df Residuals:                   20638   BIC:                         1.629e+05\n",
      "Df Model:                           1                                         \n",
      "Covariance Type:            nonrobust                                         \n",
      "===============================================================================\n",
      "                  coef    std err          t      P>|t|      [0.025      0.975]\n",
      "-------------------------------------------------------------------------------\n",
      "Intercept      26.2566      0.179    146.833      0.000      25.906      26.607\n",
      "MedHouseVal     1.1520      0.075     15.259      0.000       1.004       1.300\n",
      "==============================================================================\n",
      "Omnibus:                     1763.558   Durbin-Watson:                   1.950\n",
      "Prob(Omnibus):                  0.000   Jarque-Bera (JB):              556.559\n",
      "Skew:                           0.038   Prob(JB):                    1.40e-121\n",
      "Kurtosis:                       2.199   Cond. No.                         5.55\n",
      "==============================================================================\n",
      "\n",
      "Notes:\n",
      "[1] Standard Errors assume that the covariance matrix of the errors is correctly specified.\n"
     ]
    }
   ],
   "source": [
    "import statsmodels.api as sm\n",
    "from statsmodels.formula.api import ols\n",
    "m = ols('HouseAge ~ MedHouseVal',cali_housing).fit()\n",
    "print (m.summary())"
   ]
  },
  {
   "cell_type": "code",
   "execution_count": 13,
   "id": "b9edd917",
   "metadata": {},
   "outputs": [
    {
     "data": {
      "image/png": "[encoded data removed]",
      "text/plain": [
       "<Figure size 432x288 with 2 Axes>"
      ]
     },
     "metadata": {
      "needs_background": "light"
     },
     "output_type": "display_data"
    }
   ],
   "source": [
    "import seaborn as sns\n",
    "correlations_cali_housing = cali_housing.corr()\n",
    "sns.heatmap(correlations_cali_housing, cmap=\"YlGnBu\")\n",
    "plt.show()"
   ]
  },
  {
   "cell_type": "code",
   "execution_count": 14,
   "id": "3d16cfe0",
   "metadata": {},
   "outputs": [
    {
     "data": {
      "text/plain": [
       "Index(['MedInc', 'HouseAge', 'AveRooms', 'AveBedrms', 'Population', 'AveOccup',\n",
       "       'Latitude', 'Longitude', 'MedHouseVal'],\n",
       "      dtype='object')"
      ]
     },
     "execution_count": 14,
     "metadata": {},
     "output_type": "execute_result"
    }
   ],
   "source": [
    "cali_housing.columns"
   ]
  },
  {
   "cell_type": "code",
   "execution_count": 15,
   "id": "2414898c",
   "metadata": {},
   "outputs": [],
   "source": [
    "#we define our target and features\n",
    "X = cali_housing[['MedInc', 'HouseAge', 'AveRooms', 'AveBedrms', 'Population',\n",
    "                 'AveOccup', 'Latitude', 'Longitude']]\n",
    "y = cali_housing['MedHouseVal']\n",
    "\n",
    "from sklearn.model_selection import train_test_split\n",
    "\n",
    "test_size = 0.3\n",
    "seed = 78\n",
    "x_train, x_test, y_train, y_test = train_test_split(X, y, test_size=test_size, random_state=seed)"
   ]
  },
  {
   "cell_type": "code",
   "execution_count": 16,
   "id": "f3d166d6",
   "metadata": {},
   "outputs": [],
   "source": [
    "from sklearn.linear_model import LinearRegression\n",
    "from sklearn.neighbors import KNeighborsRegressor\n",
    "from sklearn.svm import SVR\n",
    "from sklearn.linear_model import BayesianRidge\n",
    "from sklearn.linear_model import ElasticNet\n",
    "from sklearn.ensemble import GradientBoostingRegressor\n",
    "from sklearn.tree import DecisionTreeRegressor\n",
    "\n",
    "from sklearn.metrics import classification_report\n",
    "import time\n"
   ]
  },
  {
   "cell_type": "code",
   "execution_count": 17,
   "id": "46eb7f9a",
   "metadata": {},
   "outputs": [],
   "source": [
    "#Training the models and measuring duration\n",
    "start_time_lr = time.time()\n",
    "lr = LinearRegression().fit(x_train, y_train)\n",
    "predictions_lr = lr.predict(x_test)\n",
    "elapsed_time_lr = time.time() - start_time_lr\n",
    "\n",
    "start_time_br = time.time()\n",
    "br = BayesianRidge().fit(x_train, y_train)\n",
    "predictions_br = br.predict(x_test)\n",
    "elapsed_time_br = time.time() - start_time_br\n",
    "\n",
    "start_time_svr = time.time()\n",
    "svr = SVR().fit(x_train, y_train)\n",
    "predictions_svr = svr.predict(x_test)\n",
    "elapsed_time_svr = time.time() - start_time_svr\n",
    "\n",
    "start_time_knn = time.time()\n",
    "knn = KNeighborsRegressor().fit(x_train, y_train)\n",
    "predictions_knn = knn.predict(x_test)\n",
    "elapsed_time_knn = time.time() - start_time_knn\n",
    "\n",
    "start_time_dtr = time.time()\n",
    "dtr = DecisionTreeRegressor().fit(x_train, y_train)\n",
    "predictions_dtr = dtr.predict(x_test)\n",
    "elapsed_time_dtr = time.time() - start_time_dtr\n",
    "\n",
    "start_time_en = time.time()\n",
    "en = ElasticNet().fit(x_train, y_train)\n",
    "predictions_en = en.predict(x_test)\n",
    "elapsed_time_en = time.time() - start_time_en\n",
    "\n",
    "start_time_gbr = time.time()\n",
    "gbr = GradientBoostingRegressor().fit(x_train, y_train)\n",
    "predictions_gbr = gbr.predict(x_test)\n",
    "elapsed_time_gbr = time.time() - start_time_gbr"
   ]
  },
  {
   "cell_type": "code",
   "execution_count": 18,
   "id": "7c78834d",
   "metadata": {},
   "outputs": [
    {
     "data": {
      "text/html": [
       "<div>\n",
       "<style scoped>\n",
       "    .dataframe tbody tr th:only-of-type {\n",
       "        vertical-align: middle;\n",
       "    }\n",
       "\n",
       "    .dataframe tbody tr th {\n",
       "        vertical-align: top;\n",
       "    }\n",
       "\n",
       "    .dataframe thead th {\n",
       "        text-align: right;\n",
       "    }\n",
       "</style>\n",
       "<table border=\"1\" class=\"dataframe\">\n",
       "  <thead>\n",
       "    <tr style=\"text-align: right;\">\n",
       "      <th></th>\n",
       "      <th>Real Values</th>\n",
       "      <th>Predicted Values</th>\n",
       "    </tr>\n",
       "  </thead>\n",
       "  <tbody>\n",
       "    <tr>\n",
       "      <th>3983</th>\n",
       "      <td>4.33000</td>\n",
       "      <td>3.313590</td>\n",
       "    </tr>\n",
       "    <tr>\n",
       "      <th>13167</th>\n",
       "      <td>2.16000</td>\n",
       "      <td>2.474163</td>\n",
       "    </tr>\n",
       "    <tr>\n",
       "      <th>16956</th>\n",
       "      <td>3.76800</td>\n",
       "      <td>3.084333</td>\n",
       "    </tr>\n",
       "    <tr>\n",
       "      <th>15712</th>\n",
       "      <td>5.00000</td>\n",
       "      <td>2.599504</td>\n",
       "    </tr>\n",
       "    <tr>\n",
       "      <th>11125</th>\n",
       "      <td>1.75400</td>\n",
       "      <td>1.864504</td>\n",
       "    </tr>\n",
       "    <tr>\n",
       "      <th>...</th>\n",
       "      <td>...</td>\n",
       "      <td>...</td>\n",
       "    </tr>\n",
       "    <tr>\n",
       "      <th>19828</th>\n",
       "      <td>0.80400</td>\n",
       "      <td>1.365300</td>\n",
       "    </tr>\n",
       "    <tr>\n",
       "      <th>18114</th>\n",
       "      <td>3.32500</td>\n",
       "      <td>3.257972</td>\n",
       "    </tr>\n",
       "    <tr>\n",
       "      <th>2704</th>\n",
       "      <td>0.67500</td>\n",
       "      <td>1.361160</td>\n",
       "    </tr>\n",
       "    <tr>\n",
       "      <th>10743</th>\n",
       "      <td>5.00001</td>\n",
       "      <td>4.823652</td>\n",
       "    </tr>\n",
       "    <tr>\n",
       "      <th>3705</th>\n",
       "      <td>1.92000</td>\n",
       "      <td>2.010621</td>\n",
       "    </tr>\n",
       "  </tbody>\n",
       "</table>\n",
       "<p>6192 rows × 2 columns</p>\n",
       "</div>"
      ],
      "text/plain": [
       "       Real Values  Predicted Values\n",
       "3983       4.33000          3.313590\n",
       "13167      2.16000          2.474163\n",
       "16956      3.76800          3.084333\n",
       "15712      5.00000          2.599504\n",
       "11125      1.75400          1.864504\n",
       "...            ...               ...\n",
       "19828      0.80400          1.365300\n",
       "18114      3.32500          3.257972\n",
       "2704       0.67500          1.361160\n",
       "10743      5.00001          4.823652\n",
       "3705       1.92000          2.010621\n",
       "\n",
       "[6192 rows x 2 columns]"
      ]
     },
     "execution_count": 18,
     "metadata": {},
     "output_type": "execute_result"
    }
   ],
   "source": [
    "df = pd.DataFrame({'Real Values':y_test, 'Predicted Values':predictions_lr})\n",
    "df"
   ]
  },
  {
   "cell_type": "code",
   "execution_count": 19,
   "id": "735e6713",
   "metadata": {},
   "outputs": [
    {
     "name": "stdout",
     "output_type": "stream",
     "text": [
      "LogisticRegression: \n",
      "time: 0.237\n",
      "MSE: 0.5105\n",
      "RMSE: 0.7145\n",
      "MAE: 0.5308\n",
      "\n",
      "BayesianRidge: \n",
      "time: 0.024\n",
      "MSE: 0.5106\n",
      "RMSE: 0.7146\n",
      "MAE: 0.5309\n",
      "\n",
      "SVR: \n",
      "time: 21.032\n",
      "MSE: 1.3592\n",
      "RMSE: 1.1659\n",
      "MAE: 0.8722\n",
      "\n",
      "KNeighborsRegressor: \n",
      "time: 0.073\n",
      "MSE: 1.1425\n",
      "RMSE: 1.0689\n",
      "MAE: 0.8258\n",
      "\n",
      "DecisionTreeRegressor: \n",
      "time: 0.249\n",
      "MSE: 0.5252\n",
      "RMSE: 0.7247\n",
      "MAE: 0.4606\n",
      "\n",
      "ElasticNet: \n",
      "time: 0.158\n",
      "MSE: 0.7631\n",
      "RMSE: 0.8735\n",
      "MAE: 0.6783\n",
      "\n",
      "GradientBoostingRegressor: \n",
      "time: 5.404\n",
      "MSE: 0.2695\n",
      "RMSE: 0.5192\n",
      "MAE: 0.3655\n"
     ]
    }
   ],
   "source": [
    "from sklearn.metrics import mean_squared_error\n",
    "from sklearn.metrics import mean_absolute_error\n",
    "\n",
    "print(\"LogisticRegression: \\ntime: %.3f\" % elapsed_time_lr)\n",
    "mse_lr = mean_squared_error(y_test, predictions_lr)\n",
    "rmse_lr = mean_squared_error(y_test, predictions_lr, squared=False)\n",
    "mae_lr = mean_absolute_error(y_test, predictions_lr)\n",
    "print(f\"MSE: %.4f\\nRMSE: %.4f\\nMAE: %.4f\" % (mse_lr, rmse_lr, mae_lr))\n",
    "\n",
    "print(\"\\nBayesianRidge: \\ntime: %.3f\" % elapsed_time_br)\n",
    "mse_br = mean_squared_error(y_test, predictions_br)\n",
    "rmse_br = mean_squared_error(y_test, predictions_br, squared=False)\n",
    "mae_br = mean_absolute_error(y_test, predictions_br)\n",
    "print(f\"MSE: %.4f\\nRMSE: %.4f\\nMAE: %.4f\" % (mse_br, rmse_br, mae_br))\n",
    "\n",
    "print(\"\\nSVR: \\ntime: %.3f\" % elapsed_time_svr)\n",
    "mse_svr = mean_squared_error(y_test, predictions_svr)\n",
    "rmse_svr = mean_squared_error(y_test, predictions_svr, squared=False)\n",
    "mae_svr = mean_absolute_error(y_test, predictions_svr)\n",
    "print(f\"MSE: %.4f\\nRMSE: %.4f\\nMAE: %.4f\" % (mse_svr, rmse_svr, mae_svr))\n",
    "\n",
    "print(\"\\nKNeighborsRegressor: \\ntime: %.3f\" % elapsed_time_knn)\n",
    "mse_knn = mean_squared_error(y_test, predictions_knn)\n",
    "rmse_knn = mean_squared_error(y_test, predictions_knn, squared=False)\n",
    "mae_knn = mean_absolute_error(y_test, predictions_knn)\n",
    "print(f\"MSE: %.4f\\nRMSE: %.4f\\nMAE: %.4f\" % (mse_knn, rmse_knn, mae_knn))\n",
    "\n",
    "print(\"\\nDecisionTreeRegressor: \\ntime: %.3f\" % elapsed_time_dtr)\n",
    "mse_dtr = mean_squared_error(y_test, predictions_dtr)\n",
    "rmse_dtr = mean_squared_error(y_test, predictions_dtr, squared=False)\n",
    "mae_dtr = mean_absolute_error(y_test, predictions_dtr)\n",
    "print(f\"MSE: %.4f\\nRMSE: %.4f\\nMAE: %.4f\" % (mse_dtr, rmse_dtr, mae_dtr))\n",
    "\n",
    "print(\"\\nElasticNet: \\ntime: %.3f\" % elapsed_time_en)\n",
    "mse_en = mean_squared_error(y_test, predictions_en)\n",
    "rmse_en = mean_squared_error(y_test, predictions_en, squared=False)\n",
    "mae_en = mean_absolute_error(y_test, predictions_en)\n",
    "print(f\"MSE: %.4f\\nRMSE: %.4f\\nMAE: %.4f\" % (mse_en, rmse_en, mae_en))\n",
    "\n",
    "print(\"\\nGradientBoostingRegressor: \\ntime: %.3f\" % elapsed_time_gbr)\n",
    "mse_gbr = mean_squared_error(y_test, predictions_gbr)\n",
    "rmse_gbr = mean_squared_error(y_test, predictions_gbr, squared=False)\n",
    "mae_gbr = mean_absolute_error(y_test, predictions_gbr)\n",
    "print(f\"MSE: %.4f\\nRMSE: %.4f\\nMAE: %.4f\" % (mse_gbr, rmse_gbr, mae_gbr))"
   ]
  },
  {
   "cell_type": "code",
   "execution_count": 50,
   "id": "ff61d024",
   "metadata": {},
   "outputs": [
    {
     "data": {
      "image/png": "[encoded data removed]",
      "text/plain": [
       "<Figure size 936x432 with 1 Axes>"
      ]
     },
     "metadata": {
      "needs_background": "light"
     },
     "output_type": "display_data"
    }
   ],
   "source": [
    "from sklearn.metrics import accuracy_score as acc\n",
    "\n",
    "plt.figure(figsize=(13, 6))\n",
    "plt.grid(color='w')\n",
    "plt.bar('Logistic\\nRegression', mse_lr, width=0.4)\n",
    "plt.bar('BayesianRidge', mse_br, width=0.4)\n",
    "plt.bar('SVR', mse_svr, width=0.4)\n",
    "plt.bar('KNeighbors\\nRegressor', mse_knn, width=0.4)\n",
    "plt.bar('DecisionTree\\nRegressor', mse_dtr, width=0.4)\n",
    "plt.bar('ElasticNet', mse_en, width=0.4)\n",
    "plt.bar('GradientBoosting\\nRegressor', mse_gbr, width=0.4)\n",
    "\n",
    "plt.ylabel('MSE cali_housing')\n",
    "plt.xlabel('Algorithms')\n",
    "plt.show()\n"
   ]
  },
  {
   "cell_type": "code",
   "execution_count": 52,
   "id": "1027f13e",
   "metadata": {},
   "outputs": [
    {
     "data": {
      "image/png": "[encoded data removed]",
      "text/plain": [
       "<Figure size 936x432 with 1 Axes>"
      ]
     },
     "metadata": {
      "needs_background": "light"
     },
     "output_type": "display_data"
    }
   ],
   "source": [
    "from sklearn.metrics import accuracy_score as acc\n",
    "\n",
    "plt.figure(figsize=(13, 6))\n",
    "plt.grid(color='w')\n",
    "plt.bar('Logistic\\nRegression', rmse_lr, width=0.4)\n",
    "plt.bar('BayesianRidge', rmse_br, width=0.4)\n",
    "plt.bar('SVR', rmse_svr, width=0.4)\n",
    "plt.bar('KNeighbors\\nRegressor', rmse_knn, width=0.4)\n",
    "plt.bar('DecisionTree\\nRegressor', rmse_dtr, width=0.4)\n",
    "plt.bar('ElasticNet', rmse_en, width=0.4)\n",
    "plt.bar('GradientBoosting\\nRegressor', rmse_gbr, width=0.4)\n",
    "\n",
    "plt.ylabel('MSE cali_housing')\n",
    "plt.xlabel('Algorithms')\n",
    "plt.show()"
   ]
  },
  {
   "cell_type": "code",
   "execution_count": 53,
   "id": "8f5f473d",
   "metadata": {},
   "outputs": [
    {
     "data": {
      "image/png": "[encoded data removed]",
      "text/plain": [
       "<Figure size 936x432 with 1 Axes>"
      ]
     },
     "metadata": {
      "needs_background": "light"
     },
     "output_type": "display_data"
    }
   ],
   "source": [
    "from sklearn.metrics import accuracy_score as acc\n",
    "\n",
    "plt.figure(figsize=(13, 6))\n",
    "plt.grid(color='w')\n",
    "plt.bar('Logistic\\nRegression', mae_lr, width=0.4)\n",
    "plt.bar('BayesianRidge', mae_br, width=0.4)\n",
    "plt.bar('SVR', mae_svr, width=0.4)\n",
    "plt.bar('KNeighbors\\nRegressor', mae_knn, width=0.4)\n",
    "plt.bar('DecisionTree\\nRegressor', mae_dtr, width=0.4)\n",
    "plt.bar('ElasticNet', mae_en, width=0.4)\n",
    "plt.bar('GradientBoosting\\nRegressor', mae_gbr, width=0.4)\n",
    "\n",
    "plt.ylabel('MSE cali_housing')\n",
    "plt.xlabel('Algorithms')\n",
    "plt.show()"
   ]
  },
  {
   "cell_type": "code",
   "execution_count": 73,
   "id": "350bbd7f",
   "metadata": {},
   "outputs": [
    {
     "data": {
      "image/png": "[encoded data removed]",
      "text/plain": [
       "<Figure size 936x432 with 1 Axes>"
      ]
     },
     "metadata": {
      "needs_background": "light"
     },
     "output_type": "display_data"
    }
   ],
   "source": [
    "plt.figure(figsize=(13, 6))\n",
    "plt.bar('Logistic\\nRegression', elapsed_time_lr, width=0.4)\n",
    "plt.bar('BayesianRidge', elapsed_time_br, width=0.4)\n",
    "plt.bar('SVR', elapsed_time_svr, width=0.4)\n",
    "plt.bar('KNeighbors\\nRegressor', elapsed_time_knn, width=0.4)\n",
    "plt.bar('DecisionTree\\nRegressor', elapsed_time_dtr, width=0.4)\n",
    "plt.bar('ElasticNet', elapsed_time_en, width=0.4)\n",
    "plt.bar('GradientBoosting\\nRegressor', elapsed_time_gbr, width=0.4)\n",
    "\n",
    "plt.ylabel('Elapsed time for algorithms')\n",
    "plt.xlabel('Algorithms')\n",
    "plt.show()"
   ]
  },
  {
   "cell_type": "code",
   "execution_count": null,
   "id": "3ef6b6ab",
   "metadata": {},
   "outputs": [],
   "source": []
  }
 ],
 "metadata": {
  "kernelspec": {
   "display_name": "Python 3",
   "language": "python",
   "name": "python3"
  },
  "language_info": {
   "codemirror_mode": {
    "name": "ipython",
    "version": 3
   },
   "file_extension": ".py",
   "mimetype": "text/x-python",
   "name": "python",
   "nbconvert_exporter": "python",
   "pygments_lexer": "ipython3",
   "version": "3.8.10"
  }
 },
 "nbformat": 4,
 "nbformat_minor": 5
}
