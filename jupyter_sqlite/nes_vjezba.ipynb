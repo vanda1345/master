{
 "cells": [
  {
   "cell_type": "code",
   "execution_count": null,
   "id": "14961cc6",
   "metadata": {},
   "outputs": [],
   "source": [
    "start_time_lr = time.time()\n",
    "lr = LogisticRegression().fit(x_train, y_train)\n",
    "predictions_lr = lr.predict(x_test)\n",
    "elapsed_time_lr = time.time() - start_time_lr\n",
    "\n",
    "print(f\"Logistic regression: \\n time: %.3f\" % elapsed_time_lr)\n",
    "print(classification_report(y_test, predictions_lr))\n"
   ]
  },
  {
   "cell_type": "code",
   "execution_count": null,
   "id": "803985a0",
   "metadata": {},
   "outputs": [],
   "source": [
    "start_time_nb = time.time()\n",
    "nb = GaussianNB().fit(x_train, y_train)\n",
    "predictions_nb = nb.predict(x_test)\n",
    "elapsed_time_nb = time.time() - start_time_nb\n",
    "\n",
    "print(\"GaussianNB: \\n time: %.3f\" % elapsed_time_nb)\n",
    "print(classification_report(y_test, predictions_nb))\n"
   ]
  },
  {
   "cell_type": "code",
   "execution_count": null,
   "id": "6d7cf74c",
   "metadata": {},
   "outputs": [],
   "source": [
    "start_time_svc = time.time()\n",
    "svc = LinearSVC().fit(x_train, y_train)\n",
    "predictions_svc = svc.predict(x_test)\n",
    "elapsed_time_svc = time.time() - start_time_svc\n",
    "\n",
    "print(\"LinearSVC: \\n time: %.3f\" % elapsed_time_svc)\n",
    "print(classification_report(y_test, predictions_svc))\n"
   ]
  },
  {
   "cell_type": "code",
   "execution_count": null,
   "id": "df973c20",
   "metadata": {},
   "outputs": [],
   "source": [
    "start_time_knn = time.time()\n",
    "knn = KNeighborsClassifier().fit(x_train, y_train)\n",
    "predictions_knn = knn.predict(x_test)\n",
    "elapsed_time_knn = time.time() - start_time_knn\n",
    "\n",
    "print(\"KNeighborsClassifier: \\n time: %.3f\" % elapsed_time_knn)\n",
    "print(classification_report(y_test, predictions_knn))"
   ]
  },
  {
   "cell_type": "code",
   "execution_count": null,
   "id": "7873a301",
   "metadata": {},
   "outputs": [],
   "source": [
    "start_time_dtc = time.time()\n",
    "dtc = DecisionTreeClassifier().fit(x_train, y_train)\n",
    "predictions_dtc = dtc.predict(x_test)\n",
    "elapsed_time_dtc = time.time() - start_time_dtc\n",
    "\n",
    "print(\"DecisionTreeClassifier: \\n time: %.3f\" % elapsed_time_dtc)\n",
    "print(classification_report(y_test, predictions_dtc))"
   ]
  },
  {
   "cell_type": "code",
   "execution_count": null,
   "id": "40d43aa6",
   "metadata": {},
   "outputs": [],
   "source": [
    "start_time_rfc = time.time()\n",
    "rfc = RandomForestClassifier().fit(x_train, y_train)\n",
    "predictions_rfc = rfc.predict(x_test)\n",
    "elapsed_time_rfc = time.time() - start_time_rfc\n",
    "\n",
    "print(\"RandomForestClassifier: \\n time: %.3f\" % elapsed_time_rfc)\n",
    "print(classification_report(y_test, predictions_rfc))"
   ]
  },
  {
   "cell_type": "code",
   "execution_count": null,
   "id": "127dee86",
   "metadata": {},
   "outputs": [],
   "source": [
    "start_time_gbc = time.time()\n",
    "gbc = GradientBoostingClassifier().fit(x_train, y_train)\n",
    "predictions_gbc = gbc.predict(x_test)\n",
    "elapsed_time_gbc = time.time() - start_time_gbc\n",
    "\n",
    "print(\"GradientBoostingClassifier: \\n time: %.3f\" % elapsed_time_gbc)\n",
    "print(classification_report(y_test, predictions_gbc))"
   ]
  },
  {
   "cell_type": "code",
   "execution_count": null,
   "id": "932a5fec",
   "metadata": {},
   "outputs": [],
   "source": []
  },
  {
   "cell_type": "code",
   "execution_count": null,
   "id": "4c8e8852",
   "metadata": {},
   "outputs": [],
   "source": []
  }
 ],
 "metadata": {
  "kernelspec": {
   "display_name": "Python 3",
   "language": "python",
   "name": "python3"
  },
  "language_info": {
   "codemirror_mode": {
    "name": "ipython",
    "version": 3
   },
   "file_extension": ".py",
   "mimetype": "text/x-python",
   "name": "python",
   "nbconvert_exporter": "python",
   "pygments_lexer": "ipython3",
   "version": "3.8.5"
  }
 },
 "nbformat": 4,
 "nbformat_minor": 5
}
