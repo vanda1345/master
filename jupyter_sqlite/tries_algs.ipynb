{
 "cells": [
  {
   "cell_type": "code",
   "execution_count": 1,
   "id": "58ca657c",
   "metadata": {},
   "outputs": [],
   "source": [
    "import sqlite3 as sqlite\n",
    "import pandas as pd\n",
    "import matplotlib.pyplot as plt"
   ]
  },
  {
   "cell_type": "code",
   "execution_count": 2,
   "id": "ca58e031",
   "metadata": {},
   "outputs": [],
   "source": [
    "conn_sql = sqlite.connect('MasterAll.db')\n",
    "stroke_c = pd.read_sql('SELECT * FROM stroke_clean', conn_sql)"
   ]
  },
  {
   "cell_type": "code",
   "execution_count": 3,
   "id": "155dc806",
   "metadata": {},
   "outputs": [],
   "source": [
    "X = stroke_c[['gender', 'age', 'hypertension', 'heart_disease', 'ever_married', 'work_type', 'Residence_type', \n",
    "      'avg_glucose_level', 'bmi', 'smoking_status']]\n",
    "y = stroke_c['stroke']\n",
    "\n",
    "from sklearn.model_selection import train_test_split\n",
    "\n",
    "test_size = 0.3\n",
    "seed = 1345\n",
    "x_train, x_test, y_train, y_test = train_test_split(X, y, test_size=test_size, random_state=seed)"
   ]
  },
  {
   "cell_type": "code",
   "execution_count": 2,
   "id": "f10ba67f",
   "metadata": {},
   "outputs": [],
   "source": [
    "from sklearn.naive_bayes import GaussianNB\n",
    "from sklearn.svm import LinearSVC\n",
    "from sklearn.linear_model import LogisticRegression\n",
    "from sklearn.tree import DecisionTreeClassifier \n",
    "from sklearn.neighbors import KNeighborsClassifier\n",
    "from sklearn.svm import SVR\n",
    "from sklearn.ensemble import RandomForestClassifier\n",
    "from sklearn.ensemble import GradientBoostingClassifier\n",
    "\n",
    "from sklearn.metrics import classification_report\n",
    "import time\n"
   ]
  },
  {
   "cell_type": "code",
   "execution_count": 5,
   "id": "63ecf4d4",
   "metadata": {},
   "outputs": [
    {
     "name": "stdout",
     "output_type": "stream",
     "text": [
      "[LibLinear]LogisticRegression: \n",
      " time: 0.053\n",
      "              precision    recall  f1-score   support\n",
      "\n",
      "           0       0.95      1.00      0.97      1453\n",
      "           1       0.00      0.00      0.00        80\n",
      "\n",
      "    accuracy                           0.95      1533\n",
      "   macro avg       0.47      0.50      0.49      1533\n",
      "weighted avg       0.90      0.95      0.92      1533\n",
      "\n"
     ]
    },
    {
     "name": "stderr",
     "output_type": "stream",
     "text": [
      "/home/vanda/Projects/jupyter_notes/lib/python3.8/site-packages/sklearn/metrics/_classification.py:1248: UndefinedMetricWarning: Precision and F-score are ill-defined and being set to 0.0 in labels with no predicted samples. Use `zero_division` parameter to control this behavior.\n",
      "  _warn_prf(average, modifier, msg_start, len(result))\n",
      "/home/vanda/Projects/jupyter_notes/lib/python3.8/site-packages/sklearn/metrics/_classification.py:1248: UndefinedMetricWarning: Precision and F-score are ill-defined and being set to 0.0 in labels with no predicted samples. Use `zero_division` parameter to control this behavior.\n",
      "  _warn_prf(average, modifier, msg_start, len(result))\n",
      "/home/vanda/Projects/jupyter_notes/lib/python3.8/site-packages/sklearn/metrics/_classification.py:1248: UndefinedMetricWarning: Precision and F-score are ill-defined and being set to 0.0 in labels with no predicted samples. Use `zero_division` parameter to control this behavior.\n",
      "  _warn_prf(average, modifier, msg_start, len(result))\n"
     ]
    }
   ],
   "source": [
    "#solver='liblinear'\n",
    "\n",
    "start_time_lr = time.time()\n",
    "lr = LogisticRegression(penalty='l1', solver='liblinear', max_iter=350, verbose=1).fit(x_train, y_train)\n",
    "predictions_lr = lr.predict(x_test)\n",
    "elapsed_time_lr = time.time() - start_time_lr\n",
    "\n",
    "print(f\"LogisticRegression: \\n time: %.3f\" % elapsed_time_lr)\n",
    "print(classification_report(y_test, predictions_lr))\n"
   ]
  },
  {
   "cell_type": "code",
   "execution_count": 6,
   "id": "f685db39",
   "metadata": {},
   "outputs": [
    {
     "name": "stdout",
     "output_type": "stream",
     "text": [
      "LogisticRegression: \n",
      " time: 0.073\n",
      "              precision    recall  f1-score   support\n",
      "\n",
      "           0       0.95      1.00      0.97      1453\n",
      "           1       0.50      0.01      0.02        80\n",
      "\n",
      "    accuracy                           0.95      1533\n",
      "   macro avg       0.72      0.51      0.50      1533\n",
      "weighted avg       0.92      0.95      0.92      1533\n",
      "\n"
     ]
    },
    {
     "name": "stderr",
     "output_type": "stream",
     "text": [
      "/home/vanda/Projects/jupyter_notes/lib/python3.8/site-packages/sklearn/linear_model/_logistic.py:763: ConvergenceWarning: lbfgs failed to converge (status=1):\n",
      "STOP: TOTAL NO. of ITERATIONS REACHED LIMIT.\n",
      "\n",
      "Increase the number of iterations (max_iter) or scale the data as shown in:\n",
      "    https://scikit-learn.org/stable/modules/preprocessing.html\n",
      "Please also refer to the documentation for alternative solver options:\n",
      "    https://scikit-learn.org/stable/modules/linear_model.html#logistic-regression\n",
      "  n_iter_i = _check_optimize_result(\n"
     ]
    }
   ],
   "source": [
    "start_time_lr = time.time()\n",
    "lr = LogisticRegression().fit(x_train, y_train)\n",
    "predictions_lr = lr.predict(x_test)\n",
    "elapsed_time_lr = time.time() - start_time_lr\n",
    "\n",
    "print(f\"LogisticRegression: \\n time: %.3f\" % elapsed_time_lr)\n",
    "print(classification_report(y_test, predictions_lr))"
   ]
  },
  {
   "cell_type": "code",
   "execution_count": 7,
   "id": "baab0b3e",
   "metadata": {},
   "outputs": [
    {
     "name": "stdout",
     "output_type": "stream",
     "text": [
      "LinearSVC: \n",
      " time: 0.292\n",
      "              precision    recall  f1-score   support\n",
      "\n",
      "           0       0.95      1.00      0.97      1453\n",
      "           1       0.00      0.00      0.00        80\n",
      "\n",
      "    accuracy                           0.95      1533\n",
      "   macro avg       0.47      0.50      0.49      1533\n",
      "weighted avg       0.90      0.95      0.92      1533\n",
      "\n"
     ]
    },
    {
     "name": "stderr",
     "output_type": "stream",
     "text": [
      "/home/vanda/Projects/jupyter_notes/lib/python3.8/site-packages/sklearn/svm/_base.py:985: ConvergenceWarning: Liblinear failed to converge, increase the number of iterations.\n",
      "  warnings.warn(\"Liblinear failed to converge, increase \"\n",
      "/home/vanda/Projects/jupyter_notes/lib/python3.8/site-packages/sklearn/metrics/_classification.py:1248: UndefinedMetricWarning: Precision and F-score are ill-defined and being set to 0.0 in labels with no predicted samples. Use `zero_division` parameter to control this behavior.\n",
      "  _warn_prf(average, modifier, msg_start, len(result))\n",
      "/home/vanda/Projects/jupyter_notes/lib/python3.8/site-packages/sklearn/metrics/_classification.py:1248: UndefinedMetricWarning: Precision and F-score are ill-defined and being set to 0.0 in labels with no predicted samples. Use `zero_division` parameter to control this behavior.\n",
      "  _warn_prf(average, modifier, msg_start, len(result))\n",
      "/home/vanda/Projects/jupyter_notes/lib/python3.8/site-packages/sklearn/metrics/_classification.py:1248: UndefinedMetricWarning: Precision and F-score are ill-defined and being set to 0.0 in labels with no predicted samples. Use `zero_division` parameter to control this behavior.\n",
      "  _warn_prf(average, modifier, msg_start, len(result))\n"
     ]
    }
   ],
   "source": [
    "start_time_svc = time.time()\n",
    "svc = LinearSVC(loss='hinge', max_iter=1500, random_state=55).fit(x_train, y_train)\n",
    "predictions_svc = svc.predict(x_test)\n",
    "elapsed_time_svc = time.time() - start_time_svc\n",
    "\n",
    "print(\"LinearSVC: \\n time: %.3f\" % elapsed_time_svc)\n",
    "print(classification_report(y_test, predictions_svc))"
   ]
  },
  {
   "cell_type": "code",
   "execution_count": 13,
   "id": "4df6fc11",
   "metadata": {},
   "outputs": [
    {
     "name": "stdout",
     "output_type": "stream",
     "text": [
      "LinearSVC: \n",
      " time: 0.177\n",
      "              precision    recall  f1-score   support\n",
      "\n",
      "           0       0.95      1.00      0.97      1453\n",
      "           1       0.00      0.00      0.00        80\n",
      "\n",
      "    accuracy                           0.95      1533\n",
      "   macro avg       0.47      0.50      0.49      1533\n",
      "weighted avg       0.90      0.95      0.92      1533\n",
      "\n"
     ]
    },
    {
     "name": "stderr",
     "output_type": "stream",
     "text": [
      "/home/vanda/Projects/jupyter_notes/lib/python3.8/site-packages/sklearn/svm/_base.py:985: ConvergenceWarning: Liblinear failed to converge, increase the number of iterations.\n",
      "  warnings.warn(\"Liblinear failed to converge, increase \"\n",
      "/home/vanda/Projects/jupyter_notes/lib/python3.8/site-packages/sklearn/metrics/_classification.py:1248: UndefinedMetricWarning: Precision and F-score are ill-defined and being set to 0.0 in labels with no predicted samples. Use `zero_division` parameter to control this behavior.\n",
      "  _warn_prf(average, modifier, msg_start, len(result))\n",
      "/home/vanda/Projects/jupyter_notes/lib/python3.8/site-packages/sklearn/metrics/_classification.py:1248: UndefinedMetricWarning: Precision and F-score are ill-defined and being set to 0.0 in labels with no predicted samples. Use `zero_division` parameter to control this behavior.\n",
      "  _warn_prf(average, modifier, msg_start, len(result))\n",
      "/home/vanda/Projects/jupyter_notes/lib/python3.8/site-packages/sklearn/metrics/_classification.py:1248: UndefinedMetricWarning: Precision and F-score are ill-defined and being set to 0.0 in labels with no predicted samples. Use `zero_division` parameter to control this behavior.\n",
      "  _warn_prf(average, modifier, msg_start, len(result))\n"
     ]
    }
   ],
   "source": [
    "start_time_svc = time.time()\n",
    "svc = LinearSVC().fit(x_train, y_train)\n",
    "predictions_svc = svc.predict(x_test)\n",
    "elapsed_time_svc = time.time() - start_time_svc\n",
    "\n",
    "print(\"LinearSVC: \\n time: %.3f\" % elapsed_time_svc)\n",
    "print(classification_report(y_test, predictions_svc))"
   ]
  },
  {
   "cell_type": "code",
   "execution_count": 14,
   "id": "c5fd0433",
   "metadata": {},
   "outputs": [
    {
     "name": "stdout",
     "output_type": "stream",
     "text": [
      "KNeighborsClassifier: \n",
      " time: 0.069\n",
      "              precision    recall  f1-score   support\n",
      "\n",
      "           0       0.95      0.99      0.97      1453\n",
      "           1       0.31      0.05      0.09        80\n",
      "\n",
      "    accuracy                           0.94      1533\n",
      "   macro avg       0.63      0.52      0.53      1533\n",
      "weighted avg       0.92      0.94      0.93      1533\n",
      "\n"
     ]
    }
   ],
   "source": [
    "#min diff between 0.25 and 0.3 test_size\n",
    "#no diff kd_tree and ball_tree\n",
    "start_time_knn = time.time()\n",
    "knn = KNeighborsClassifier(n_neighbors=5, algorithm='kd_tree', leaf_size=55).fit(x_train, y_train)\n",
    "predictions_knn = knn.predict(x_test)\n",
    "elapsed_time_knn = time.time() - start_time_knn\n",
    "\n",
    "print(\"KNeighborsClassifier: \\n time: %.3f\" % elapsed_time_knn)\n",
    "print(classification_report(y_test, predictions_knn))\n",
    "\n"
   ]
  },
  {
   "cell_type": "code",
   "execution_count": 15,
   "id": "3b0da6ae",
   "metadata": {},
   "outputs": [
    {
     "name": "stdout",
     "output_type": "stream",
     "text": [
      "KNeighborsClassifier: \n",
      " time: 0.073\n",
      "              precision    recall  f1-score   support\n",
      "\n",
      "           0       0.95      0.99      0.97      1453\n",
      "           1       0.31      0.05      0.09        80\n",
      "\n",
      "    accuracy                           0.94      1533\n",
      "   macro avg       0.63      0.52      0.53      1533\n",
      "weighted avg       0.92      0.94      0.93      1533\n",
      "\n"
     ]
    }
   ],
   "source": [
    "start_time_knn = time.time()\n",
    "knn = KNeighborsClassifier().fit(x_train, y_train)\n",
    "predictions_knn = knn.predict(x_test)\n",
    "elapsed_time_knn = time.time() - start_time_knn\n",
    "\n",
    "print(\"KNeighborsClassifier: \\n time: %.3f\" % elapsed_time_knn)\n",
    "print(classification_report(y_test, predictions_knn))"
   ]
  },
  {
   "cell_type": "code",
   "execution_count": 16,
   "id": "80612e53",
   "metadata": {},
   "outputs": [
    {
     "name": "stdout",
     "output_type": "stream",
     "text": [
      "DecisionTreeClassifier: \n",
      " time: 0.015\n",
      "              precision    recall  f1-score   support\n",
      "\n",
      "           0       0.95      0.95      0.95      1453\n",
      "           1       0.10      0.10      0.10        80\n",
      "\n",
      "    accuracy                           0.90      1533\n",
      "   macro avg       0.52      0.52      0.52      1533\n",
      "weighted avg       0.91      0.90      0.90      1533\n",
      "\n"
     ]
    }
   ],
   "source": [
    "#best result with criterion='entropy', splitter='random', max_depth=100; (random_state=75 - F1 for 1 = 0.19)\n",
    "# time: 0.021\n",
    "#              precision    recall  f1-score   support\n",
    "\n",
    "#           0       0.96      0.95      0.95      1453\n",
    "#           1       0.20      0.21      0.21        80\n",
    "\n",
    "#    accuracy                           0.91      1533\n",
    "#   macro avg       0.58      0.58      0.58      1533\n",
    "#weighted avg       0.92      0.91      0.92      1533\n",
    "\n",
    "#best result wiht only max_depth=15\n",
    "#  time: 0.033\n",
    "#               precision    recall  f1-score   support\n",
    "\n",
    "#            0       0.96      0.96      0.96      1453\n",
    "#            1       0.22      0.20      0.21        80\n",
    "\n",
    "#     accuracy                           0.92      1533\n",
    "#    macro avg       0.59      0.58      0.58      1533\n",
    "# weighted avg       0.92      0.92      0.92      1533\n",
    "\n",
    "\n",
    "\n",
    "start_time_dtc = time.time()\n",
    "dtc = DecisionTreeClassifier(criterion='entropy', splitter='random', max_depth=100).fit(x_train, y_train)\n",
    "predictions_dtc = dtc.predict(x_test)\n",
    "elapsed_time_dtc = time.time() - start_time_dtc\n",
    "print(\"DecisionTreeClassifier: \\n time: %.3f\" % elapsed_time_dtc)\n",
    "print(classification_report(y_test, predictions_dtc))"
   ]
  },
  {
   "cell_type": "code",
   "execution_count": 279,
   "id": "eb28ae74",
   "metadata": {},
   "outputs": [
    {
     "name": "stdout",
     "output_type": "stream",
     "text": [
      "DecisionTreeClassifier: \n",
      " time: 0.033\n",
      "              precision    recall  f1-score   support\n",
      "\n",
      "           0       0.96      0.96      0.96      1453\n",
      "           1       0.22      0.20      0.21        80\n",
      "\n",
      "    accuracy                           0.92      1533\n",
      "   macro avg       0.59      0.58      0.58      1533\n",
      "weighted avg       0.92      0.92      0.92      1533\n",
      "\n"
     ]
    }
   ],
   "source": [
    "start_time_dtc = time.time()\n",
    "dtc = DecisionTreeClassifier( max_depth=15).fit(x_train, y_train)\n",
    "predictions_dtc = dtc.predict(x_test)\n",
    "elapsed_time_dtc = time.time() - start_time_dtc\n",
    "print(\"DecisionTreeClassifier: \\n time: %.3f\" % elapsed_time_dtc)\n",
    "print(classification_report(y_test, predictions_dtc))"
   ]
  },
  {
   "cell_type": "code",
   "execution_count": 17,
   "id": "ae9386e7",
   "metadata": {},
   "outputs": [
    {
     "name": "stdout",
     "output_type": "stream",
     "text": [
      "RandomForestClassifier: \n",
      " time: 0.423\n",
      "              precision    recall  f1-score   support\n",
      "\n",
      "           0       0.95      1.00      0.97      1453\n",
      "           1       0.00      0.00      0.00        80\n",
      "\n",
      "    accuracy                           0.94      1533\n",
      "   macro avg       0.47      0.50      0.49      1533\n",
      "weighted avg       0.90      0.94      0.92      1533\n",
      "\n"
     ]
    }
   ],
   "source": [
    "#with max_depth=30, random_state=2, bootstrap=False\n",
    "#  time: 0.745\n",
    "#               precision    recall  f1-score   support\n",
    "\n",
    "#            0       0.95      0.99      0.97      1453\n",
    "#            1       0.10      0.01      0.02        80\n",
    "\n",
    "#     accuracy                           0.94      1533\n",
    "#    macro avg       0.52      0.50      0.50      1533\n",
    "# weighted avg       0.90      0.94      0.92      1533\n",
    "\n",
    "#with max_depth=30\n",
    "# time: 0.608\n",
    "#               precision    recall  f1-score   support\n",
    "\n",
    "#            0       0.95      1.00      0.97      1453\n",
    "#            1       0.25      0.01      0.02        80\n",
    "\n",
    "#     accuracy                           0.95      1533\n",
    "#    macro avg       0.60      0.51      0.50      1533\n",
    "# weighted avg       0.91      0.95      0.92      1533\n",
    "\n",
    "\n",
    "\n",
    "start_time_rfc = time.time()\n",
    "rfc = RandomForestClassifier(max_depth=30).fit(x_train, y_train)\n",
    "predictions_rfc = rfc.predict(x_test)\n",
    "elapsed_time_rfc = time.time() - start_time_rfc\n",
    "\n",
    "print(\"RandomForestClassifier: \\n time: %.3f\" % elapsed_time_rfc)\n",
    "print(classification_report(y_test, predictions_rfc))"
   ]
  },
  {
   "cell_type": "code",
   "execution_count": 292,
   "id": "d53f9731",
   "metadata": {},
   "outputs": [
    {
     "name": "stdout",
     "output_type": "stream",
     "text": [
      "RandomForestClassifier: \n",
      " time: 0.612\n",
      "              precision    recall  f1-score   support\n",
      "\n",
      "           0       0.95      1.00      0.97      1453\n",
      "           1       0.00      0.00      0.00        80\n",
      "\n",
      "    accuracy                           0.95      1533\n",
      "   macro avg       0.47      0.50      0.49      1533\n",
      "weighted avg       0.90      0.95      0.92      1533\n",
      "\n"
     ]
    }
   ],
   "source": [
    "start_time_rfc = time.time()\n",
    "rfc = RandomForestClassifier().fit(x_train, y_train)\n",
    "predictions_rfc = rfc.predict(x_test)\n",
    "elapsed_time_rfc = time.time() - start_time_rfc\n",
    "\n",
    "print(\"RandomForestClassifier: \\n time: %.3f\" % elapsed_time_rfc)\n",
    "print(classification_report(y_test, predictions_rfc))"
   ]
  },
  {
   "cell_type": "code",
   "execution_count": 18,
   "id": "8e841eec",
   "metadata": {},
   "outputs": [
    {
     "name": "stdout",
     "output_type": "stream",
     "text": [
      "GradientBoostingClassifier: \n",
      " time: 0.715\n",
      "              precision    recall  f1-score   support\n",
      "\n",
      "           0       0.95      0.97      0.96      1453\n",
      "           1       0.24      0.15      0.18        80\n",
      "\n",
      "    accuracy                           0.93      1533\n",
      "   macro avg       0.60      0.56      0.57      1533\n",
      "weighted avg       0.92      0.93      0.92      1533\n",
      "\n"
     ]
    }
   ],
   "source": [
    "#max_depth=5, learning_rate=0.9\n",
    "#  time: 1.120\n",
    "#               precision    recall  f1-score   support\n",
    "\n",
    "#            0       0.95      0.97      0.96      1453\n",
    "#            1       0.26      0.16      0.20        80\n",
    "\n",
    "#     accuracy                           0.93      1533\n",
    "#    macro avg       0.61      0.57      0.58      1533\n",
    "# weighted avg       0.92      0.93      0.92      1533\n",
    "\n",
    "start_time_gbc = time.time()\n",
    "gbc = GradientBoostingClassifier(max_depth=5, learning_rate=0.9).fit(x_train, y_train)\n",
    "predictions_gbc = gbc.predict(x_test)\n",
    "elapsed_time_gbc = time.time() - start_time_gbc\n",
    "\n",
    "print(\"GradientBoostingClassifier: \\n time: %.3f\" % elapsed_time_gbc)\n",
    "print(classification_report(y_test, predictions_gbc))"
   ]
  },
  {
   "cell_type": "code",
   "execution_count": 295,
   "id": "4516ec99",
   "metadata": {},
   "outputs": [
    {
     "name": "stdout",
     "output_type": "stream",
     "text": [
      "GradientBoostingClassifier: \n",
      " time: 0.682\n",
      "              precision    recall  f1-score   support\n",
      "\n",
      "           0       0.95      0.99      0.97      1453\n",
      "           1       0.12      0.03      0.04        80\n",
      "\n",
      "    accuracy                           0.94      1533\n",
      "   macro avg       0.54      0.51      0.51      1533\n",
      "weighted avg       0.91      0.94      0.92      1533\n",
      "\n"
     ]
    }
   ],
   "source": [
    "start_time_gbc = time.time()\n",
    "gbc = GradientBoostingClassifier().fit(x_train, y_train)\n",
    "predictions_gbc = gbc.predict(x_test)\n",
    "elapsed_time_gbc = time.time() - start_time_gbc\n",
    "print(\"GradientBoostingClassifier: \\n time: %.3f\" % elapsed_time_gbc)\n",
    "print(classification_report(y_test, predictions_gbc))"
   ]
  },
  {
   "cell_type": "markdown",
   "id": "c3c3b557",
   "metadata": {},
   "source": [
    "# Hotel_satisfaction"
   ]
  },
  {
   "cell_type": "code",
   "execution_count": 19,
   "id": "15feb852",
   "metadata": {},
   "outputs": [
    {
     "data": {
      "text/html": [
       "<div>\n",
       "<style scoped>\n",
       "    .dataframe tbody tr th:only-of-type {\n",
       "        vertical-align: middle;\n",
       "    }\n",
       "\n",
       "    .dataframe tbody tr th {\n",
       "        vertical-align: top;\n",
       "    }\n",
       "\n",
       "    .dataframe thead th {\n",
       "        text-align: right;\n",
       "    }\n",
       "</style>\n",
       "<table border=\"1\" class=\"dataframe\">\n",
       "  <thead>\n",
       "    <tr style=\"text-align: right;\">\n",
       "      <th></th>\n",
       "      <th>id</th>\n",
       "      <th>gender</th>\n",
       "      <th>age</th>\n",
       "      <th>purpose_of_travel</th>\n",
       "      <th>type_of_travel</th>\n",
       "      <th>type_of_booking</th>\n",
       "      <th>hotel_wifi_service</th>\n",
       "      <th>departure/arrival__convenience</th>\n",
       "      <th>ease_of_online_booking</th>\n",
       "      <th>hotel_location</th>\n",
       "      <th>food_and_drink</th>\n",
       "      <th>stay_comfort</th>\n",
       "      <th>common_room_entertainment</th>\n",
       "      <th>checkin/checkout_service</th>\n",
       "      <th>other_service</th>\n",
       "      <th>cleanliness</th>\n",
       "      <th>satisfaction</th>\n",
       "    </tr>\n",
       "  </thead>\n",
       "  <tbody>\n",
       "    <tr>\n",
       "      <th>0</th>\n",
       "      <td>70172</td>\n",
       "      <td>1</td>\n",
       "      <td>13</td>\n",
       "      <td>1</td>\n",
       "      <td>1</td>\n",
       "      <td>2</td>\n",
       "      <td>3</td>\n",
       "      <td>4</td>\n",
       "      <td>3</td>\n",
       "      <td>1</td>\n",
       "      <td>5</td>\n",
       "      <td>5</td>\n",
       "      <td>5</td>\n",
       "      <td>4</td>\n",
       "      <td>5</td>\n",
       "      <td>5</td>\n",
       "      <td>0</td>\n",
       "    </tr>\n",
       "    <tr>\n",
       "      <th>1</th>\n",
       "      <td>5047</td>\n",
       "      <td>1</td>\n",
       "      <td>25</td>\n",
       "      <td>4</td>\n",
       "      <td>0</td>\n",
       "      <td>0</td>\n",
       "      <td>3</td>\n",
       "      <td>2</td>\n",
       "      <td>3</td>\n",
       "      <td>3</td>\n",
       "      <td>1</td>\n",
       "      <td>1</td>\n",
       "      <td>1</td>\n",
       "      <td>1</td>\n",
       "      <td>4</td>\n",
       "      <td>1</td>\n",
       "      <td>0</td>\n",
       "    </tr>\n",
       "    <tr>\n",
       "      <th>2</th>\n",
       "      <td>110028</td>\n",
       "      <td>0</td>\n",
       "      <td>26</td>\n",
       "      <td>4</td>\n",
       "      <td>0</td>\n",
       "      <td>0</td>\n",
       "      <td>2</td>\n",
       "      <td>2</td>\n",
       "      <td>2</td>\n",
       "      <td>2</td>\n",
       "      <td>5</td>\n",
       "      <td>5</td>\n",
       "      <td>5</td>\n",
       "      <td>4</td>\n",
       "      <td>4</td>\n",
       "      <td>5</td>\n",
       "      <td>1</td>\n",
       "    </tr>\n",
       "    <tr>\n",
       "      <th>3</th>\n",
       "      <td>24026</td>\n",
       "      <td>0</td>\n",
       "      <td>25</td>\n",
       "      <td>4</td>\n",
       "      <td>0</td>\n",
       "      <td>0</td>\n",
       "      <td>2</td>\n",
       "      <td>5</td>\n",
       "      <td>5</td>\n",
       "      <td>5</td>\n",
       "      <td>2</td>\n",
       "      <td>2</td>\n",
       "      <td>2</td>\n",
       "      <td>1</td>\n",
       "      <td>4</td>\n",
       "      <td>2</td>\n",
       "      <td>0</td>\n",
       "    </tr>\n",
       "    <tr>\n",
       "      <th>4</th>\n",
       "      <td>119299</td>\n",
       "      <td>1</td>\n",
       "      <td>61</td>\n",
       "      <td>1</td>\n",
       "      <td>0</td>\n",
       "      <td>0</td>\n",
       "      <td>3</td>\n",
       "      <td>3</td>\n",
       "      <td>3</td>\n",
       "      <td>3</td>\n",
       "      <td>4</td>\n",
       "      <td>5</td>\n",
       "      <td>3</td>\n",
       "      <td>3</td>\n",
       "      <td>3</td>\n",
       "      <td>3</td>\n",
       "      <td>1</td>\n",
       "    </tr>\n",
       "  </tbody>\n",
       "</table>\n",
       "</div>"
      ],
      "text/plain": [
       "       id  gender  age  purpose_of_travel  type_of_travel  type_of_booking  \\\n",
       "0   70172       1   13                  1               1                2   \n",
       "1    5047       1   25                  4               0                0   \n",
       "2  110028       0   26                  4               0                0   \n",
       "3   24026       0   25                  4               0                0   \n",
       "4  119299       1   61                  1               0                0   \n",
       "\n",
       "   hotel_wifi_service  departure/arrival__convenience  ease_of_online_booking  \\\n",
       "0                   3                               4                       3   \n",
       "1                   3                               2                       3   \n",
       "2                   2                               2                       2   \n",
       "3                   2                               5                       5   \n",
       "4                   3                               3                       3   \n",
       "\n",
       "   hotel_location  food_and_drink  stay_comfort  common_room_entertainment  \\\n",
       "0               1               5             5                          5   \n",
       "1               3               1             1                          1   \n",
       "2               2               5             5                          5   \n",
       "3               5               2             2                          2   \n",
       "4               3               4             5                          3   \n",
       "\n",
       "   checkin/checkout_service  other_service  cleanliness  satisfaction  \n",
       "0                         4              5            5             0  \n",
       "1                         1              4            1             0  \n",
       "2                         4              4            5             1  \n",
       "3                         1              4            2             0  \n",
       "4                         3              3            3             1  "
      ]
     },
     "execution_count": 19,
     "metadata": {},
     "output_type": "execute_result"
    }
   ],
   "source": [
    "hotel_satisfaction_c = pd.read_sql('SELECT * FROM hotel_satisfaction_clean', conn_sql)\n",
    "hotel_satisfaction_c.head()"
   ]
  },
  {
   "cell_type": "code",
   "execution_count": 21,
   "id": "428d2a3c",
   "metadata": {},
   "outputs": [],
   "source": [
    "#after preprocessing we define our target and features\n",
    "X = hotel_satisfaction_c[['gender', 'age', 'purpose_of_travel', 'type_of_travel', 'type_of_booking', 'hotel_wifi_service', 'departure/arrival__convenience', \n",
    "      'ease_of_online_booking', 'hotel_location', 'food_and_drink', 'stay_comfort', 'common_room_entertainment', 'checkin/checkout_service',\n",
    "    'other_service', 'cleanliness']]\n",
    "y = hotel_satisfaction_c['satisfaction']\n",
    "\n",
    "from sklearn.model_selection import train_test_split\n",
    "\n",
    "test_size = 0.25\n",
    "seed = 7\n",
    "x_train, x_test, y_train, y_test = train_test_split(X, y, test_size=test_size, random_state=seed)"
   ]
  },
  {
   "cell_type": "code",
   "execution_count": 22,
   "id": "261f25f0",
   "metadata": {},
   "outputs": [
    {
     "name": "stdout",
     "output_type": "stream",
     "text": [
      "LogisticRegression: \n",
      " time: 3.965\n",
      "              precision    recall  f1-score   support\n",
      "\n",
      "           0       0.86      0.85      0.86     14672\n",
      "           1       0.81      0.82      0.81     11304\n",
      "\n",
      "    accuracy                           0.84     25976\n",
      "   macro avg       0.83      0.84      0.83     25976\n",
      "weighted avg       0.84      0.84      0.84     25976\n",
      "\n"
     ]
    }
   ],
   "source": [
    "#solver='liblinear'\n",
    "\n",
    "start_time_lr = time.time()\n",
    "lr = LogisticRegression(penalty='none', solver='saga').fit(x_train, y_train)\n",
    "predictions_lr = lr.predict(x_test)\n",
    "elapsed_time_lr = time.time() - start_time_lr\n",
    "\n",
    "print(f\"LogisticRegression: \\n time: %.3f\" % elapsed_time_lr)\n",
    "print(classification_report(y_test, predictions_lr))\n"
   ]
  },
  {
   "cell_type": "code",
   "execution_count": 23,
   "id": "79e89362",
   "metadata": {},
   "outputs": [
    {
     "name": "stdout",
     "output_type": "stream",
     "text": [
      "LogisticRegression: \n",
      " time: 1.022\n",
      "              precision    recall  f1-score   support\n",
      "\n",
      "           0       0.86      0.85      0.85     14672\n",
      "           1       0.81      0.81      0.81     11304\n",
      "\n",
      "    accuracy                           0.84     25976\n",
      "   macro avg       0.83      0.83      0.83     25976\n",
      "weighted avg       0.84      0.84      0.84     25976\n",
      "\n"
     ]
    },
    {
     "name": "stderr",
     "output_type": "stream",
     "text": [
      "/home/vanda/Projects/jupyter_notes/lib/python3.8/site-packages/sklearn/linear_model/_logistic.py:763: ConvergenceWarning: lbfgs failed to converge (status=1):\n",
      "STOP: TOTAL NO. of ITERATIONS REACHED LIMIT.\n",
      "\n",
      "Increase the number of iterations (max_iter) or scale the data as shown in:\n",
      "    https://scikit-learn.org/stable/modules/preprocessing.html\n",
      "Please also refer to the documentation for alternative solver options:\n",
      "    https://scikit-learn.org/stable/modules/linear_model.html#logistic-regression\n",
      "  n_iter_i = _check_optimize_result(\n"
     ]
    }
   ],
   "source": [
    "start_time_lr = time.time()\n",
    "lr = LogisticRegression().fit(x_train, y_train)\n",
    "predictions_lr = lr.predict(x_test)\n",
    "elapsed_time_lr = time.time() - start_time_lr\n",
    "\n",
    "print(f\"LogisticRegression: \\n time: %.3f\" % elapsed_time_lr)\n",
    "print(classification_report(y_test, predictions_lr))"
   ]
  },
  {
   "cell_type": "code",
   "execution_count": 329,
   "id": "bfd0258e",
   "metadata": {},
   "outputs": [
    {
     "name": "stdout",
     "output_type": "stream",
     "text": [
      "LinearSVC: \n",
      " time: 94.609\n",
      "              precision    recall  f1-score   support\n",
      "\n",
      "           0       0.85      0.88      0.86     14672\n",
      "           1       0.84      0.79      0.81     11304\n",
      "\n",
      "    accuracy                           0.84     25976\n",
      "   macro avg       0.84      0.84      0.84     25976\n",
      "weighted avg       0.84      0.84      0.84     25976\n",
      "\n"
     ]
    },
    {
     "name": "stderr",
     "output_type": "stream",
     "text": [
      "/home/vanda/Projects/jupyter_notes/lib/python3.8/site-packages/sklearn/svm/_base.py:985: ConvergenceWarning: Liblinear failed to converge, increase the number of iterations.\n",
      "  warnings.warn(\"Liblinear failed to converge, increase \"\n"
     ]
    }
   ],
   "source": [
    "# bad results with loss=hinge penalty=l2\n",
    "# time: 129.953\n",
    "#               precision    recall  f1-score   support\n",
    "\n",
    "#            0       0.63      0.99      0.77     14672\n",
    "#            1       0.93      0.24      0.39     11304\n",
    "\n",
    "#     accuracy                           0.66     25976\n",
    "#    macro avg       0.78      0.62      0.58     25976\n",
    "# weighted avg       0.76      0.66      0.60     25976\n",
    "\n",
    "#best resulst with loss='hinge', but with higher iterations to remove the error slower time\n",
    "#with max_iter=10000 error still wasn't removed\n",
    "# time: 94.609\n",
    "#               precision    recall  f1-score   support\n",
    "\n",
    "#            0       0.85      0.88      0.86     14672\n",
    "#            1       0.84      0.79      0.81     11304\n",
    "\n",
    "#     accuracy                           0.84     25976\n",
    "#    macro avg       0.84      0.84      0.84     25976\n",
    "# weighted avg       0.84      0.84      0.84     25976\n",
    "\n",
    "start_time_svc = time.time()\n",
    "svc = LinearSVC(loss='hinge', max_iter=5000).fit(x_train, y_train)\n",
    "predictions_svc = svc.predict(x_test)\n",
    "elapsed_time_svc = time.time() - start_time_svc\n",
    "\n",
    "print(\"LinearSVC: \\n time: %.3f\" % elapsed_time_svc)\n",
    "print(classification_report(y_test, predictions_svc))"
   ]
  },
  {
   "cell_type": "code",
   "execution_count": 25,
   "id": "6acd7d3e",
   "metadata": {},
   "outputs": [
    {
     "name": "stdout",
     "output_type": "stream",
     "text": [
      "LinearSVC: \n",
      " time: 23.842\n",
      "              precision    recall  f1-score   support\n",
      "\n",
      "           0       0.85      0.86      0.86     14672\n",
      "           1       0.82      0.80      0.81     11304\n",
      "\n",
      "    accuracy                           0.84     25976\n",
      "   macro avg       0.83      0.83      0.83     25976\n",
      "weighted avg       0.84      0.84      0.84     25976\n",
      "\n"
     ]
    },
    {
     "name": "stderr",
     "output_type": "stream",
     "text": [
      "/home/vanda/Projects/jupyter_notes/lib/python3.8/site-packages/sklearn/svm/_base.py:985: ConvergenceWarning: Liblinear failed to converge, increase the number of iterations.\n",
      "  warnings.warn(\"Liblinear failed to converge, increase \"\n"
     ]
    }
   ],
   "source": [
    "start_time_svc = time.time()\n",
    "svc = LinearSVC().fit(x_train, y_train)\n",
    "predictions_svc = svc.predict(x_test)\n",
    "elapsed_time_svc = time.time() - start_time_svc\n",
    "\n",
    "print(\"LinearSVC: \\n time: %.3f\" % elapsed_time_svc)\n",
    "print(classification_report(y_test, predictions_svc))"
   ]
  },
  {
   "cell_type": "code",
   "execution_count": 26,
   "id": "c4234561",
   "metadata": {},
   "outputs": [
    {
     "name": "stdout",
     "output_type": "stream",
     "text": [
      "KNeighborsClassifier: \n",
      " time: 12.488\n",
      "              precision    recall  f1-score   support\n",
      "\n",
      "           0       0.89      0.92      0.90     14672\n",
      "           1       0.89      0.85      0.87     11304\n",
      "\n",
      "    accuracy                           0.89     25976\n",
      "   macro avg       0.89      0.88      0.88     25976\n",
      "weighted avg       0.89      0.89      0.89     25976\n",
      "\n"
     ]
    }
   ],
   "source": [
    "#min diff between 0.25 and 0.3 test_size\n",
    "#no diff kd_tree and ball_tree\n",
    "start_time_knn = time.time()\n",
    "knn = KNeighborsClassifier(n_neighbors=15, weights='distance', algorithm='kd_tree').fit(x_train, y_train)\n",
    "predictions_knn = knn.predict(x_test)\n",
    "elapsed_time_knn = time.time() - start_time_knn\n",
    "\n",
    "print(\"KNeighborsClassifier: \\n time: %.3f\" % elapsed_time_knn)\n",
    "print(classification_report(y_test, predictions_knn))"
   ]
  },
  {
   "cell_type": "code",
   "execution_count": 331,
   "id": "4b670219",
   "metadata": {},
   "outputs": [
    {
     "name": "stdout",
     "output_type": "stream",
     "text": [
      "KNeighborsClassifier: \n",
      " time: 13.350\n",
      "              precision    recall  f1-score   support\n",
      "\n",
      "           0       0.89      0.91      0.90     14672\n",
      "           1       0.88      0.86      0.87     11304\n",
      "\n",
      "    accuracy                           0.89     25976\n",
      "   macro avg       0.89      0.88      0.89     25976\n",
      "weighted avg       0.89      0.89      0.89     25976\n",
      "\n"
     ]
    }
   ],
   "source": [
    "start_time_knn = time.time()\n",
    "knn = KNeighborsClassifier().fit(x_train, y_train)\n",
    "predictions_knn = knn.predict(x_test)\n",
    "elapsed_time_knn = time.time() - start_time_knn\n",
    "print(\"KNeighborsClassifier: \\n time: %.3f\" % elapsed_time_knn)\n",
    "print(classification_report(y_test, predictions_knn))"
   ]
  },
  {
   "cell_type": "code",
   "execution_count": 37,
   "id": "2e789cea",
   "metadata": {},
   "outputs": [
    {
     "name": "stdout",
     "output_type": "stream",
     "text": [
      "DecisionTreeClassifier: \n",
      " time: 0.290\n",
      "              precision    recall  f1-score   support\n",
      "\n",
      "           0       0.95      0.94      0.94     14672\n",
      "           1       0.92      0.93      0.93     11304\n",
      "\n",
      "    accuracy                           0.93     25976\n",
      "   macro avg       0.93      0.93      0.93     25976\n",
      "weighted avg       0.94      0.93      0.94     25976\n",
      "\n"
     ]
    }
   ],
   "source": [
    "#niski max_depth smanjuje f1 score\n",
    "#min diff between 0.25 and 0.3 test_size\n",
    "#izgleda da samo max_depth utjece na rezulat\n",
    "#DecisionTreeClassifier: \n",
    "# time: 0.190\n",
    "#              precision    recall  f1-score   support\n",
    "#\n",
    "#           0       0.95      0.93      0.94     14672\n",
    "#           1       0.92      0.93      0.92     11304\n",
    "#\n",
    "#    accuracy                           0.93     25976\n",
    "#   macro avg       0.93      0.93      0.93     25976\n",
    "#weighted avg       0.93      0.93      0.93     25976\n",
    "\n",
    "start_time_dtc = time.time()\n",
    "dtc = DecisionTreeClassifier(max_depth=15).fit(x_train, y_train)\n",
    "predictions_dtc = dtc.predict(x_test)\n",
    "elapsed_time_dtc = time.time() - start_time_dtc\n",
    "print(\"DecisionTreeClassifier: \\n time: %.3f\" % elapsed_time_dtc)\n",
    "print(classification_report(y_test, predictions_dtc))"
   ]
  },
  {
   "cell_type": "code",
   "execution_count": 29,
   "id": "07b0db54",
   "metadata": {},
   "outputs": [
    {
     "name": "stdout",
     "output_type": "stream",
     "text": [
      "DecisionTreeClassifier: \n",
      " time: 0.366\n",
      "              precision    recall  f1-score   support\n",
      "\n",
      "           0       0.94      0.93      0.93     14672\n",
      "           1       0.91      0.92      0.92     11304\n",
      "\n",
      "    accuracy                           0.93     25976\n",
      "   macro avg       0.92      0.93      0.92     25976\n",
      "weighted avg       0.93      0.93      0.93     25976\n",
      "\n"
     ]
    }
   ],
   "source": [
    "start_time_dtc = time.time()\n",
    "dtc = DecisionTreeClassifier().fit(x_train, y_train)\n",
    "predictions_dtc = dtc.predict(x_test)\n",
    "elapsed_time_dtc = time.time() - start_time_dtc\n",
    "print(\"DecisionTreeClassifier: \\n time: %.3f\" % elapsed_time_dtc)\n",
    "print(classification_report(y_test, predictions_dtc))"
   ]
  },
  {
   "cell_type": "code",
   "execution_count": 33,
   "id": "8a0b0c89",
   "metadata": {},
   "outputs": [
    {
     "name": "stdout",
     "output_type": "stream",
     "text": [
      "RandomForestClassifier: \n",
      " time: 81.196\n",
      "              precision    recall  f1-score   support\n",
      "\n",
      "           0       0.95      0.96      0.96     14672\n",
      "           1       0.95      0.93      0.94     11304\n",
      "\n",
      "    accuracy                           0.95     25976\n",
      "   macro avg       0.95      0.95      0.95     25976\n",
      "weighted avg       0.95      0.95      0.95     25976\n",
      "\n"
     ]
    }
   ],
   "source": [
    "start_time_rfc = time.time()\n",
    "rfc = RandomForestClassifier(n_estimators=500, max_depth=30, random_state=2, bootstrap=False).fit(x_train, y_train)\n",
    "predictions_rfc = rfc.predict(x_test)\n",
    "elapsed_time_rfc = time.time() - start_time_rfc\n",
    "\n",
    "print(\"RandomForestClassifier: \\n time: %.3f\" % elapsed_time_rfc)\n",
    "print(classification_report(y_test, predictions_rfc))"
   ]
  },
  {
   "cell_type": "code",
   "execution_count": 34,
   "id": "7a75b861",
   "metadata": {},
   "outputs": [
    {
     "name": "stdout",
     "output_type": "stream",
     "text": [
      "RandomForestClassifier: \n",
      " time: 10.395\n",
      "              precision    recall  f1-score   support\n",
      "\n",
      "           0       0.95      0.96      0.96     14672\n",
      "           1       0.95      0.93      0.94     11304\n",
      "\n",
      "    accuracy                           0.95     25976\n",
      "   macro avg       0.95      0.95      0.95     25976\n",
      "weighted avg       0.95      0.95      0.95     25976\n",
      "\n"
     ]
    }
   ],
   "source": [
    "#min diff between 0.25 and 0.3 test_size\n",
    "start_time_rfc = time.time()\n",
    "rfc = RandomForestClassifier().fit(x_train, y_train)\n",
    "predictions_rfc = rfc.predict(x_test)\n",
    "elapsed_time_rfc = time.time() - start_time_rfc\n",
    "\n",
    "print(\"RandomForestClassifier: \\n time: %.3f\" % elapsed_time_rfc)\n",
    "print(classification_report(y_test, predictions_rfc))"
   ]
  },
  {
   "cell_type": "code",
   "execution_count": 35,
   "id": "8eb9afa6",
   "metadata": {},
   "outputs": [
    {
     "name": "stdout",
     "output_type": "stream",
     "text": [
      "GradientBoostingClassifier: \n",
      " time: 34.410\n",
      "              precision    recall  f1-score   support\n",
      "\n",
      "           0       0.95      0.96      0.96     14672\n",
      "           1       0.95      0.93      0.94     11304\n",
      "\n",
      "    accuracy                           0.95     25976\n",
      "   macro avg       0.95      0.95      0.95     25976\n",
      "weighted avg       0.95      0.95      0.95     25976\n",
      "\n"
     ]
    }
   ],
   "source": [
    "#tried with loss='exponential' and n_esitmators=150 with no diff/worse results\n",
    "#test_size=0.25\n",
    "start_time_gbc = time.time()\n",
    "gbc = GradientBoostingClassifier(loss='exponential', max_depth=5, learning_rate=0.4, n_estimators=150).fit(x_train, y_train)\n",
    "predictions_gbc = gbc.predict(x_test)\n",
    "elapsed_time_gbc = time.time() - start_time_gbc\n",
    "\n",
    "print(\"GradientBoostingClassifier: \\n time: %.3f\" % elapsed_time_gbc)\n",
    "print(classification_report(y_test, predictions_gbc))"
   ]
  },
  {
   "cell_type": "code",
   "execution_count": 38,
   "id": "5226f3b3",
   "metadata": {},
   "outputs": [
    {
     "name": "stdout",
     "output_type": "stream",
     "text": [
      "GradientBoostingClassifier: \n",
      " time: 22.347\n",
      "              precision    recall  f1-score   support\n",
      "\n",
      "           0       0.95      0.96      0.96     14672\n",
      "           1       0.95      0.94      0.94     11304\n",
      "\n",
      "    accuracy                           0.95     25976\n",
      "   macro avg       0.95      0.95      0.95     25976\n",
      "weighted avg       0.95      0.95      0.95     25976\n",
      "\n"
     ]
    }
   ],
   "source": [
    "#test_size=0.25\n",
    "#best result with max_depth=5, learning_rate=0.4\n",
    "#  time: 20.370\n",
    "#               precision    recall  f1-score   support\n",
    "\n",
    "#            0       0.95      0.96      0.96     14672\n",
    "#            1       0.95      0.94      0.94     11304\n",
    "\n",
    "#     accuracy                           0.95     25976\n",
    "#    macro avg       0.95      0.95      0.95     25976\n",
    "# weighted avg       0.95      0.95      0.95     25976\n",
    "\n",
    "start_time_gbc = time.time()\n",
    "gbc = GradientBoostingClassifier(max_depth=5, learning_rate=0.4).fit(x_train, y_train)\n",
    "predictions_gbc = gbc.predict(x_test)\n",
    "elapsed_time_gbc = time.time() - start_time_gbc\n",
    "print(\"GradientBoostingClassifier: \\n time: %.3f\" % elapsed_time_gbc)\n",
    "print(classification_report(y_test, predictions_gbc))"
   ]
  },
  {
   "cell_type": "markdown",
   "id": "bb83054c",
   "metadata": {},
   "source": [
    "# Hotel booking city"
   ]
  },
  {
   "cell_type": "code",
   "execution_count": 11,
   "id": "3de0e1ca",
   "metadata": {},
   "outputs": [
    {
     "data": {
      "text/html": [
       "<div>\n",
       "<style scoped>\n",
       "    .dataframe tbody tr th:only-of-type {\n",
       "        vertical-align: middle;\n",
       "    }\n",
       "\n",
       "    .dataframe tbody tr th {\n",
       "        vertical-align: top;\n",
       "    }\n",
       "\n",
       "    .dataframe thead th {\n",
       "        text-align: right;\n",
       "    }\n",
       "</style>\n",
       "<table border=\"1\" class=\"dataframe\">\n",
       "  <thead>\n",
       "    <tr style=\"text-align: right;\">\n",
       "      <th></th>\n",
       "      <th>IsCanceled</th>\n",
       "      <th>LeadTime</th>\n",
       "      <th>StaysInWeekendNights</th>\n",
       "      <th>StaysInWeekNights</th>\n",
       "      <th>Adults</th>\n",
       "      <th>Babies</th>\n",
       "      <th>Meal</th>\n",
       "      <th>MarketSegment</th>\n",
       "      <th>DistributionChannel</th>\n",
       "      <th>IsRepeatedGuest</th>\n",
       "      <th>...</th>\n",
       "      <th>ReservedRoomType</th>\n",
       "      <th>AssignedRoomType</th>\n",
       "      <th>BookingChanges</th>\n",
       "      <th>DepositType</th>\n",
       "      <th>DaysInWaitingList</th>\n",
       "      <th>CustomerType</th>\n",
       "      <th>ADR</th>\n",
       "      <th>RequiredCarParkingSpaces</th>\n",
       "      <th>TotalOfSpecialRequests</th>\n",
       "      <th>ReservationStatus</th>\n",
       "    </tr>\n",
       "  </thead>\n",
       "  <tbody>\n",
       "    <tr>\n",
       "      <th>0</th>\n",
       "      <td>0</td>\n",
       "      <td>6</td>\n",
       "      <td>0</td>\n",
       "      <td>2</td>\n",
       "      <td>1</td>\n",
       "      <td>0</td>\n",
       "      <td>2</td>\n",
       "      <td>5</td>\n",
       "      <td>3</td>\n",
       "      <td>0</td>\n",
       "      <td>...</td>\n",
       "      <td>0</td>\n",
       "      <td>0</td>\n",
       "      <td>0</td>\n",
       "      <td>0</td>\n",
       "      <td>0</td>\n",
       "      <td>2</td>\n",
       "      <td>0.0</td>\n",
       "      <td>0</td>\n",
       "      <td>0</td>\n",
       "      <td>1</td>\n",
       "    </tr>\n",
       "    <tr>\n",
       "      <th>1</th>\n",
       "      <td>1</td>\n",
       "      <td>88</td>\n",
       "      <td>0</td>\n",
       "      <td>4</td>\n",
       "      <td>2</td>\n",
       "      <td>0</td>\n",
       "      <td>0</td>\n",
       "      <td>6</td>\n",
       "      <td>3</td>\n",
       "      <td>0</td>\n",
       "      <td>...</td>\n",
       "      <td>0</td>\n",
       "      <td>0</td>\n",
       "      <td>0</td>\n",
       "      <td>0</td>\n",
       "      <td>0</td>\n",
       "      <td>2</td>\n",
       "      <td>76.5</td>\n",
       "      <td>0</td>\n",
       "      <td>1</td>\n",
       "      <td>0</td>\n",
       "    </tr>\n",
       "    <tr>\n",
       "      <th>2</th>\n",
       "      <td>1</td>\n",
       "      <td>65</td>\n",
       "      <td>0</td>\n",
       "      <td>4</td>\n",
       "      <td>1</td>\n",
       "      <td>0</td>\n",
       "      <td>0</td>\n",
       "      <td>6</td>\n",
       "      <td>3</td>\n",
       "      <td>0</td>\n",
       "      <td>...</td>\n",
       "      <td>0</td>\n",
       "      <td>0</td>\n",
       "      <td>0</td>\n",
       "      <td>0</td>\n",
       "      <td>0</td>\n",
       "      <td>2</td>\n",
       "      <td>68.0</td>\n",
       "      <td>0</td>\n",
       "      <td>1</td>\n",
       "      <td>0</td>\n",
       "    </tr>\n",
       "    <tr>\n",
       "      <th>3</th>\n",
       "      <td>1</td>\n",
       "      <td>92</td>\n",
       "      <td>2</td>\n",
       "      <td>4</td>\n",
       "      <td>2</td>\n",
       "      <td>0</td>\n",
       "      <td>0</td>\n",
       "      <td>6</td>\n",
       "      <td>3</td>\n",
       "      <td>0</td>\n",
       "      <td>...</td>\n",
       "      <td>0</td>\n",
       "      <td>0</td>\n",
       "      <td>0</td>\n",
       "      <td>0</td>\n",
       "      <td>0</td>\n",
       "      <td>2</td>\n",
       "      <td>76.5</td>\n",
       "      <td>0</td>\n",
       "      <td>2</td>\n",
       "      <td>0</td>\n",
       "    </tr>\n",
       "    <tr>\n",
       "      <th>4</th>\n",
       "      <td>1</td>\n",
       "      <td>100</td>\n",
       "      <td>0</td>\n",
       "      <td>2</td>\n",
       "      <td>2</td>\n",
       "      <td>0</td>\n",
       "      <td>0</td>\n",
       "      <td>6</td>\n",
       "      <td>3</td>\n",
       "      <td>0</td>\n",
       "      <td>...</td>\n",
       "      <td>0</td>\n",
       "      <td>0</td>\n",
       "      <td>0</td>\n",
       "      <td>0</td>\n",
       "      <td>0</td>\n",
       "      <td>2</td>\n",
       "      <td>76.5</td>\n",
       "      <td>0</td>\n",
       "      <td>1</td>\n",
       "      <td>0</td>\n",
       "    </tr>\n",
       "  </tbody>\n",
       "</table>\n",
       "<p>5 rows × 22 columns</p>\n",
       "</div>"
      ],
      "text/plain": [
       "   IsCanceled  LeadTime  StaysInWeekendNights  StaysInWeekNights  Adults  \\\n",
       "0           0         6                     0                  2       1   \n",
       "1           1        88                     0                  4       2   \n",
       "2           1        65                     0                  4       1   \n",
       "3           1        92                     2                  4       2   \n",
       "4           1       100                     0                  2       2   \n",
       "\n",
       "   Babies  Meal  MarketSegment  DistributionChannel  IsRepeatedGuest  ...  \\\n",
       "0       0     2              5                    3                0  ...   \n",
       "1       0     0              6                    3                0  ...   \n",
       "2       0     0              6                    3                0  ...   \n",
       "3       0     0              6                    3                0  ...   \n",
       "4       0     0              6                    3                0  ...   \n",
       "\n",
       "   ReservedRoomType  AssignedRoomType  BookingChanges  DepositType  \\\n",
       "0                 0                 0               0            0   \n",
       "1                 0                 0               0            0   \n",
       "2                 0                 0               0            0   \n",
       "3                 0                 0               0            0   \n",
       "4                 0                 0               0            0   \n",
       "\n",
       "   DaysInWaitingList  CustomerType   ADR  RequiredCarParkingSpaces  \\\n",
       "0                  0             2   0.0                         0   \n",
       "1                  0             2  76.5                         0   \n",
       "2                  0             2  68.0                         0   \n",
       "3                  0             2  76.5                         0   \n",
       "4                  0             2  76.5                         0   \n",
       "\n",
       "   TotalOfSpecialRequests  ReservationStatus  \n",
       "0                       0                  1  \n",
       "1                       1                  0  \n",
       "2                       1                  0  \n",
       "3                       2                  0  \n",
       "4                       1                  0  \n",
       "\n",
       "[5 rows x 22 columns]"
      ]
     },
     "execution_count": 11,
     "metadata": {},
     "output_type": "execute_result"
    }
   ],
   "source": [
    "conn_sql = sqlite.connect('MasterAll.db')\n",
    "hotel_booking_city_c = pd.read_sql('SELECT * FROM hotel_booking_city_clean', conn_sql)\n",
    "hotel_booking_city_c.head()"
   ]
  },
  {
   "cell_type": "code",
   "execution_count": 12,
   "id": "7e780ff6",
   "metadata": {},
   "outputs": [],
   "source": [
    "#after preprocessing we define our target and features\n",
    "X = hotel_booking_city_c[['LeadTime', 'StaysInWeekendNights', 'StaysInWeekNights', 'Adults', 'Babies', 'Meal', \n",
    "      'MarketSegment', 'DistributionChannel', 'IsRepeatedGuest', 'PreviousCancellations', 'PreviousBookingsNotCanceled', 'ReservedRoomType', 'AssignedRoomType', 'BookingChanges',\n",
    "    'DepositType', 'DaysInWaitingList', 'CustomerType', 'ADR', 'RequiredCarParkingSpaces', 'TotalOfSpecialRequests', 'ReservationStatus']]\n",
    "y = hotel_booking_city_c['IsCanceled']\n",
    "\n",
    "from sklearn.model_selection import train_test_split\n",
    "\n",
    "test_size = 0.30\n",
    "seed = 7\n",
    "x_train, x_test, y_train, y_test = train_test_split(X, y, test_size=test_size, random_state=seed)"
   ]
  },
  {
   "cell_type": "code",
   "execution_count": 342,
   "id": "1f553d27",
   "metadata": {},
   "outputs": [
    {
     "name": "stderr",
     "output_type": "stream",
     "text": [
      "[Parallel(n_jobs=1)]: Using backend SequentialBackend with 1 concurrent workers.\n"
     ]
    },
    {
     "name": "stdout",
     "output_type": "stream",
     "text": [
      "max_iter reached after 16 seconds\n",
      "LogisticRegression: \n",
      " time: 16.047\n",
      "              precision    recall  f1-score   support\n",
      "\n",
      "           0       0.77      0.93      0.84     13836\n",
      "           1       0.87      0.61      0.72      9963\n",
      "\n",
      "    accuracy                           0.80     23799\n",
      "   macro avg       0.82      0.77      0.78     23799\n",
      "weighted avg       0.81      0.80      0.79     23799\n",
      "\n"
     ]
    },
    {
     "name": "stderr",
     "output_type": "stream",
     "text": [
      "/home/vanda/Projects/jupyter_notes/lib/python3.8/site-packages/sklearn/linear_model/_sag.py:328: ConvergenceWarning: The max_iter was reached which means the coef_ did not converge\n",
      "  warnings.warn(\"The max_iter was reached which means \"\n",
      "[Parallel(n_jobs=1)]: Done   1 out of   1 | elapsed:   16.0s finished\n"
     ]
    }
   ],
   "source": [
    "#solver='liblinear'\n",
    "\n",
    "start_time_lr = time.time()\n",
    "lr = LogisticRegression(penalty='l2', solver='sag', max_iter=350, verbose=1).fit(x_train, y_train)\n",
    "predictions_lr = lr.predict(x_test)\n",
    "elapsed_time_lr = time.time() - start_time_lr\n",
    "\n",
    "print(f\"LogisticRegression: \\n time: %.3f\" % elapsed_time_lr)\n",
    "print(classification_report(y_test, predictions_lr))"
   ]
  },
  {
   "cell_type": "code",
   "execution_count": 13,
   "id": "841ca814",
   "metadata": {},
   "outputs": [
    {
     "name": "stdout",
     "output_type": "stream",
     "text": [
      "LogisticRegression: \n",
      " time: 2.498\n",
      "              precision    recall  f1-score   support\n",
      "\n",
      "           0       0.98      1.00      0.99     13836\n",
      "           1       1.00      0.97      0.98      9963\n",
      "\n",
      "    accuracy                           0.99     23799\n",
      "   macro avg       0.99      0.99      0.99     23799\n",
      "weighted avg       0.99      0.99      0.99     23799\n",
      "\n"
     ]
    },
    {
     "name": "stderr",
     "output_type": "stream",
     "text": [
      "/home/vanda/Projects/jupyter_notes/lib/python3.8/site-packages/sklearn/linear_model/_logistic.py:763: ConvergenceWarning: lbfgs failed to converge (status=1):\n",
      "STOP: TOTAL NO. of ITERATIONS REACHED LIMIT.\n",
      "\n",
      "Increase the number of iterations (max_iter) or scale the data as shown in:\n",
      "    https://scikit-learn.org/stable/modules/preprocessing.html\n",
      "Please also refer to the documentation for alternative solver options:\n",
      "    https://scikit-learn.org/stable/modules/linear_model.html#logistic-regression\n",
      "  n_iter_i = _check_optimize_result(\n"
     ]
    }
   ],
   "source": [
    "#solver='liblinear'\n",
    "\n",
    "start_time_lr = time.time()\n",
    "lr = LogisticRegression().fit(x_train, y_train)\n",
    "predictions_lr = lr.predict(x_test)\n",
    "elapsed_time_lr = time.time() - start_time_lr\n",
    "\n",
    "print(f\"LogisticRegression: \\n time: %.3f\" % elapsed_time_lr)\n",
    "print(classification_report(y_test, predictions_lr))"
   ]
  },
  {
   "cell_type": "code",
   "execution_count": 17,
   "id": "25755b71",
   "metadata": {},
   "outputs": [
    {
     "name": "stdout",
     "output_type": "stream",
     "text": [
      "LinearSVC: \n",
      " time: 146.929\n",
      "              precision    recall  f1-score   support\n",
      "\n",
      "           0       0.98      1.00      0.99     13836\n",
      "           1       1.00      0.97      0.99      9963\n",
      "\n",
      "    accuracy                           0.99     23799\n",
      "   macro avg       0.99      0.99      0.99     23799\n",
      "weighted avg       0.99      0.99      0.99     23799\n",
      "\n"
     ]
    },
    {
     "name": "stderr",
     "output_type": "stream",
     "text": [
      "/home/vanda/Projects/jupyter_notes/lib/python3.8/site-packages/sklearn/svm/_base.py:985: ConvergenceWarning: Liblinear failed to converge, increase the number of iterations.\n",
      "  warnings.warn(\"Liblinear failed to converge, increase \"\n"
     ]
    }
   ],
   "source": [
    "#test_size = 0.25\n",
    "#  time: 150.336\n",
    "#               precision    recall  f1-score   support\n",
    "\n",
    "#            0       0.98      1.00      0.99     11565\n",
    "#            1       1.00      0.97      0.99      8268\n",
    "\n",
    "#     accuracy                           0.99     19833\n",
    "#    macro avg       0.99      0.99      0.99     19833\n",
    "# weighted avg       0.99      0.99      0.99     19833\n",
    "\n",
    "#test_size=0.3\n",
    "#  time: 146.929\n",
    "#               precision    recall  f1-score   support\n",
    "\n",
    "#            0       0.98      1.00      0.99     13836\n",
    "#            1       1.00      0.97      0.99      9963\n",
    "\n",
    "#     accuracy                           0.99     23799\n",
    "#    macro avg       0.99      0.99      0.99     23799\n",
    "# weighted avg       0.99      0.99      0.99     23799\n",
    "\n",
    "start_time_svc = time.time()\n",
    "svc = LinearSVC(loss='hinge', max_iter=10000, random_state=55).fit(x_train, y_train)\n",
    "predictions_svc = svc.predict(x_test)\n",
    "elapsed_time_svc = time.time() - start_time_svc\n",
    "\n",
    "print(\"LinearSVC: \\n time: %.3f\" % elapsed_time_svc)\n",
    "print(classification_report(y_test, predictions_svc))"
   ]
  },
  {
   "cell_type": "code",
   "execution_count": 16,
   "id": "ad89e7fb",
   "metadata": {},
   "outputs": [
    {
     "name": "stdout",
     "output_type": "stream",
     "text": [
      "LinearSVC: \n",
      " time: 16.686\n",
      "              precision    recall  f1-score   support\n",
      "\n",
      "           0       0.98      1.00      0.99     13836\n",
      "           1       1.00      0.97      0.99      9963\n",
      "\n",
      "    accuracy                           0.99     23799\n",
      "   macro avg       0.99      0.99      0.99     23799\n",
      "weighted avg       0.99      0.99      0.99     23799\n",
      "\n"
     ]
    },
    {
     "name": "stderr",
     "output_type": "stream",
     "text": [
      "/home/vanda/Projects/jupyter_notes/lib/python3.8/site-packages/sklearn/svm/_base.py:985: ConvergenceWarning: Liblinear failed to converge, increase the number of iterations.\n",
      "  warnings.warn(\"Liblinear failed to converge, increase \"\n"
     ]
    }
   ],
   "source": [
    "#with test_size=0.25\n",
    "# time: 16.129\n",
    "#               precision    recall  f1-score   support\n",
    "\n",
    "#            0       0.98      1.00      0.99     11565\n",
    "#            1       1.00      0.97      0.98      8268\n",
    "\n",
    "#     accuracy                           0.99     19833\n",
    "#    macro avg       0.99      0.98      0.99     19833\n",
    "# weighted avg       0.99      0.99      0.99     19833\n",
    "\n",
    "start_time_svc = time.time()\n",
    "svc = LinearSVC().fit(x_train, y_train)\n",
    "predictions_svc = svc.predict(x_test)\n",
    "elapsed_time_svc = time.time() - start_time_svc\n",
    "\n",
    "print(\"LinearSVC: \\n time: %.3f\" % elapsed_time_svc)\n",
    "print(classification_report(y_test, predictions_svc))"
   ]
  },
  {
   "cell_type": "code",
   "execution_count": 18,
   "id": "0670125d",
   "metadata": {},
   "outputs": [
    {
     "name": "stdout",
     "output_type": "stream",
     "text": [
      "KNeighborsClassifier: \n",
      " time: 11.103\n",
      "              precision    recall  f1-score   support\n",
      "\n",
      "           0       0.84      0.90      0.87     13836\n",
      "           1       0.85      0.76      0.80      9963\n",
      "\n",
      "    accuracy                           0.84     23799\n",
      "   macro avg       0.84      0.83      0.83     23799\n",
      "weighted avg       0.84      0.84      0.84     23799\n",
      "\n"
     ]
    }
   ],
   "source": [
    "#test_size=0.25\n",
    "#best result n_neighbors=15, weights='distance', algorithm='kd_tree'\n",
    "# time: 2.789\n",
    "#               precision    recall  f1-score   support\n",
    "\n",
    "#            0       0.84      0.91      0.87     11565\n",
    "#            1       0.85      0.75      0.80      8268\n",
    "\n",
    "#     accuracy                           0.84     19833\n",
    "#    macro avg       0.84      0.83      0.83     19833\n",
    "# weighted avg       0.84      0.84      0.84     19833\n",
    "\n",
    "#test_size=0.3\n",
    "#  time: 11.103\n",
    "#               precision    recall  f1-score   support\n",
    "\n",
    "#            0       0.84      0.90      0.87     13836\n",
    "#            1       0.85      0.76      0.80      9963\n",
    "\n",
    "#     accuracy                           0.84     23799\n",
    "#    macro avg       0.84      0.83      0.83     23799\n",
    "# weighted avg       0.84      0.84      0.84     23799\n",
    "\n",
    "start_time_knn = time.time()\n",
    "knn = KNeighborsClassifier(n_neighbors=10, weights='distance', algorithm='ball_tree').fit(x_train, y_train)\n",
    "predictions_knn = knn.predict(x_test)\n",
    "elapsed_time_knn = time.time() - start_time_knn\n",
    "\n",
    "print(\"KNeighborsClassifier: \\n time: %.3f\" % elapsed_time_knn)\n",
    "print(classification_report(y_test, predictions_knn))"
   ]
  },
  {
   "cell_type": "code",
   "execution_count": 7,
   "id": "5f21e745",
   "metadata": {},
   "outputs": [
    {
     "name": "stdout",
     "output_type": "stream",
     "text": [
      "KNeighborsClassifier: \n",
      " time: 50.838\n",
      "              precision    recall  f1-score   support\n",
      "\n",
      "           0       0.83      0.88      0.85     11565\n",
      "           1       0.82      0.74      0.78      8268\n",
      "\n",
      "    accuracy                           0.82     19833\n",
      "   macro avg       0.82      0.81      0.82     19833\n",
      "weighted avg       0.82      0.82      0.82     19833\n",
      "\n"
     ]
    }
   ],
   "source": [
    "start_time_knn = time.time()\n",
    "knn = KNeighborsClassifier().fit(x_train, y_train)\n",
    "predictions_knn = knn.predict(x_test)\n",
    "elapsed_time_knn = time.time() - start_time_knn\n",
    "print(\"KNeighborsClassifier: \\n time: %.3f\" % elapsed_time_knn)\n",
    "print(classification_report(y_test, predictions_knn))"
   ]
  },
  {
   "cell_type": "code",
   "execution_count": 14,
   "id": "6e2682fa",
   "metadata": {},
   "outputs": [
    {
     "name": "stdout",
     "output_type": "stream",
     "text": [
      "DecisionTreeClassifier: \n",
      " time: 0.428\n",
      "              precision    recall  f1-score   support\n",
      "\n",
      "           0       1.00      1.00      1.00     13836\n",
      "           1       1.00      1.00      1.00      9963\n",
      "\n",
      "    accuracy                           1.00     23799\n",
      "   macro avg       1.00      1.00      1.00     23799\n",
      "weighted avg       1.00      1.00      1.00     23799\n",
      "\n"
     ]
    }
   ],
   "source": [
    "#no point in changing perimeteres when it's already 1 with default ones \n",
    "#same for 0.25/0.30\n",
    "start_time_dtc = time.time()\n",
    "dtc = DecisionTreeClassifier(criterion='entropy', splitter='random', max_depth=15).fit(x_train, y_train)\n",
    "predictions_dtc = dtc.predict(x_test)\n",
    "elapsed_time_dtc = time.time() - start_time_dtc\n",
    "print(\"DecisionTreeClassifier: \\n time: %.3f\" % elapsed_time_dtc)\n",
    "print(classification_report(y_test, predictions_dtc))"
   ]
  },
  {
   "cell_type": "code",
   "execution_count": 15,
   "id": "5a309d4f",
   "metadata": {},
   "outputs": [
    {
     "name": "stdout",
     "output_type": "stream",
     "text": [
      "DecisionTreeClassifier: \n",
      " time: 0.126\n",
      "              precision    recall  f1-score   support\n",
      "\n",
      "           0       1.00      1.00      1.00     13836\n",
      "           1       1.00      1.00      1.00      9963\n",
      "\n",
      "    accuracy                           1.00     23799\n",
      "   macro avg       1.00      1.00      1.00     23799\n",
      "weighted avg       1.00      1.00      1.00     23799\n",
      "\n"
     ]
    }
   ],
   "source": [
    "start_time_dtc = time.time()\n",
    "dtc = DecisionTreeClassifier().fit(x_train, y_train)\n",
    "predictions_dtc = dtc.predict(x_test)\n",
    "elapsed_time_dtc = time.time() - start_time_dtc\n",
    "print(\"DecisionTreeClassifier: \\n time: %.3f\" % elapsed_time_dtc)\n",
    "print(classification_report(y_test, predictions_dtc))"
   ]
  },
  {
   "cell_type": "code",
   "execution_count": 9,
   "id": "43809214",
   "metadata": {},
   "outputs": [
    {
     "name": "stdout",
     "output_type": "stream",
     "text": [
      "RandomForestClassifier: \n",
      " time: 31.482\n",
      "              precision    recall  f1-score   support\n",
      "\n",
      "           0       1.00      1.00      1.00     11565\n",
      "           1       1.00      1.00      1.00      8268\n",
      "\n",
      "    accuracy                           1.00     19833\n",
      "   macro avg       1.00      1.00      1.00     19833\n",
      "weighted avg       1.00      1.00      1.00     19833\n",
      "\n"
     ]
    }
   ],
   "source": [
    "#no point in changing perimeteres when it's already 1 with default ones \n",
    "#same for 0.25/0.30\n",
    "start_time_rfc = time.time()\n",
    "rfc = RandomForestClassifier(n_estimators=500, max_depth=30, random_state=2, bootstrap=False).fit(x_train, y_train)\n",
    "predictions_rfc = rfc.predict(x_test)\n",
    "elapsed_time_rfc = time.time() - start_time_rfc\n",
    "\n",
    "print(\"RandomForestClassifier: \\n time: %.3f\" % elapsed_time_rfc)\n",
    "print(classification_report(y_test, predictions_rfc))"
   ]
  },
  {
   "cell_type": "code",
   "execution_count": 16,
   "id": "5f12a46b",
   "metadata": {},
   "outputs": [
    {
     "name": "stdout",
     "output_type": "stream",
     "text": [
      "RandomForestClassifier: \n",
      " time: 4.837\n",
      "              precision    recall  f1-score   support\n",
      "\n",
      "           0       1.00      1.00      1.00     13836\n",
      "           1       1.00      1.00      1.00      9963\n",
      "\n",
      "    accuracy                           1.00     23799\n",
      "   macro avg       1.00      1.00      1.00     23799\n",
      "weighted avg       1.00      1.00      1.00     23799\n",
      "\n"
     ]
    }
   ],
   "source": [
    "start_time_rfc = time.time()\n",
    "rfc = RandomForestClassifier().fit(x_train, y_train)\n",
    "predictions_rfc = rfc.predict(x_test)\n",
    "elapsed_time_rfc = time.time() - start_time_rfc\n",
    "\n",
    "print(\"RandomForestClassifier: \\n time: %.3f\" % elapsed_time_rfc)\n",
    "print(classification_report(y_test, predictions_rfc))"
   ]
  },
  {
   "cell_type": "code",
   "execution_count": 11,
   "id": "92171557",
   "metadata": {},
   "outputs": [
    {
     "name": "stdout",
     "output_type": "stream",
     "text": [
      "GradientBoostingClassifier: \n",
      " time: 13.632\n",
      "              precision    recall  f1-score   support\n",
      "\n",
      "           0       1.00      1.00      1.00     11565\n",
      "           1       1.00      1.00      1.00      8268\n",
      "\n",
      "    accuracy                           1.00     19833\n",
      "   macro avg       1.00      1.00      1.00     19833\n",
      "weighted avg       1.00      1.00      1.00     19833\n",
      "\n"
     ]
    }
   ],
   "source": [
    "#no point in changing perimeteres when it's already 1 with default ones \n",
    "#same for 0.25/0.30\n",
    "start_time_gbc = time.time()\n",
    "gbc = GradientBoostingClassifier(loss='exponential', max_depth=5, learning_rate=0.4, n_estimators=150).fit(x_train, y_train)\n",
    "predictions_gbc = gbc.predict(x_test)\n",
    "elapsed_time_gbc = time.time() - start_time_gbc\n",
    "\n",
    "print(\"GradientBoostingClassifier: \\n time: %.3f\" % elapsed_time_gbc)\n",
    "print(classification_report(y_test, predictions_gbc))"
   ]
  },
  {
   "cell_type": "code",
   "execution_count": 17,
   "id": "e057e7cb",
   "metadata": {},
   "outputs": [
    {
     "name": "stdout",
     "output_type": "stream",
     "text": [
      "GradientBoostingClassifier: \n",
      " time: 7.407\n",
      "              precision    recall  f1-score   support\n",
      "\n",
      "           0       1.00      1.00      1.00     13836\n",
      "           1       1.00      1.00      1.00      9963\n",
      "\n",
      "    accuracy                           1.00     23799\n",
      "   macro avg       1.00      1.00      1.00     23799\n",
      "weighted avg       1.00      1.00      1.00     23799\n",
      "\n"
     ]
    }
   ],
   "source": [
    "start_time_gbc = time.time()\n",
    "gbc = GradientBoostingClassifier().fit(x_train, y_train)\n",
    "predictions_gbc = gbc.predict(x_test)\n",
    "elapsed_time_gbc = time.time() - start_time_gbc\n",
    "print(\"GradientBoostingClassifier: \\n time: %.3f\" % elapsed_time_gbc)\n",
    "print(classification_report(y_test, predictions_gbc))"
   ]
  },
  {
   "cell_type": "markdown",
   "id": "46c4f04e",
   "metadata": {},
   "source": [
    "# Hotel booking_resort"
   ]
  },
  {
   "cell_type": "code",
   "execution_count": 5,
   "id": "7ea446e0",
   "metadata": {},
   "outputs": [
    {
     "data": {
      "text/html": [
       "<div>\n",
       "<style scoped>\n",
       "    .dataframe tbody tr th:only-of-type {\n",
       "        vertical-align: middle;\n",
       "    }\n",
       "\n",
       "    .dataframe tbody tr th {\n",
       "        vertical-align: top;\n",
       "    }\n",
       "\n",
       "    .dataframe thead th {\n",
       "        text-align: right;\n",
       "    }\n",
       "</style>\n",
       "<table border=\"1\" class=\"dataframe\">\n",
       "  <thead>\n",
       "    <tr style=\"text-align: right;\">\n",
       "      <th></th>\n",
       "      <th>IsCanceled</th>\n",
       "      <th>LeadTime</th>\n",
       "      <th>StaysInWeekendNights</th>\n",
       "      <th>StaysInWeekNights</th>\n",
       "      <th>Adults</th>\n",
       "      <th>Children</th>\n",
       "      <th>Meal</th>\n",
       "      <th>MarketSegment</th>\n",
       "      <th>DistributionChannel</th>\n",
       "      <th>IsRepeatedGuest</th>\n",
       "      <th>...</th>\n",
       "      <th>ReservedRoomType</th>\n",
       "      <th>AssignedRoomType</th>\n",
       "      <th>BookingChanges</th>\n",
       "      <th>DepositType</th>\n",
       "      <th>DaysInWaitingList</th>\n",
       "      <th>CustomerType</th>\n",
       "      <th>ADR</th>\n",
       "      <th>RequiredCarParkingSpaces</th>\n",
       "      <th>TotalOfSpecialRequests</th>\n",
       "      <th>ReservationStatus</th>\n",
       "    </tr>\n",
       "  </thead>\n",
       "  <tbody>\n",
       "    <tr>\n",
       "      <th>0</th>\n",
       "      <td>0</td>\n",
       "      <td>342</td>\n",
       "      <td>0</td>\n",
       "      <td>0</td>\n",
       "      <td>2</td>\n",
       "      <td>0</td>\n",
       "      <td>0</td>\n",
       "      <td>2</td>\n",
       "      <td>1</td>\n",
       "      <td>0</td>\n",
       "      <td>...</td>\n",
       "      <td>2</td>\n",
       "      <td>2</td>\n",
       "      <td>3</td>\n",
       "      <td>0</td>\n",
       "      <td>0</td>\n",
       "      <td>2</td>\n",
       "      <td>0.0</td>\n",
       "      <td>0</td>\n",
       "      <td>0</td>\n",
       "      <td>1</td>\n",
       "    </tr>\n",
       "    <tr>\n",
       "      <th>1</th>\n",
       "      <td>0</td>\n",
       "      <td>737</td>\n",
       "      <td>0</td>\n",
       "      <td>0</td>\n",
       "      <td>2</td>\n",
       "      <td>0</td>\n",
       "      <td>0</td>\n",
       "      <td>2</td>\n",
       "      <td>1</td>\n",
       "      <td>0</td>\n",
       "      <td>...</td>\n",
       "      <td>2</td>\n",
       "      <td>2</td>\n",
       "      <td>4</td>\n",
       "      <td>0</td>\n",
       "      <td>0</td>\n",
       "      <td>2</td>\n",
       "      <td>0.0</td>\n",
       "      <td>0</td>\n",
       "      <td>0</td>\n",
       "      <td>1</td>\n",
       "    </tr>\n",
       "    <tr>\n",
       "      <th>2</th>\n",
       "      <td>0</td>\n",
       "      <td>7</td>\n",
       "      <td>0</td>\n",
       "      <td>1</td>\n",
       "      <td>1</td>\n",
       "      <td>0</td>\n",
       "      <td>0</td>\n",
       "      <td>2</td>\n",
       "      <td>1</td>\n",
       "      <td>0</td>\n",
       "      <td>...</td>\n",
       "      <td>0</td>\n",
       "      <td>2</td>\n",
       "      <td>0</td>\n",
       "      <td>0</td>\n",
       "      <td>0</td>\n",
       "      <td>2</td>\n",
       "      <td>75.0</td>\n",
       "      <td>0</td>\n",
       "      <td>0</td>\n",
       "      <td>1</td>\n",
       "    </tr>\n",
       "    <tr>\n",
       "      <th>3</th>\n",
       "      <td>0</td>\n",
       "      <td>13</td>\n",
       "      <td>0</td>\n",
       "      <td>1</td>\n",
       "      <td>1</td>\n",
       "      <td>0</td>\n",
       "      <td>0</td>\n",
       "      <td>1</td>\n",
       "      <td>0</td>\n",
       "      <td>0</td>\n",
       "      <td>...</td>\n",
       "      <td>0</td>\n",
       "      <td>0</td>\n",
       "      <td>0</td>\n",
       "      <td>0</td>\n",
       "      <td>0</td>\n",
       "      <td>2</td>\n",
       "      <td>75.0</td>\n",
       "      <td>0</td>\n",
       "      <td>0</td>\n",
       "      <td>1</td>\n",
       "    </tr>\n",
       "    <tr>\n",
       "      <th>4</th>\n",
       "      <td>0</td>\n",
       "      <td>14</td>\n",
       "      <td>0</td>\n",
       "      <td>2</td>\n",
       "      <td>2</td>\n",
       "      <td>0</td>\n",
       "      <td>0</td>\n",
       "      <td>5</td>\n",
       "      <td>2</td>\n",
       "      <td>0</td>\n",
       "      <td>...</td>\n",
       "      <td>0</td>\n",
       "      <td>0</td>\n",
       "      <td>0</td>\n",
       "      <td>0</td>\n",
       "      <td>0</td>\n",
       "      <td>2</td>\n",
       "      <td>98.0</td>\n",
       "      <td>0</td>\n",
       "      <td>1</td>\n",
       "      <td>1</td>\n",
       "    </tr>\n",
       "  </tbody>\n",
       "</table>\n",
       "<p>5 rows × 22 columns</p>\n",
       "</div>"
      ],
      "text/plain": [
       "   IsCanceled  LeadTime  StaysInWeekendNights  StaysInWeekNights  Adults  \\\n",
       "0           0       342                     0                  0       2   \n",
       "1           0       737                     0                  0       2   \n",
       "2           0         7                     0                  1       1   \n",
       "3           0        13                     0                  1       1   \n",
       "4           0        14                     0                  2       2   \n",
       "\n",
       "   Children  Meal  MarketSegment  DistributionChannel  IsRepeatedGuest  ...  \\\n",
       "0         0     0              2                    1                0  ...   \n",
       "1         0     0              2                    1                0  ...   \n",
       "2         0     0              2                    1                0  ...   \n",
       "3         0     0              1                    0                0  ...   \n",
       "4         0     0              5                    2                0  ...   \n",
       "\n",
       "   ReservedRoomType  AssignedRoomType  BookingChanges  DepositType  \\\n",
       "0                 2                 2               3            0   \n",
       "1                 2                 2               4            0   \n",
       "2                 0                 2               0            0   \n",
       "3                 0                 0               0            0   \n",
       "4                 0                 0               0            0   \n",
       "\n",
       "   DaysInWaitingList  CustomerType   ADR  RequiredCarParkingSpaces  \\\n",
       "0                  0             2   0.0                         0   \n",
       "1                  0             2   0.0                         0   \n",
       "2                  0             2  75.0                         0   \n",
       "3                  0             2  75.0                         0   \n",
       "4                  0             2  98.0                         0   \n",
       "\n",
       "   TotalOfSpecialRequests  ReservationStatus  \n",
       "0                       0                  1  \n",
       "1                       0                  1  \n",
       "2                       0                  1  \n",
       "3                       0                  1  \n",
       "4                       1                  1  \n",
       "\n",
       "[5 rows x 22 columns]"
      ]
     },
     "execution_count": 5,
     "metadata": {},
     "output_type": "execute_result"
    }
   ],
   "source": [
    "conn_sql = sqlite.connect('MasterAll.db')\n",
    "hotel_booking_resort_c = pd.read_sql('SELECT * FROM hotel_booking_resort_clean', conn_sql)\n",
    "hotel_booking_resort_c.head()"
   ]
  },
  {
   "cell_type": "code",
   "execution_count": 6,
   "id": "c39810ce",
   "metadata": {},
   "outputs": [],
   "source": [
    "#after preprocessing we define our target and features\n",
    "X = hotel_booking_resort_c[['LeadTime', 'StaysInWeekendNights', 'StaysInWeekNights', 'Adults', 'Children', 'Meal', \n",
    "      'MarketSegment', 'DistributionChannel', 'IsRepeatedGuest', 'PreviousCancellations', 'PreviousBookingsNotCanceled', 'ReservedRoomType', 'AssignedRoomType', 'BookingChanges',\n",
    "    'DepositType', 'DaysInWaitingList', 'CustomerType', 'ADR', 'RequiredCarParkingSpaces', 'TotalOfSpecialRequests', 'ReservationStatus']]\n",
    "y = hotel_booking_resort_c['IsCanceled']\n",
    "\n",
    "from sklearn.model_selection import train_test_split\n",
    "\n",
    "test_size = 0.25\n",
    "seed = 7\n",
    "x_train, x_test, y_train, y_test = train_test_split(X, y, test_size=test_size, random_state=seed)"
   ]
  },
  {
   "cell_type": "code",
   "execution_count": 7,
   "id": "7e5b7064",
   "metadata": {},
   "outputs": [
    {
     "name": "stderr",
     "output_type": "stream",
     "text": [
      "[Parallel(n_jobs=1)]: Using backend SequentialBackend with 1 concurrent workers.\n"
     ]
    },
    {
     "name": "stdout",
     "output_type": "stream",
     "text": [
      "max_iter reached after 7 seconds\n",
      "LogisticRegression: \n",
      " time: 6.657\n",
      "              precision    recall  f1-score   support\n",
      "\n",
      "           0       0.99      1.00      0.99      7264\n",
      "           1       1.00      0.97      0.99      2751\n",
      "\n",
      "    accuracy                           0.99     10015\n",
      "   macro avg       0.99      0.99      0.99     10015\n",
      "weighted avg       0.99      0.99      0.99     10015\n",
      "\n"
     ]
    },
    {
     "name": "stderr",
     "output_type": "stream",
     "text": [
      "/home/vanda/Projects/jupyter_notes/lib/python3.8/site-packages/sklearn/linear_model/_sag.py:328: ConvergenceWarning: The max_iter was reached which means the coef_ did not converge\n",
      "  warnings.warn(\"The max_iter was reached which means \"\n",
      "[Parallel(n_jobs=1)]: Done   1 out of   1 | elapsed:    6.6s finished\n"
     ]
    }
   ],
   "source": [
    "#solver='liblinear'\n",
    "\n",
    "start_time_lr = time.time()\n",
    "lr = LogisticRegression(penalty='l2', solver='sag', max_iter=350, verbose=1).fit(x_train, y_train)\n",
    "predictions_lr = lr.predict(x_test)\n",
    "elapsed_time_lr = time.time() - start_time_lr\n",
    "\n",
    "print(f\"LogisticRegression: \\n time: %.3f\" % elapsed_time_lr)\n",
    "print(classification_report(y_test, predictions_lr))\n"
   ]
  },
  {
   "cell_type": "code",
   "execution_count": 8,
   "id": "153713d3",
   "metadata": {},
   "outputs": [
    {
     "name": "stdout",
     "output_type": "stream",
     "text": [
      "LogisticRegression: \n",
      " time: 5.711\n",
      "              precision    recall  f1-score   support\n",
      "\n",
      "           0       0.99      1.00      1.00      7264\n",
      "           1       1.00      0.97      0.99      2751\n",
      "\n",
      "    accuracy                           0.99     10015\n",
      "   macro avg       1.00      0.99      0.99     10015\n",
      "weighted avg       0.99      0.99      0.99     10015\n",
      "\n"
     ]
    }
   ],
   "source": [
    "#solver='liblinear'\n",
    "\n",
    "start_time_lr = time.time()\n",
    "lr = LogisticRegression(max_iter=1050).fit(x_train, y_train)\n",
    "predictions_lr = lr.predict(x_test)\n",
    "elapsed_time_lr = time.time() - start_time_lr\n",
    "\n",
    "print(f\"LogisticRegression: \\n time: %.3f\" % elapsed_time_lr)\n",
    "print(classification_report(y_test, predictions_lr))"
   ]
  },
  {
   "cell_type": "code",
   "execution_count": 36,
   "id": "efeeb28f",
   "metadata": {},
   "outputs": [
    {
     "name": "stdout",
     "output_type": "stream",
     "text": [
      "LinearSVC: \n",
      " time: 19.950\n",
      "              precision    recall  f1-score   support\n",
      "\n",
      "           0       0.99      1.00      1.00      7264\n",
      "           1       1.00      0.97      0.99      2751\n",
      "\n",
      "    accuracy                           0.99     10015\n",
      "   macro avg       1.00      0.99      0.99     10015\n",
      "weighted avg       0.99      0.99      0.99     10015\n",
      "\n"
     ]
    },
    {
     "name": "stderr",
     "output_type": "stream",
     "text": [
      "/home/vanda/Projects/jupyter_notes/lib/python3.8/site-packages/sklearn/svm/_base.py:985: ConvergenceWarning: Liblinear failed to converge, increase the number of iterations.\n",
      "  warnings.warn(\"Liblinear failed to converge, increase \"\n"
     ]
    }
   ],
   "source": [
    "start_time_svc = time.time()\n",
    "svc = LinearSVC(loss='hinge', max_iter=3000, random_state=55).fit(x_train, y_train)\n",
    "predictions_svc = svc.predict(x_test)\n",
    "elapsed_time_svc = time.time() - start_time_svc\n",
    "\n",
    "print(\"LinearSVC: \\n time: %.3f\" % elapsed_time_svc)\n",
    "print(classification_report(y_test, predictions_svc))"
   ]
  },
  {
   "cell_type": "code",
   "execution_count": 9,
   "id": "ce58c63f",
   "metadata": {},
   "outputs": [
    {
     "name": "stdout",
     "output_type": "stream",
     "text": [
      "LinearSVC: \n",
      " time: 5.612\n",
      "              precision    recall  f1-score   support\n",
      "\n",
      "           0       0.99      1.00      0.99      7264\n",
      "           1       1.00      0.97      0.99      2751\n",
      "\n",
      "    accuracy                           0.99     10015\n",
      "   macro avg       0.99      0.99      0.99     10015\n",
      "weighted avg       0.99      0.99      0.99     10015\n",
      "\n"
     ]
    },
    {
     "name": "stderr",
     "output_type": "stream",
     "text": [
      "/home/vanda/Projects/jupyter_notes/lib/python3.8/site-packages/sklearn/svm/_base.py:985: ConvergenceWarning: Liblinear failed to converge, increase the number of iterations.\n",
      "  warnings.warn(\"Liblinear failed to converge, increase \"\n"
     ]
    }
   ],
   "source": [
    "start_time_svc = time.time()\n",
    "svc = LinearSVC().fit(x_train, y_train)\n",
    "predictions_svc = svc.predict(x_test)\n",
    "elapsed_time_svc = time.time() - start_time_svc\n",
    "\n",
    "print(\"LinearSVC: \\n time: %.3f\" % elapsed_time_svc)\n",
    "print(classification_report(y_test, predictions_svc))"
   ]
  },
  {
   "cell_type": "code",
   "execution_count": 10,
   "id": "9aa6f81f",
   "metadata": {},
   "outputs": [
    {
     "name": "stdout",
     "output_type": "stream",
     "text": [
      "KNeighborsClassifier: \n",
      " time: 2.511\n",
      "              precision    recall  f1-score   support\n",
      "\n",
      "           0       0.84      0.93      0.88      7264\n",
      "           1       0.74      0.54      0.62      2751\n",
      "\n",
      "    accuracy                           0.82     10015\n",
      "   macro avg       0.79      0.73      0.75     10015\n",
      "weighted avg       0.81      0.82      0.81     10015\n",
      "\n"
     ]
    }
   ],
   "source": [
    "#no diff kd_tree / ball_tree\n",
    "#test_size=0.25\n",
    "#  time: 2.444\n",
    "#               precision    recall  f1-score   support\n",
    "\n",
    "#            0       0.84      0.93      0.88      7264\n",
    "#            1       0.74      0.54      0.62      2751\n",
    "\n",
    "#     accuracy                           0.82     10015\n",
    "#    macro avg       0.79      0.73      0.75     10015\n",
    "# weighted avg       0.81      0.82      0.81     10015\n",
    "\n",
    "start_time_knn = time.time()\n",
    "knn = KNeighborsClassifier(n_neighbors=15, weights='distance', algorithm='ball_tree').fit(x_train, y_train)\n",
    "predictions_knn = knn.predict(x_test)\n",
    "elapsed_time_knn = time.time() - start_time_knn\n",
    "\n",
    "print(\"KNeighborsClassifier: \\n time: %.3f\" % elapsed_time_knn)\n",
    "print(classification_report(y_test, predictions_knn))"
   ]
  },
  {
   "cell_type": "code",
   "execution_count": 50,
   "id": "a47c6f42",
   "metadata": {},
   "outputs": [
    {
     "name": "stdout",
     "output_type": "stream",
     "text": [
      "KNeighborsClassifier: \n",
      " time: 18.026\n",
      "              precision    recall  f1-score   support\n",
      "\n",
      "           0       0.84      0.88      0.86      7264\n",
      "           1       0.64      0.54      0.59      2751\n",
      "\n",
      "    accuracy                           0.79     10015\n",
      "   macro avg       0.74      0.71      0.72     10015\n",
      "weighted avg       0.78      0.79      0.78     10015\n",
      "\n"
     ]
    }
   ],
   "source": [
    "start_time_knn = time.time()\n",
    "knn = KNeighborsClassifier().fit(x_train, y_train)\n",
    "predictions_knn = knn.predict(x_test)\n",
    "elapsed_time_knn = time.time() - start_time_knn\n",
    "print(\"KNeighborsClassifier: \\n time: %.3f\" % elapsed_time_knn)\n",
    "print(classification_report(y_test, predictions_knn))"
   ]
  },
  {
   "cell_type": "code",
   "execution_count": null,
   "id": "9fc40322",
   "metadata": {},
   "outputs": [],
   "source": [
    "#no point in changing perimeteres when it's already 1 with default ones \n",
    "#same for 0.25/0.30\n",
    "start_time_dtc = time.time()\n",
    "dtc = DecisionTreeClassifier(criterion='entropy', splitter='random', max_depth=15).fit(x_train, y_train)\n",
    "predictions_dtc = dtc.predict(x_test)\n",
    "elapsed_time_dtc = time.time() - start_time_dtc\n",
    "print(\"DecisionTreeClassifier: \\n time: %.3f\" % elapsed_time_dtc)\n",
    "print(classification_report(y_test, predictions_dtc))"
   ]
  },
  {
   "cell_type": "code",
   "execution_count": null,
   "id": "c57fe775",
   "metadata": {},
   "outputs": [],
   "source": [
    "start_time_dtc = time.time()\n",
    "dtc = DecisionTreeClassifier( max_depth=15).fit(x_train, y_train)\n",
    "predictions_dtc = dtc.predict(x_test)\n",
    "elapsed_time_dtc = time.time() - start_time_dtc\n",
    "print(\"DecisionTreeClassifier: \\n time: %.3f\" % elapsed_time_dtc)\n",
    "print(classification_report(y_test, predictions_dtc))"
   ]
  },
  {
   "cell_type": "code",
   "execution_count": null,
   "id": "a7d0bb67",
   "metadata": {},
   "outputs": [],
   "source": [
    "#no point in changing perimeteres when it's already 1 with default ones \n",
    "#same for 0.25/0.30\n",
    "start_time_rfc = time.time()\n",
    "rfc = RandomForestClassifier(n_estimators=500, max_depth=30, random_state=2, bootstrap=False).fit(x_train, y_train)\n",
    "predictions_rfc = rfc.predict(x_test)\n",
    "elapsed_time_rfc = time.time() - start_time_rfc\n",
    "\n",
    "print(\"RandomForestClassifier: \\n time: %.3f\" % elapsed_time_rfc)\n",
    "print(classification_report(y_test, predictions_rfc))"
   ]
  },
  {
   "cell_type": "code",
   "execution_count": null,
   "id": "32ade796",
   "metadata": {},
   "outputs": [],
   "source": [
    "start_time_rfc = time.time()\n",
    "rfc = RandomForestClassifier(max_depth=25).fit(x_train, y_train)\n",
    "predictions_rfc = rfc.predict(x_test)\n",
    "elapsed_time_rfc = time.time() - start_time_rfc\n",
    "\n",
    "print(\"RandomForestClassifier: \\n time: %.3f\" % elapsed_time_rfc)\n",
    "print(classification_report(y_test, predictions_rfc))"
   ]
  },
  {
   "cell_type": "code",
   "execution_count": null,
   "id": "d6716d67",
   "metadata": {},
   "outputs": [],
   "source": [
    "#no point in changing perimeteres when it's already 1 with default ones \n",
    "#same for 0.25/0.30\n",
    "start_time_gbc = time.time()\n",
    "gbc = GradientBoostingClassifier(loss='exponential', max_depth=5, learning_rate=0.4, n_estimators=150).fit(x_train, y_train)\n",
    "predictions_gbc = gbc.predict(x_test)\n",
    "elapsed_time_gbc = time.time() - start_time_gbc\n",
    "\n",
    "print(\"GradientBoostingClassifier: \\n time: %.3f\" % elapsed_time_gbc)\n",
    "print(classification_report(y_test, predictions_gbc))"
   ]
  },
  {
   "cell_type": "code",
   "execution_count": null,
   "id": "966ac5e0",
   "metadata": {},
   "outputs": [],
   "source": [
    "start_time_gbc = time.time()\n",
    "gbc = GradientBoostingClassifier(max_depth=5, learning_rate=0.4).fit(x_train, y_train)\n",
    "predictions_gbc = gbc.predict(x_test)\n",
    "elapsed_time_gbc = time.time() - start_time_gbc\n",
    "print(\"GradientBoostingClassifier: \\n time: %.3f\" % elapsed_time_gbc)\n",
    "print(classification_report(y_test, predictions_gbc))"
   ]
  },
  {
   "cell_type": "markdown",
   "id": "744cc727",
   "metadata": {},
   "source": [
    "# Coupon recommendation"
   ]
  },
  {
   "cell_type": "code",
   "execution_count": 18,
   "id": "a636061e",
   "metadata": {},
   "outputs": [
    {
     "data": {
      "text/html": [
       "<div>\n",
       "<style scoped>\n",
       "    .dataframe tbody tr th:only-of-type {\n",
       "        vertical-align: middle;\n",
       "    }\n",
       "\n",
       "    .dataframe tbody tr th {\n",
       "        vertical-align: top;\n",
       "    }\n",
       "\n",
       "    .dataframe thead th {\n",
       "        text-align: right;\n",
       "    }\n",
       "</style>\n",
       "<table border=\"1\" class=\"dataframe\">\n",
       "  <thead>\n",
       "    <tr style=\"text-align: right;\">\n",
       "      <th></th>\n",
       "      <th>destination</th>\n",
       "      <th>passanger</th>\n",
       "      <th>weather</th>\n",
       "      <th>temperature</th>\n",
       "      <th>time</th>\n",
       "      <th>coupon</th>\n",
       "      <th>expiration</th>\n",
       "      <th>gender</th>\n",
       "      <th>age</th>\n",
       "      <th>maritalStatus</th>\n",
       "      <th>...</th>\n",
       "      <th>Bar</th>\n",
       "      <th>CoffeeHouse</th>\n",
       "      <th>CarryAway</th>\n",
       "      <th>RestaurantLessThan20</th>\n",
       "      <th>Restaurant20To50</th>\n",
       "      <th>toCoupon_GEQ15min</th>\n",
       "      <th>toCoupon_GEQ25min</th>\n",
       "      <th>direction_same</th>\n",
       "      <th>direction_opp</th>\n",
       "      <th>Y</th>\n",
       "    </tr>\n",
       "  </thead>\n",
       "  <tbody>\n",
       "    <tr>\n",
       "      <th>0</th>\n",
       "      <td>1</td>\n",
       "      <td>0</td>\n",
       "      <td>2</td>\n",
       "      <td>55</td>\n",
       "      <td>14</td>\n",
       "      <td>4</td>\n",
       "      <td>24</td>\n",
       "      <td>1</td>\n",
       "      <td>1</td>\n",
       "      <td>2</td>\n",
       "      <td>...</td>\n",
       "      <td>0</td>\n",
       "      <td>1</td>\n",
       "      <td>3</td>\n",
       "      <td>3</td>\n",
       "      <td>1</td>\n",
       "      <td>0</td>\n",
       "      <td>0</td>\n",
       "      <td>0</td>\n",
       "      <td>1</td>\n",
       "      <td>1</td>\n",
       "    </tr>\n",
       "    <tr>\n",
       "      <th>1</th>\n",
       "      <td>1</td>\n",
       "      <td>1</td>\n",
       "      <td>2</td>\n",
       "      <td>80</td>\n",
       "      <td>10</td>\n",
       "      <td>2</td>\n",
       "      <td>2</td>\n",
       "      <td>1</td>\n",
       "      <td>1</td>\n",
       "      <td>2</td>\n",
       "      <td>...</td>\n",
       "      <td>0</td>\n",
       "      <td>1</td>\n",
       "      <td>3</td>\n",
       "      <td>3</td>\n",
       "      <td>1</td>\n",
       "      <td>0</td>\n",
       "      <td>0</td>\n",
       "      <td>0</td>\n",
       "      <td>1</td>\n",
       "      <td>0</td>\n",
       "    </tr>\n",
       "    <tr>\n",
       "      <th>2</th>\n",
       "      <td>1</td>\n",
       "      <td>1</td>\n",
       "      <td>2</td>\n",
       "      <td>80</td>\n",
       "      <td>10</td>\n",
       "      <td>0</td>\n",
       "      <td>24</td>\n",
       "      <td>1</td>\n",
       "      <td>1</td>\n",
       "      <td>2</td>\n",
       "      <td>...</td>\n",
       "      <td>0</td>\n",
       "      <td>1</td>\n",
       "      <td>3</td>\n",
       "      <td>3</td>\n",
       "      <td>1</td>\n",
       "      <td>0</td>\n",
       "      <td>0</td>\n",
       "      <td>0</td>\n",
       "      <td>1</td>\n",
       "      <td>1</td>\n",
       "    </tr>\n",
       "    <tr>\n",
       "      <th>3</th>\n",
       "      <td>1</td>\n",
       "      <td>1</td>\n",
       "      <td>2</td>\n",
       "      <td>80</td>\n",
       "      <td>10</td>\n",
       "      <td>1</td>\n",
       "      <td>2</td>\n",
       "      <td>1</td>\n",
       "      <td>1</td>\n",
       "      <td>2</td>\n",
       "      <td>...</td>\n",
       "      <td>0</td>\n",
       "      <td>1</td>\n",
       "      <td>3</td>\n",
       "      <td>3</td>\n",
       "      <td>1</td>\n",
       "      <td>1</td>\n",
       "      <td>0</td>\n",
       "      <td>0</td>\n",
       "      <td>1</td>\n",
       "      <td>0</td>\n",
       "    </tr>\n",
       "    <tr>\n",
       "      <th>4</th>\n",
       "      <td>1</td>\n",
       "      <td>1</td>\n",
       "      <td>2</td>\n",
       "      <td>80</td>\n",
       "      <td>14</td>\n",
       "      <td>2</td>\n",
       "      <td>24</td>\n",
       "      <td>1</td>\n",
       "      <td>1</td>\n",
       "      <td>2</td>\n",
       "      <td>...</td>\n",
       "      <td>0</td>\n",
       "      <td>1</td>\n",
       "      <td>3</td>\n",
       "      <td>3</td>\n",
       "      <td>1</td>\n",
       "      <td>0</td>\n",
       "      <td>0</td>\n",
       "      <td>0</td>\n",
       "      <td>1</td>\n",
       "      <td>0</td>\n",
       "    </tr>\n",
       "  </tbody>\n",
       "</table>\n",
       "<p>5 rows × 23 columns</p>\n",
       "</div>"
      ],
      "text/plain": [
       "   destination  passanger  weather  temperature  time  coupon  expiration  \\\n",
       "0            1          0        2           55    14       4          24   \n",
       "1            1          1        2           80    10       2           2   \n",
       "2            1          1        2           80    10       0          24   \n",
       "3            1          1        2           80    10       1           2   \n",
       "4            1          1        2           80    14       2          24   \n",
       "\n",
       "   gender  age  maritalStatus  ...  Bar  CoffeeHouse  CarryAway  \\\n",
       "0       1    1              2  ...    0            1          3   \n",
       "1       1    1              2  ...    0            1          3   \n",
       "2       1    1              2  ...    0            1          3   \n",
       "3       1    1              2  ...    0            1          3   \n",
       "4       1    1              2  ...    0            1          3   \n",
       "\n",
       "   RestaurantLessThan20  Restaurant20To50  toCoupon_GEQ15min  \\\n",
       "0                     3                 1                  0   \n",
       "1                     3                 1                  0   \n",
       "2                     3                 1                  0   \n",
       "3                     3                 1                  1   \n",
       "4                     3                 1                  0   \n",
       "\n",
       "   toCoupon_GEQ25min  direction_same  direction_opp  Y  \n",
       "0                  0               0              1  1  \n",
       "1                  0               0              1  0  \n",
       "2                  0               0              1  1  \n",
       "3                  0               0              1  0  \n",
       "4                  0               0              1  0  \n",
       "\n",
       "[5 rows x 23 columns]"
      ]
     },
     "execution_count": 18,
     "metadata": {},
     "output_type": "execute_result"
    }
   ],
   "source": [
    "#conn_sql = sqlite.connect('MasterAll.db')\n",
    "coupons_c_le = pd.read_sql('SELECT * FROM coupons_clean', conn_sql)\n",
    "coupons_c_le.head()"
   ]
  },
  {
   "cell_type": "code",
   "execution_count": 19,
   "id": "798c58b5",
   "metadata": {},
   "outputs": [],
   "source": [
    "#after preprocessing we define our target and features\n",
    "coupons_bar = pd.read_sql('Select * from coupons_clean where coupon = 0', conn_sql)\n",
    "coupons_restaurant = pd.read_sql('Select * from coupons_clean where coupon in (3,4)', conn_sql)\n",
    "coupons_carry_away = pd.read_sql('Select * from coupons_clean where coupon = 1', conn_sql)\n",
    "coupons_coffee = pd.read_sql('Select * from coupons_clean where coupon = 2', conn_sql)"
   ]
  },
  {
   "cell_type": "code",
   "execution_count": 20,
   "id": "c6cafd0f",
   "metadata": {},
   "outputs": [],
   "source": [
    "X = coupons_c_le[['destination', 'passanger', 'weather', 'expiration', 'gender', 'age', 'education', 'income', 'coupon', \n",
    "        'Bar', 'CarryAway', 'CoffeeHouse', 'RestaurantLessThan20', 'Restaurant20To50', 'toCoupon_GEQ25min', 'direction_same', 'direction_opp']]\n",
    "y = coupons_c_le['Y']\n",
    "\n",
    "X_bar = coupons_bar[['destination', 'passanger', 'weather', 'expiration', 'gender', 'age', 'education', 'income', 'coupon', \n",
    "        'Bar', 'toCoupon_GEQ25min', 'direction_same', 'direction_opp']]\n",
    "y_bar = coupons_bar['Y']\n",
    "\n",
    "X_restaurant = coupons_restaurant[['destination', 'passanger', 'weather', 'expiration', 'gender', 'age', 'education', 'income', 'coupon', \n",
    "        'RestaurantLessThan20', 'Restaurant20To50', 'toCoupon_GEQ25min', 'direction_same', 'direction_opp']]\n",
    "y_restaurant = coupons_restaurant['Y']\n",
    "\n",
    "X_carry_away = coupons_carry_away[['destination', 'passanger', 'weather', 'expiration', 'gender', 'age', 'education', 'income', 'coupon', \n",
    "        'CarryAway', 'toCoupon_GEQ25min', 'direction_same', 'direction_opp']]\n",
    "y_carry_away = coupons_carry_away['Y']\n",
    "\n",
    "X_coffee = coupons_coffee[['destination', 'passanger', 'weather', 'expiration', 'gender', 'age', 'education', 'income', 'coupon', \n",
    "        'CoffeeHouse', 'toCoupon_GEQ25min', 'direction_same', 'direction_opp']]\n",
    "y_coffee = coupons_coffee['Y']\n",
    "\n",
    "from sklearn.model_selection import train_test_split\n",
    "\n",
    "test_size = 0.3\n",
    "seed = 1024"
   ]
  },
  {
   "cell_type": "markdown",
   "id": "30fac4bf",
   "metadata": {},
   "source": [
    "## Over all data "
   ]
  },
  {
   "cell_type": "code",
   "execution_count": 21,
   "id": "623d5f81",
   "metadata": {},
   "outputs": [],
   "source": [
    "test_size = 0.25\n",
    "x_train, x_test, y_train, y_test = train_test_split(X, y, test_size=test_size, random_state=seed)"
   ]
  },
  {
   "cell_type": "code",
   "execution_count": 22,
   "id": "2bac7167",
   "metadata": {},
   "outputs": [
    {
     "name": "stdout",
     "output_type": "stream",
     "text": [
      "LogisticRegression: \n",
      " time: 0.783\n",
      "              precision    recall  f1-score   support\n",
      "\n",
      "           0       0.58      0.42      0.48      1279\n",
      "           1       0.65      0.78      0.71      1741\n",
      "\n",
      "    accuracy                           0.63      3020\n",
      "   macro avg       0.61      0.60      0.60      3020\n",
      "weighted avg       0.62      0.63      0.61      3020\n",
      "\n"
     ]
    }
   ],
   "source": [
    "#small_diff test sizes 0.25 (a bit smaller f1score) / 0.30\n",
    "start_time_lr = time.time()\n",
    "lr = LogisticRegression(penalty='l1', solver='liblinear').fit(x_train, y_train)\n",
    "predictions_lr = lr.predict(x_test)\n",
    "elapsed_time_lr = time.time() - start_time_lr\n",
    "\n",
    "print(f\"LogisticRegression: \\n time: %.3f\" % elapsed_time_lr)\n",
    "print(classification_report(y_test, predictions_lr))\n"
   ]
  },
  {
   "cell_type": "markdown",
   "id": "ea283c20",
   "metadata": {},
   "source": [
    "#solver='liblinear'\n",
    "\n",
    "start_time_lr = time.time()\n",
    "lr = LogisticRegression().fit(x_train, y_train)\n",
    "predictions_lr = lr.predict(x_test)\n",
    "elapsed_time_lr = time.time() - start_time_lr\n",
    "\n",
    "print(f\"LogisticRegression: \\n time: %.3f\" % elapsed_time_lr)\n",
    "print(classification_report(y_test, predictions_lr))"
   ]
  },
  {
   "cell_type": "code",
   "execution_count": 24,
   "id": "36f68533",
   "metadata": {},
   "outputs": [
    {
     "name": "stdout",
     "output_type": "stream",
     "text": [
      "LinearSVC: \n",
      " time: 1.399\n",
      "              precision    recall  f1-score   support\n",
      "\n",
      "           0       0.59      0.32      0.41      1279\n",
      "           1       0.63      0.84      0.72      1741\n",
      "\n",
      "    accuracy                           0.62      3020\n",
      "   macro avg       0.61      0.58      0.56      3020\n",
      "weighted avg       0.61      0.62      0.59      3020\n",
      "\n"
     ]
    },
    {
     "name": "stderr",
     "output_type": "stream",
     "text": [
      "/home/vanda/Projects/jupyter_notes/lib/python3.8/site-packages/sklearn/svm/_base.py:985: ConvergenceWarning: Liblinear failed to converge, increase the number of iterations.\n",
      "  warnings.warn(\"Liblinear failed to converge, increase \"\n"
     ]
    }
   ],
   "source": [
    "#test_size=0.30\n",
    "# with loss='hinge', max_iter=3000\n",
    "#  time: 1.310\n",
    "#               precision    recall  f1-score   support\n",
    "\n",
    "#            0       0.58      0.37      0.45      1541\n",
    "#            1       0.63      0.80      0.71      2083\n",
    "\n",
    "#     accuracy                           0.62      3624\n",
    "#    macro avg       0.60      0.58      0.58      3624\n",
    "# weighted avg       0.61      0.62      0.60      3624\n",
    "#only with max_iter=3000\n",
    "#  time: 3.116\n",
    "#               precision    recall  f1-score   support\n",
    "\n",
    "#            0       0.61      0.34      0.44      1541\n",
    "#            1       0.63      0.84      0.72      2083\n",
    "\n",
    "#     accuracy                           0.63      3624\n",
    "#    macro avg       0.62      0.59      0.58      3624\n",
    "# weighted avg       0.62      0.63      0.60      3624\n",
    "\n",
    "#test_size=0.25 a little smaller f1score\n",
    "#  time: 1.398\n",
    "#               precision    recall  f1-score   support\n",
    "\n",
    "#            0       0.58      0.34      0.43      1279\n",
    "#            1       0.63      0.82      0.71      1741\n",
    "\n",
    "#     accuracy                           0.62      3020\n",
    "#    macro avg       0.60      0.58      0.57      3020\n",
    "# weighted avg       0.61      0.62      0.59      3020\n",
    "\n",
    "\n",
    "\n",
    "start_time_svc = time.time()\n",
    "svc = LinearSVC(loss='hinge', max_iter=3000).fit(x_train, y_train)\n",
    "predictions_svc = svc.predict(x_test)\n",
    "elapsed_time_svc = time.time() - start_time_svc\n",
    "\n",
    "print(\"LinearSVC: \\n time: %.3f\" % elapsed_time_svc)\n",
    "print(classification_report(y_test, predictions_svc))"
   ]
  },
  {
   "cell_type": "code",
   "execution_count": 25,
   "id": "787865b0",
   "metadata": {},
   "outputs": [
    {
     "name": "stdout",
     "output_type": "stream",
     "text": [
      "LinearSVC: \n",
      " time: 0.721\n",
      "              precision    recall  f1-score   support\n",
      "\n",
      "           0       0.63      0.28      0.38      1279\n",
      "           1       0.62      0.88      0.73      1741\n",
      "\n",
      "    accuracy                           0.62      3020\n",
      "   macro avg       0.62      0.58      0.56      3020\n",
      "weighted avg       0.62      0.62      0.58      3020\n",
      "\n"
     ]
    },
    {
     "name": "stderr",
     "output_type": "stream",
     "text": [
      "/home/vanda/Projects/jupyter_notes/lib/python3.8/site-packages/sklearn/svm/_base.py:985: ConvergenceWarning: Liblinear failed to converge, increase the number of iterations.\n",
      "  warnings.warn(\"Liblinear failed to converge, increase \"\n"
     ]
    }
   ],
   "source": [
    "#test_size=0.25 and max_iter=3000\n",
    "#  time: 2.029\n",
    "#               precision    recall  f1-score   support\n",
    "\n",
    "#            0       0.60      0.36      0.45      1279\n",
    "#            1       0.64      0.82      0.72      1741\n",
    "\n",
    "#     accuracy                           0.63      3020\n",
    "#    macro avg       0.62      0.59      0.59      3020\n",
    "# weighted avg       0.62      0.63      0.61      3020\n",
    "\n",
    "\n",
    "start_time_svc = time.time()\n",
    "svc = LinearSVC().fit(x_train, y_train)\n",
    "predictions_svc = svc.predict(x_test)\n",
    "elapsed_time_svc = time.time() - start_time_svc\n",
    "\n",
    "print(\"LinearSVC: \\n time: %.3f\" % elapsed_time_svc)\n",
    "print(classification_report(y_test, predictions_svc))"
   ]
  },
  {
   "cell_type": "code",
   "execution_count": 26,
   "id": "9490dc00",
   "metadata": {},
   "outputs": [
    {
     "name": "stdout",
     "output_type": "stream",
     "text": [
      "KNeighborsClassifier: \n",
      " time: 0.586\n",
      "              precision    recall  f1-score   support\n",
      "\n",
      "           0       0.64      0.49      0.56      1279\n",
      "           1       0.68      0.80      0.74      1741\n",
      "\n",
      "    accuracy                           0.67      3020\n",
      "   macro avg       0.66      0.65      0.65      3020\n",
      "weighted avg       0.66      0.67      0.66      3020\n",
      "\n"
     ]
    }
   ],
   "source": [
    "#test_size=0.30\n",
    "#no diff kd_tree and ball_tree\n",
    "#with n_neighbors=25, weights='distance', algorithm='ball_tree'\n",
    "#  time: 0.431\n",
    "#               precision    recall  f1-score   support\n",
    "\n",
    "#            0       0.62      0.46      0.52      1541\n",
    "#            1       0.66      0.79      0.72      2083\n",
    "\n",
    "#     accuracy                           0.65      3624\n",
    "#    macro avg       0.64      0.62      0.62      3624\n",
    "# weighted avg       0.64      0.65      0.64      3624\n",
    "\n",
    "#test_size=0.25\n",
    "#  time: 0.328\n",
    "#               precision    recall  f1-score   support\n",
    "\n",
    "#            0       0.64      0.49      0.56      1279\n",
    "#            1       0.68      0.80      0.74      1741\n",
    "\n",
    "#     accuracy                           0.67      3020\n",
    "#    macro avg       0.66      0.65      0.65      3020\n",
    "# weighted avg       0.66      0.67      0.66      3020\n",
    "\n",
    "start_time_knn = time.time()\n",
    "knn = KNeighborsClassifier(n_neighbors=25, weights='distance', algorithm='ball_tree').fit(x_train, y_train)\n",
    "predictions_knn = knn.predict(x_test)\n",
    "elapsed_time_knn = time.time() - start_time_knn\n",
    "\n",
    "print(\"KNeighborsClassifier: \\n time: %.3f\" % elapsed_time_knn)\n",
    "print(classification_report(y_test, predictions_knn))"
   ]
  },
  {
   "cell_type": "code",
   "execution_count": 27,
   "id": "70e0c7de",
   "metadata": {},
   "outputs": [
    {
     "name": "stdout",
     "output_type": "stream",
     "text": [
      "KNeighborsClassifier: \n",
      " time: 1.241\n",
      "              precision    recall  f1-score   support\n",
      "\n",
      "           0       0.59      0.54      0.57      1279\n",
      "           1       0.68      0.72      0.70      1741\n",
      "\n",
      "    accuracy                           0.65      3020\n",
      "   macro avg       0.64      0.63      0.63      3020\n",
      "weighted avg       0.64      0.65      0.64      3020\n",
      "\n"
     ]
    }
   ],
   "source": [
    "#test_size=0.25\n",
    "start_time_knn = time.time()\n",
    "knn = KNeighborsClassifier().fit(x_train, y_train)\n",
    "predictions_knn = knn.predict(x_test)\n",
    "elapsed_time_knn = time.time() - start_time_knn\n",
    "print(\"KNeighborsClassifier: \\n time: %.3f\" % elapsed_time_knn)\n",
    "print(classification_report(y_test, predictions_knn))"
   ]
  },
  {
   "cell_type": "code",
   "execution_count": 28,
   "id": "b9dc418a",
   "metadata": {},
   "outputs": [
    {
     "name": "stdout",
     "output_type": "stream",
     "text": [
      "DecisionTreeClassifier: \n",
      " time: 0.020\n",
      "              precision    recall  f1-score   support\n",
      "\n",
      "           0       0.62      0.61      0.61      1279\n",
      "           1       0.72      0.73      0.72      1741\n",
      "\n",
      "    accuracy                           0.68      3020\n",
      "   macro avg       0.67      0.67      0.67      3020\n",
      "weighted avg       0.68      0.68      0.68      3020\n",
      "\n"
     ]
    }
   ],
   "source": [
    "#test_size = 0.30\n",
    "#worse results with any other perimeters\n",
    "# time: 0.015\n",
    "#               precision    recall  f1-score   support\n",
    "\n",
    "#            0       0.63      0.52      0.57      1541\n",
    "#            1       0.69      0.77      0.73      2083\n",
    "\n",
    "#     accuracy                           0.67      3624\n",
    "#    macro avg       0.66      0.65      0.65      3624\n",
    "# weighted avg       0.66      0.67      0.66      3624\n",
    "\n",
    "#test_size = 0.25\n",
    "# time: 0.024\n",
    "#               precision    recall  f1-score   support\n",
    "\n",
    "#            0       0.72      0.43      0.54      1279\n",
    "#            1       0.68      0.88      0.77      1741\n",
    "\n",
    "#     accuracy                           0.69      3020\n",
    "#    macro avg       0.70      0.66      0.65      3020\n",
    "# weighted avg       0.70      0.69      0.67      3020\n",
    "\n",
    "start_time_dtc = time.time()\n",
    "dtc = DecisionTreeClassifier(criterion='entropy', splitter='random', max_depth=5).fit(x_train, y_train)\n",
    "predictions_dtc = dtc.predict(x_test)\n",
    "elapsed_time_dtc = time.time() - start_time_dtc\n",
    "print(\"DecisionTreeClassifier: \\n time: %.3f\" % elapsed_time_dtc)\n",
    "print(classification_report(y_test, predictions_dtc))"
   ]
  },
  {
   "cell_type": "code",
   "execution_count": 29,
   "id": "5260c1fa",
   "metadata": {},
   "outputs": [
    {
     "name": "stdout",
     "output_type": "stream",
     "text": [
      "DecisionTreeClassifier: \n",
      " time: 0.062\n",
      "              precision    recall  f1-score   support\n",
      "\n",
      "           0       0.62      0.64      0.63      1279\n",
      "           1       0.73      0.71      0.72      1741\n",
      "\n",
      "    accuracy                           0.68      3020\n",
      "   macro avg       0.67      0.67      0.67      3020\n",
      "weighted avg       0.68      0.68      0.68      3020\n",
      "\n"
     ]
    }
   ],
   "source": [
    "#slightly better results with test_size=0.25\n",
    "# time: 0.042\n",
    "#               precision    recall  f1-score   support\n",
    "\n",
    "#            0       0.64      0.65      0.64      1279\n",
    "#            1       0.74      0.73      0.73      1741\n",
    "\n",
    "#     accuracy                           0.69      3020\n",
    "#    macro avg       0.69      0.69      0.69      3020\n",
    "# weighted avg       0.70      0.69      0.70      3020\n",
    "\n",
    "start_time_dtc = time.time()\n",
    "dtc = DecisionTreeClassifier().fit(x_train, y_train)\n",
    "predictions_dtc = dtc.predict(x_test)\n",
    "elapsed_time_dtc = time.time() - start_time_dtc\n",
    "print(\"DecisionTreeClassifier: \\n time: %.3f\" % elapsed_time_dtc)\n",
    "print(classification_report(y_test, predictions_dtc))"
   ]
  },
  {
   "cell_type": "code",
   "execution_count": 30,
   "id": "dcdb129e",
   "metadata": {},
   "outputs": [
    {
     "name": "stdout",
     "output_type": "stream",
     "text": [
      "RandomForestClassifier: \n",
      " time: 3.544\n",
      "              precision    recall  f1-score   support\n",
      "\n",
      "           0       0.71      0.66      0.68      1279\n",
      "           1       0.76      0.81      0.78      1741\n",
      "\n",
      "    accuracy                           0.74      3020\n",
      "   macro avg       0.74      0.73      0.73      3020\n",
      "weighted avg       0.74      0.74      0.74      3020\n",
      "\n"
     ]
    }
   ],
   "source": [
    "#test_size=0.3 same result as original with any perimter \n",
    "#similar for 0.25/0.30\n",
    "start_time_rfc = time.time()\n",
    "rfc = RandomForestClassifier(n_estimators=200, max_depth=30, random_state=2).fit(x_train, y_train)\n",
    "predictions_rfc = rfc.predict(x_test)\n",
    "elapsed_time_rfc = time.time() - start_time_rfc\n",
    "\n",
    "print(\"RandomForestClassifier: \\n time: %.3f\" % elapsed_time_rfc)\n",
    "print(classification_report(y_test, predictions_rfc))"
   ]
  },
  {
   "cell_type": "code",
   "execution_count": 31,
   "id": "16e654a4",
   "metadata": {},
   "outputs": [
    {
     "name": "stdout",
     "output_type": "stream",
     "text": [
      "RandomForestClassifier: \n",
      " time: 1.776\n",
      "              precision    recall  f1-score   support\n",
      "\n",
      "           0       0.71      0.66      0.68      1279\n",
      "           1       0.76      0.80      0.78      1741\n",
      "\n",
      "    accuracy                           0.74      3020\n",
      "   macro avg       0.73      0.73      0.73      3020\n",
      "weighted avg       0.74      0.74      0.74      3020\n",
      "\n"
     ]
    }
   ],
   "source": [
    "#min diff between 0.25 and 0.3 test_size\n",
    "start_time_rfc = time.time()\n",
    "rfc = RandomForestClassifier().fit(x_train, y_train)\n",
    "predictions_rfc = rfc.predict(x_test)\n",
    "elapsed_time_rfc = time.time() - start_time_rfc\n",
    "\n",
    "print(\"RandomForestClassifier: \\n time: %.3f\" % elapsed_time_rfc)\n",
    "print(classification_report(y_test, predictions_rfc))"
   ]
  },
  {
   "cell_type": "code",
   "execution_count": 32,
   "id": "6bb2a2a6",
   "metadata": {},
   "outputs": [
    {
     "name": "stdout",
     "output_type": "stream",
     "text": [
      "GradientBoostingClassifier: \n",
      " time: 10.506\n",
      "              precision    recall  f1-score   support\n",
      "\n",
      "           0       0.70      0.67      0.69      1279\n",
      "           1       0.77      0.79      0.78      1741\n",
      "\n",
      "    accuracy                           0.74      3020\n",
      "   macro avg       0.73      0.73      0.73      3020\n",
      "weighted avg       0.74      0.74      0.74      3020\n",
      "\n"
     ]
    }
   ],
   "source": [
    "#test_size=0.30\n",
    "#with loss='exponential', max_depth=10, learning_rate=0.75, n_estimators=120\n",
    "#  time: 10.529\n",
    "#               precision    recall  f1-score   support\n",
    "\n",
    "#            0       0.72      0.68      0.70      1541\n",
    "#            1       0.77      0.80      0.79      2083\n",
    "\n",
    "#     accuracy                           0.75      3624\n",
    "#    macro avg       0.74      0.74      0.74      3624\n",
    "# weighted avg       0.75      0.75      0.75      3624\n",
    "#similar result for test_size=0.25\n",
    "\n",
    "start_time_gbc = time.time()\n",
    "gbc = GradientBoostingClassifier(loss='exponential', max_depth=10, learning_rate=0.75, n_estimators=120).fit(x_train, y_train)\n",
    "predictions_gbc = gbc.predict(x_test)\n",
    "elapsed_time_gbc = time.time() - start_time_gbc\n",
    "\n",
    "print(\"GradientBoostingClassifier: \\n time: %.3f\" % elapsed_time_gbc)\n",
    "print(classification_report(y_test, predictions_gbc))"
   ]
  },
  {
   "cell_type": "code",
   "execution_count": 33,
   "id": "b6332777",
   "metadata": {},
   "outputs": [
    {
     "name": "stdout",
     "output_type": "stream",
     "text": [
      "GradientBoostingClassifier: \n",
      " time: 1.428\n",
      "              precision    recall  f1-score   support\n",
      "\n",
      "           0       0.71      0.60      0.65      1279\n",
      "           1       0.73      0.82      0.78      1741\n",
      "\n",
      "    accuracy                           0.73      3020\n",
      "   macro avg       0.72      0.71      0.71      3020\n",
      "weighted avg       0.72      0.73      0.72      3020\n",
      "\n"
     ]
    }
   ],
   "source": [
    "#test_size=0.25\n",
    "start_time_gbc = time.time()\n",
    "gbc = GradientBoostingClassifier().fit(x_train, y_train)\n",
    "predictions_gbc = gbc.predict(x_test)\n",
    "elapsed_time_gbc = time.time() - start_time_gbc\n",
    "print(\"GradientBoostingClassifier: \\n time: %.3f\" % elapsed_time_gbc)\n",
    "print(classification_report(y_test, predictions_gbc))"
   ]
  },
  {
   "cell_type": "markdown",
   "id": "225b1e1e",
   "metadata": {},
   "source": [
    "## Bar"
   ]
  },
  {
   "cell_type": "code",
   "execution_count": 34,
   "id": "567f138f",
   "metadata": {},
   "outputs": [],
   "source": [
    "test_size = 0.3\n",
    "x_train, x_test, y_train, y_test = train_test_split(X_bar, y_bar, test_size=test_size, random_state=seed)"
   ]
  },
  {
   "cell_type": "code",
   "execution_count": 35,
   "id": "b6073318",
   "metadata": {},
   "outputs": [
    {
     "name": "stdout",
     "output_type": "stream",
     "text": [
      "[LibLinear]LogisticRegression: \n",
      " time: 0.147\n",
      "              precision    recall  f1-score   support\n",
      "\n",
      "           0       0.70      0.83      0.76       333\n",
      "           1       0.69      0.51      0.59       241\n",
      "\n",
      "    accuracy                           0.70       574\n",
      "   macro avg       0.69      0.67      0.67       574\n",
      "weighted avg       0.70      0.70      0.69       574\n",
      "\n"
     ]
    }
   ],
   "source": [
    "#solver='liblinear'\n",
    "\n",
    "start_time_lr = time.time()\n",
    "lr = LogisticRegression(penalty='l2', solver='liblinear', max_iter=350, verbose=1).fit(x_train, y_train)\n",
    "predictions_lr = lr.predict(x_test)\n",
    "elapsed_time_lr = time.time() - start_time_lr\n",
    "\n",
    "print(f\"LogisticRegression: \\n time: %.3f\" % elapsed_time_lr)\n",
    "print(classification_report(y_test, predictions_lr))"
   ]
  },
  {
   "cell_type": "code",
   "execution_count": 36,
   "id": "0a6d0c65",
   "metadata": {},
   "outputs": [
    {
     "name": "stdout",
     "output_type": "stream",
     "text": [
      "LogisticRegression: \n",
      " time: 0.174\n",
      "              precision    recall  f1-score   support\n",
      "\n",
      "           0       0.70      0.83      0.76       333\n",
      "           1       0.68      0.50      0.57       241\n",
      "\n",
      "    accuracy                           0.69       574\n",
      "   macro avg       0.69      0.66      0.67       574\n",
      "weighted avg       0.69      0.69      0.68       574\n",
      "\n"
     ]
    }
   ],
   "source": [
    "#solver='liblinear'\n",
    "\n",
    "start_time_lr = time.time()\n",
    "lr = LogisticRegression(max_iter=350).fit(x_train, y_train)\n",
    "predictions_lr = lr.predict(x_test)\n",
    "elapsed_time_lr = time.time() - start_time_lr\n",
    "\n",
    "print(f\"LogisticRegression: \\n time: %.3f\" % elapsed_time_lr)\n",
    "print(classification_report(y_test, predictions_lr))"
   ]
  },
  {
   "cell_type": "code",
   "execution_count": 37,
   "id": "3fed1a92",
   "metadata": {},
   "outputs": [
    {
     "name": "stdout",
     "output_type": "stream",
     "text": [
      "LinearSVC: \n",
      " time: 0.109\n",
      "              precision    recall  f1-score   support\n",
      "\n",
      "           0       0.70      0.83      0.76       333\n",
      "           1       0.69      0.51      0.59       241\n",
      "\n",
      "    accuracy                           0.70       574\n",
      "   macro avg       0.70      0.67      0.68       574\n",
      "weighted avg       0.70      0.70      0.69       574\n",
      "\n"
     ]
    },
    {
     "name": "stderr",
     "output_type": "stream",
     "text": [
      "/home/vanda/Projects/jupyter_notes/lib/python3.8/site-packages/sklearn/svm/_base.py:985: ConvergenceWarning: Liblinear failed to converge, increase the number of iterations.\n",
      "  warnings.warn(\"Liblinear failed to converge, increase \"\n"
     ]
    }
   ],
   "source": [
    "#test_size = 0.30\n",
    "#with loss='hinge', max_iter=10000, random_state=55\n",
    "# time: 0.202\n",
    "#               precision    recall  f1-score   support\n",
    "\n",
    "#            0       0.71      0.83      0.76       278\n",
    "#            1       0.69      0.53      0.60       201\n",
    "\n",
    "#     accuracy                           0.70       479\n",
    "#    macro avg       0.70      0.68      0.68       479\n",
    "# weighted avg       0.70      0.70      0.69       479\n",
    "start_time_svc = time.time()\n",
    "svc = LinearSVC(loss='hinge', max_iter=10000).fit(x_train, y_train)\n",
    "predictions_svc = svc.predict(x_test)\n",
    "elapsed_time_svc = time.time() - start_time_svc\n",
    "\n",
    "print(\"LinearSVC: \\n time: %.3f\" % elapsed_time_svc)\n",
    "print(classification_report(y_test, predictions_svc))"
   ]
  },
  {
   "cell_type": "code",
   "execution_count": 38,
   "id": "127705e5",
   "metadata": {},
   "outputs": [
    {
     "name": "stdout",
     "output_type": "stream",
     "text": [
      "LinearSVC: \n",
      " time: 0.206\n",
      "              precision    recall  f1-score   support\n",
      "\n",
      "           0       0.68      0.86      0.76       333\n",
      "           1       0.70      0.44      0.54       241\n",
      "\n",
      "    accuracy                           0.68       574\n",
      "   macro avg       0.69      0.65      0.65       574\n",
      "weighted avg       0.69      0.68      0.67       574\n",
      "\n"
     ]
    },
    {
     "name": "stderr",
     "output_type": "stream",
     "text": [
      "/home/vanda/Projects/jupyter_notes/lib/python3.8/site-packages/sklearn/svm/_base.py:985: ConvergenceWarning: Liblinear failed to converge, increase the number of iterations.\n",
      "  warnings.warn(\"Liblinear failed to converge, increase \"\n"
     ]
    }
   ],
   "source": [
    "start_time_svc = time.time()\n",
    "svc = LinearSVC(max_iter=3000).fit(x_train, y_train)\n",
    "predictions_svc = svc.predict(x_test)\n",
    "elapsed_time_svc = time.time() - start_time_svc\n",
    "\n",
    "print(\"LinearSVC: \\n time: %.3f\" % elapsed_time_svc)\n",
    "print(classification_report(y_test, predictions_svc))"
   ]
  },
  {
   "cell_type": "code",
   "execution_count": 39,
   "id": "77a7c63e",
   "metadata": {},
   "outputs": [
    {
     "name": "stdout",
     "output_type": "stream",
     "text": [
      "KNeighborsClassifier: \n",
      " time: 0.022\n",
      "              precision    recall  f1-score   support\n",
      "\n",
      "           0       0.69      0.84      0.76       333\n",
      "           1       0.69      0.49      0.57       241\n",
      "\n",
      "    accuracy                           0.69       574\n",
      "   macro avg       0.69      0.66      0.67       574\n",
      "weighted avg       0.69      0.69      0.68       574\n",
      "\n"
     ]
    }
   ],
   "source": [
    "#no diff kd_tree and ball_tree; min_diff with original\n",
    "#with n_neighbors=25, weights='distance', algorithm='ball_tree'\n",
    "#  time: 0.018\n",
    "#               precision    recall  f1-score   support\n",
    "\n",
    "#            0       0.70      0.82      0.75       278\n",
    "#            1       0.67      0.51      0.58       201\n",
    "\n",
    "#     accuracy                           0.69       479\n",
    "#    macro avg       0.69      0.67      0.67       479\n",
    "# weighted avg       0.69      0.69      0.68       479\n",
    "\n",
    "start_time_knn = time.time()\n",
    "knn = KNeighborsClassifier(n_neighbors=25, weights='distance', algorithm='ball_tree').fit(x_train, y_train)\n",
    "predictions_knn = knn.predict(x_test)\n",
    "elapsed_time_knn = time.time() - start_time_knn\n",
    "\n",
    "print(\"KNeighborsClassifier: \\n time: %.3f\" % elapsed_time_knn)\n",
    "print(classification_report(y_test, predictions_knn))"
   ]
  },
  {
   "cell_type": "code",
   "execution_count": 40,
   "id": "a8586219",
   "metadata": {},
   "outputs": [
    {
     "name": "stdout",
     "output_type": "stream",
     "text": [
      "KNeighborsClassifier: \n",
      " time: 0.039\n",
      "              precision    recall  f1-score   support\n",
      "\n",
      "           0       0.72      0.75      0.73       333\n",
      "           1       0.63      0.59      0.61       241\n",
      "\n",
      "    accuracy                           0.68       574\n",
      "   macro avg       0.67      0.67      0.67       574\n",
      "weighted avg       0.68      0.68      0.68       574\n",
      "\n"
     ]
    }
   ],
   "source": [
    "start_time_knn = time.time()\n",
    "knn = KNeighborsClassifier().fit(x_train, y_train)\n",
    "predictions_knn = knn.predict(x_test)\n",
    "elapsed_time_knn = time.time() - start_time_knn\n",
    "print(\"KNeighborsClassifier: \\n time: %.3f\" % elapsed_time_knn)\n",
    "print(classification_report(y_test, predictions_knn))"
   ]
  },
  {
   "cell_type": "code",
   "execution_count": 41,
   "id": "818d28b3",
   "metadata": {},
   "outputs": [
    {
     "name": "stdout",
     "output_type": "stream",
     "text": [
      "DecisionTreeClassifier: \n",
      " time: 0.007\n",
      "              precision    recall  f1-score   support\n",
      "\n",
      "           0       0.71      0.82      0.76       333\n",
      "           1       0.68      0.54      0.60       241\n",
      "\n",
      "    accuracy                           0.70       574\n",
      "   macro avg       0.70      0.68      0.68       574\n",
      "weighted avg       0.70      0.70      0.69       574\n",
      "\n"
     ]
    }
   ],
   "source": [
    "#with criterion='entropy', splitter='random', max_depth=5\n",
    "# time: 0.022\n",
    "#               precision    recall  f1-score   support\n",
    "\n",
    "#            0       0.75      0.79      0.77       278\n",
    "#            1       0.69      0.63      0.66       201\n",
    "\n",
    "#     accuracy                           0.72       479\n",
    "#    macro avg       0.72      0.71      0.71       479\n",
    "# weighted avg       0.72      0.72      0.72       479\n",
    "\n",
    "start_time_dtc = time.time()\n",
    "dtc = DecisionTreeClassifier(criterion='entropy', splitter='random', max_depth=5).fit(x_train, y_train)\n",
    "predictions_dtc = dtc.predict(x_test)\n",
    "elapsed_time_dtc = time.time() - start_time_dtc\n",
    "print(\"DecisionTreeClassifier: \\n time: %.3f\" % elapsed_time_dtc)\n",
    "print(classification_report(y_test, predictions_dtc))"
   ]
  },
  {
   "cell_type": "code",
   "execution_count": 42,
   "id": "eb335ded",
   "metadata": {},
   "outputs": [
    {
     "name": "stdout",
     "output_type": "stream",
     "text": [
      "DecisionTreeClassifier: \n",
      " time: 0.013\n",
      "              precision    recall  f1-score   support\n",
      "\n",
      "           0       0.74      0.75      0.75       333\n",
      "           1       0.65      0.64      0.65       241\n",
      "\n",
      "    accuracy                           0.70       574\n",
      "   macro avg       0.70      0.70      0.70       574\n",
      "weighted avg       0.70      0.70      0.70       574\n",
      "\n"
     ]
    }
   ],
   "source": [
    "start_time_dtc = time.time()\n",
    "dtc = DecisionTreeClassifier( max_depth=15).fit(x_train, y_train)\n",
    "predictions_dtc = dtc.predict(x_test)\n",
    "elapsed_time_dtc = time.time() - start_time_dtc\n",
    "print(\"DecisionTreeClassifier: \\n time: %.3f\" % elapsed_time_dtc)\n",
    "print(classification_report(y_test, predictions_dtc))"
   ]
  },
  {
   "cell_type": "code",
   "execution_count": 43,
   "id": "8474cb01",
   "metadata": {},
   "outputs": [
    {
     "name": "stdout",
     "output_type": "stream",
     "text": [
      "RandomForestClassifier: \n",
      " time: 1.274\n",
      "              precision    recall  f1-score   support\n",
      "\n",
      "           0       0.74      0.75      0.75       333\n",
      "           1       0.65      0.64      0.65       241\n",
      "\n",
      "    accuracy                           0.71       574\n",
      "   macro avg       0.70      0.70      0.70       574\n",
      "weighted avg       0.70      0.71      0.71       574\n",
      "\n"
     ]
    }
   ],
   "source": [
    "start_time_rfc = time.time()\n",
    "rfc = RandomForestClassifier(n_estimators=500, max_depth=30, random_state=2, bootstrap=False).fit(x_train, y_train)\n",
    "predictions_rfc = rfc.predict(x_test)\n",
    "elapsed_time_rfc = time.time() - start_time_rfc\n",
    "\n",
    "print(\"RandomForestClassifier: \\n time: %.3f\" % elapsed_time_rfc)\n",
    "print(classification_report(y_test, predictions_rfc))"
   ]
  },
  {
   "cell_type": "code",
   "execution_count": 44,
   "id": "6f74f457",
   "metadata": {},
   "outputs": [
    {
     "name": "stdout",
     "output_type": "stream",
     "text": [
      "RandomForestClassifier: \n",
      " time: 0.250\n",
      "              precision    recall  f1-score   support\n",
      "\n",
      "           0       0.74      0.77      0.76       333\n",
      "           1       0.67      0.63      0.65       241\n",
      "\n",
      "    accuracy                           0.71       574\n",
      "   macro avg       0.70      0.70      0.70       574\n",
      "weighted avg       0.71      0.71      0.71       574\n",
      "\n"
     ]
    }
   ],
   "source": [
    "# time: 0.335\n",
    "#               precision    recall  f1-score   support\n",
    "\n",
    "#            0       0.75      0.80      0.77       278\n",
    "#            1       0.69      0.63      0.66       201\n",
    "\n",
    "#     accuracy                           0.73       479\n",
    "#    macro avg       0.72      0.72      0.72       479\n",
    "# weighted avg       0.73      0.73      0.73       479\n",
    "\n",
    "start_time_rfc = time.time()\n",
    "rfc = RandomForestClassifier().fit(x_train, y_train)\n",
    "predictions_rfc = rfc.predict(x_test)\n",
    "elapsed_time_rfc = time.time() - start_time_rfc\n",
    "\n",
    "print(\"RandomForestClassifier: \\n time: %.3f\" % elapsed_time_rfc)\n",
    "print(classification_report(y_test, predictions_rfc))"
   ]
  },
  {
   "cell_type": "code",
   "execution_count": 47,
   "id": "dd0a41a3",
   "metadata": {},
   "outputs": [
    {
     "name": "stdout",
     "output_type": "stream",
     "text": [
      "GradientBoostingClassifier: \n",
      " time: 0.432\n",
      "              precision    recall  f1-score   support\n",
      "\n",
      "           0       0.77      0.76      0.76       333\n",
      "           1       0.67      0.68      0.67       241\n",
      "\n",
      "    accuracy                           0.72       574\n",
      "   macro avg       0.72      0.72      0.72       574\n",
      "weighted avg       0.73      0.72      0.73       574\n",
      "\n"
     ]
    }
   ],
   "source": [
    "#loss='exponential', max_depth=5, learning_rate=0.75, n_estimators=150s\n",
    "# time: 0.702\n",
    "#               precision    recall  f1-score   support\n",
    "\n",
    "#            0       0.79      0.82      0.80       278\n",
    "#            1       0.74      0.69      0.71       201\n",
    "\n",
    "#     accuracy                           0.77       479\n",
    "#    macro avg       0.76      0.76      0.76       479\n",
    "# weighted avg       0.77      0.77      0.77       479\n",
    "\n",
    "start_time_gbc = time.time()\n",
    "gbc = GradientBoostingClassifier(loss='exponential', max_depth=5, learning_rate=0.75, n_estimators=150).fit(x_train, y_train)\n",
    "predictions_gbc = gbc.predict(x_test)\n",
    "elapsed_time_gbc = time.time() - start_time_gbc\n",
    "\n",
    "print(\"GradientBoostingClassifier: \\n time: %.3f\" % elapsed_time_gbc)\n",
    "print(classification_report(y_test, predictions_gbc))"
   ]
  },
  {
   "cell_type": "code",
   "execution_count": 46,
   "id": "99491914",
   "metadata": {},
   "outputs": [
    {
     "name": "stdout",
     "output_type": "stream",
     "text": [
      "GradientBoostingClassifier: \n",
      " time: 0.280\n",
      "              precision    recall  f1-score   support\n",
      "\n",
      "           0       0.79      0.78      0.79       333\n",
      "           1       0.70      0.71      0.71       241\n",
      "\n",
      "    accuracy                           0.75       574\n",
      "   macro avg       0.75      0.75      0.75       574\n",
      "weighted avg       0.75      0.75      0.75       574\n",
      "\n"
     ]
    }
   ],
   "source": [
    "start_time_gbc = time.time()\n",
    "gbc = GradientBoostingClassifier(max_depth=5, learning_rate=0.75).fit(x_train, y_train)\n",
    "predictions_gbc = gbc.predict(x_test)\n",
    "elapsed_time_gbc = time.time() - start_time_gbc\n",
    "print(\"GradientBoostingClassifier: \\n time: %.3f\" % elapsed_time_gbc)\n",
    "print(classification_report(y_test, predictions_gbc))"
   ]
  },
  {
   "cell_type": "markdown",
   "id": "a22b5c54",
   "metadata": {},
   "source": [
    "## CoffeeHouse "
   ]
  },
  {
   "cell_type": "code",
   "execution_count": 48,
   "id": "d42df141",
   "metadata": {},
   "outputs": [],
   "source": [
    "test_size=0.25\n",
    "x_train, x_test, y_train, y_test = train_test_split(X_coffee, y_coffee, test_size=test_size, random_state=seed)"
   ]
  },
  {
   "cell_type": "code",
   "execution_count": 49,
   "id": "01de5b00",
   "metadata": {},
   "outputs": [
    {
     "name": "stdout",
     "output_type": "stream",
     "text": [
      "LogisticRegression: \n",
      " time: 0.029\n",
      "              precision    recall  f1-score   support\n",
      "\n",
      "           0       0.69      0.69      0.69       478\n",
      "           1       0.69      0.69      0.69       476\n",
      "\n",
      "    accuracy                           0.69       954\n",
      "   macro avg       0.69      0.69      0.69       954\n",
      "weighted avg       0.69      0.69      0.69       954\n",
      "\n"
     ]
    }
   ],
   "source": [
    "#solver='liblinear'\n",
    "#same result as with default parameters\n",
    "#test_size=0.25 higher by 0.01\n",
    "start_time_lr = time.time()\n",
    "lr = LogisticRegression(penalty='l2', solver='liblinear', max_iter=150).fit(x_train, y_train)\n",
    "predictions_lr = lr.predict(x_test)\n",
    "elapsed_time_lr = time.time() - start_time_lr\n",
    "\n",
    "print(f\"LogisticRegression: \\n time: %.3f\" % elapsed_time_lr)\n",
    "print(classification_report(y_test, predictions_lr))"
   ]
  },
  {
   "cell_type": "code",
   "execution_count": 50,
   "id": "b802ee8c",
   "metadata": {},
   "outputs": [
    {
     "name": "stdout",
     "output_type": "stream",
     "text": [
      "LogisticRegression: \n",
      " time: 0.228\n",
      "              precision    recall  f1-score   support\n",
      "\n",
      "           0       0.69      0.69      0.69       478\n",
      "           1       0.69      0.69      0.69       476\n",
      "\n",
      "    accuracy                           0.69       954\n",
      "   macro avg       0.69      0.69      0.69       954\n",
      "weighted avg       0.69      0.69      0.69       954\n",
      "\n"
     ]
    }
   ],
   "source": [
    "#solver='liblinear'\n",
    "\n",
    "start_time_lr = time.time()\n",
    "lr = LogisticRegression(max_iter=350).fit(x_train, y_train)\n",
    "predictions_lr = lr.predict(x_test)\n",
    "elapsed_time_lr = time.time() - start_time_lr\n",
    "\n",
    "print(f\"LogisticRegression: \\n time: %.3f\" % elapsed_time_lr)\n",
    "print(classification_report(y_test, predictions_lr))"
   ]
  },
  {
   "cell_type": "code",
   "execution_count": 51,
   "id": "633ffa01",
   "metadata": {},
   "outputs": [
    {
     "name": "stdout",
     "output_type": "stream",
     "text": [
      "LinearSVC: \n",
      " time: 0.376\n",
      "              precision    recall  f1-score   support\n",
      "\n",
      "           0       0.70      0.69      0.70       478\n",
      "           1       0.69      0.70      0.70       476\n",
      "\n",
      "    accuracy                           0.70       954\n",
      "   macro avg       0.70      0.70      0.70       954\n",
      "weighted avg       0.70      0.70      0.70       954\n",
      "\n"
     ]
    },
    {
     "name": "stderr",
     "output_type": "stream",
     "text": [
      "/home/vanda/Projects/jupyter_notes/lib/python3.8/site-packages/sklearn/svm/_base.py:985: ConvergenceWarning: Liblinear failed to converge, increase the number of iterations.\n",
      "  warnings.warn(\"Liblinear failed to converge, increase \"\n"
     ]
    }
   ],
   "source": [
    "#with loss='hinge', max_iter=10000\n",
    "#  time: 0.371\n",
    "#               precision    recall  f1-score   support\n",
    "\n",
    "#            0       0.70      0.66      0.68       579\n",
    "#            1       0.67      0.70      0.69       566\n",
    "\n",
    "#     accuracy                           0.68      1145\n",
    "#    macro avg       0.68      0.68      0.68      1145\n",
    "# weighted avg       0.68      0.68      0.68      1145\n",
    "\n",
    "#test_size=0.25 higher by 0.01\n",
    "# time: 0.371\n",
    "#               precision    recall  f1-score   support\n",
    "\n",
    "#            0       0.70      0.68      0.69       478\n",
    "#            1       0.69      0.71      0.70       476\n",
    "\n",
    "#     accuracy                           0.69       954\n",
    "#    macro avg       0.69      0.69      0.69       954\n",
    "# weighted avg       0.69      0.69      0.69       954\n",
    "\n",
    "start_time_svc = time.time()\n",
    "svc = LinearSVC(loss='hinge', max_iter=10000).fit(x_train, y_train)\n",
    "predictions_svc = svc.predict(x_test)\n",
    "elapsed_time_svc = time.time() - start_time_svc\n",
    "\n",
    "print(\"LinearSVC: \\n time: %.3f\" % elapsed_time_svc)\n",
    "print(classification_report(y_test, predictions_svc))"
   ]
  },
  {
   "cell_type": "code",
   "execution_count": 52,
   "id": "94a4e5e8",
   "metadata": {},
   "outputs": [
    {
     "name": "stdout",
     "output_type": "stream",
     "text": [
      "LinearSVC: \n",
      " time: 0.712\n",
      "              precision    recall  f1-score   support\n",
      "\n",
      "           0       0.66      0.74      0.70       478\n",
      "           1       0.70      0.61      0.66       476\n",
      "\n",
      "    accuracy                           0.68       954\n",
      "   macro avg       0.68      0.68      0.68       954\n",
      "weighted avg       0.68      0.68      0.68       954\n",
      "\n"
     ]
    },
    {
     "name": "stderr",
     "output_type": "stream",
     "text": [
      "/home/vanda/Projects/jupyter_notes/lib/python3.8/site-packages/sklearn/svm/_base.py:985: ConvergenceWarning: Liblinear failed to converge, increase the number of iterations.\n",
      "  warnings.warn(\"Liblinear failed to converge, increase \"\n"
     ]
    }
   ],
   "source": [
    "start_time_svc = time.time()\n",
    "svc = LinearSVC(max_iter=3000).fit(x_train, y_train)\n",
    "predictions_svc = svc.predict(x_test)\n",
    "elapsed_time_svc = time.time() - start_time_svc\n",
    "\n",
    "print(\"LinearSVC: \\n time: %.3f\" % elapsed_time_svc)\n",
    "print(classification_report(y_test, predictions_svc))"
   ]
  },
  {
   "cell_type": "code",
   "execution_count": 53,
   "id": "61fc906a",
   "metadata": {},
   "outputs": [
    {
     "name": "stdout",
     "output_type": "stream",
     "text": [
      "KNeighborsClassifier: \n",
      " time: 0.046\n",
      "              precision    recall  f1-score   support\n",
      "\n",
      "           0       0.70      0.68      0.69       478\n",
      "           1       0.69      0.70      0.69       476\n",
      "\n",
      "    accuracy                           0.69       954\n",
      "   macro avg       0.69      0.69      0.69       954\n",
      "weighted avg       0.69      0.69      0.69       954\n",
      "\n"
     ]
    }
   ],
   "source": [
    "#no diff kd_tree and ball_tree\n",
    "#with n_neighbors=15, weights='distance', algorithm='ball_tree'\n",
    "# time: 0.046\n",
    "#               precision    recall  f1-score   support\n",
    "\n",
    "#            0       0.71      0.67      0.69       579\n",
    "#            1       0.68      0.71      0.70       566\n",
    "\n",
    "#     accuracy                           0.69      1145\n",
    "#    macro avg       0.69      0.69      0.69      1145\n",
    "# weighted avg       0.69      0.69      0.69      1145\n",
    "\n",
    "#test_size=0.25 similar results\n",
    "\n",
    "start_time_knn = time.time()\n",
    "knn = KNeighborsClassifier(n_neighbors=15, weights='distance', algorithm='ball_tree').fit(x_train, y_train)\n",
    "predictions_knn = knn.predict(x_test)\n",
    "elapsed_time_knn = time.time() - start_time_knn\n",
    "\n",
    "print(\"KNeighborsClassifier: \\n time: %.3f\" % elapsed_time_knn)\n",
    "print(classification_report(y_test, predictions_knn))"
   ]
  },
  {
   "cell_type": "code",
   "execution_count": 54,
   "id": "0d319197",
   "metadata": {},
   "outputs": [
    {
     "name": "stdout",
     "output_type": "stream",
     "text": [
      "KNeighborsClassifier: \n",
      " time: 0.090\n",
      "              precision    recall  f1-score   support\n",
      "\n",
      "           0       0.67      0.63      0.65       478\n",
      "           1       0.65      0.69      0.67       476\n",
      "\n",
      "    accuracy                           0.66       954\n",
      "   macro avg       0.66      0.66      0.66       954\n",
      "weighted avg       0.66      0.66      0.66       954\n",
      "\n"
     ]
    }
   ],
   "source": [
    "start_time_knn = time.time()\n",
    "knn = KNeighborsClassifier().fit(x_train, y_train)\n",
    "predictions_knn = knn.predict(x_test)\n",
    "elapsed_time_knn = time.time() - start_time_knn\n",
    "print(\"KNeighborsClassifier: \\n time: %.3f\" % elapsed_time_knn)\n",
    "print(classification_report(y_test, predictions_knn))"
   ]
  },
  {
   "cell_type": "code",
   "execution_count": 55,
   "id": "8fc24bc0",
   "metadata": {},
   "outputs": [
    {
     "name": "stdout",
     "output_type": "stream",
     "text": [
      "DecisionTreeClassifier: \n",
      " time: 0.011\n",
      "              precision    recall  f1-score   support\n",
      "\n",
      "           0       0.69      0.68      0.68       478\n",
      "           1       0.68      0.69      0.69       476\n",
      "\n",
      "    accuracy                           0.69       954\n",
      "   macro avg       0.69      0.69      0.69       954\n",
      "weighted avg       0.69      0.69      0.69       954\n",
      "\n"
     ]
    }
   ],
   "source": [
    "#with criterion='entropy', splitter='random', max_depth=5\n",
    "#  time: 0.016\n",
    "#               precision    recall  f1-score   support\n",
    "\n",
    "#            0       0.67      0.74      0.71       579\n",
    "#            1       0.70      0.63      0.67       566\n",
    "\n",
    "#     accuracy                           0.69      1145\n",
    "#    macro avg       0.69      0.69      0.69      1145\n",
    "#weighted avg       0.69      0.69      0.69      1145\n",
    "\n",
    "#test_size = 0.25\n",
    "#  time: 0.014\n",
    "#               precision    recall  f1-score   support\n",
    "\n",
    "#            0       0.75      0.66      0.70       478\n",
    "#            1       0.69      0.78      0.73       476\n",
    "\n",
    "#     accuracy                           0.72       954\n",
    "#    macro avg       0.72      0.72      0.72       954\n",
    "# weighted avg       0.72      0.72      0.72       954\n",
    "\n",
    "\n",
    "\n",
    "start_time_dtc = time.time()\n",
    "dtc = DecisionTreeClassifier(criterion='entropy', splitter='random', max_depth=5).fit(x_train, y_train)\n",
    "predictions_dtc = dtc.predict(x_test)\n",
    "elapsed_time_dtc = time.time() - start_time_dtc\n",
    "print(\"DecisionTreeClassifier: \\n time: %.3f\" % elapsed_time_dtc)\n",
    "print(classification_report(y_test, predictions_dtc))"
   ]
  },
  {
   "cell_type": "code",
   "execution_count": 56,
   "id": "4fa6d551",
   "metadata": {},
   "outputs": [
    {
     "name": "stdout",
     "output_type": "stream",
     "text": [
      "DecisionTreeClassifier: \n",
      " time: 0.016\n",
      "              precision    recall  f1-score   support\n",
      "\n",
      "           0       0.66      0.69      0.68       478\n",
      "           1       0.68      0.65      0.66       476\n",
      "\n",
      "    accuracy                           0.67       954\n",
      "   macro avg       0.67      0.67      0.67       954\n",
      "weighted avg       0.67      0.67      0.67       954\n",
      "\n"
     ]
    }
   ],
   "source": [
    "start_time_dtc = time.time()\n",
    "dtc = DecisionTreeClassifier( max_depth=15).fit(x_train, y_train)\n",
    "predictions_dtc = dtc.predict(x_test)\n",
    "elapsed_time_dtc = time.time() - start_time_dtc\n",
    "print(\"DecisionTreeClassifier: \\n time: %.3f\" % elapsed_time_dtc)\n",
    "print(classification_report(y_test, predictions_dtc))"
   ]
  },
  {
   "cell_type": "code",
   "execution_count": 57,
   "id": "8fc62c56",
   "metadata": {},
   "outputs": [
    {
     "name": "stdout",
     "output_type": "stream",
     "text": [
      "RandomForestClassifier: \n",
      " time: 0.767\n",
      "              precision    recall  f1-score   support\n",
      "\n",
      "           0       0.72      0.70      0.71       478\n",
      "           1       0.71      0.72      0.72       476\n",
      "\n",
      "    accuracy                           0.71       954\n",
      "   macro avg       0.71      0.71      0.71       954\n",
      "weighted avg       0.71      0.71      0.71       954\n",
      "\n"
     ]
    }
   ],
   "source": [
    "#no diff between 0.25/0.30\n",
    "#same as wiht default parameters\n",
    "start_time_rfc = time.time()\n",
    "rfc = RandomForestClassifier(n_estimators=200, max_depth=30, random_state=2).fit(x_train, y_train)\n",
    "predictions_rfc = rfc.predict(x_test)\n",
    "elapsed_time_rfc = time.time() - start_time_rfc\n",
    "\n",
    "print(\"RandomForestClassifier: \\n time: %.3f\" % elapsed_time_rfc)\n",
    "print(classification_report(y_test, predictions_rfc))"
   ]
  },
  {
   "cell_type": "code",
   "execution_count": 58,
   "id": "58172b9d",
   "metadata": {},
   "outputs": [
    {
     "name": "stdout",
     "output_type": "stream",
     "text": [
      "RandomForestClassifier: \n",
      " time: 0.368\n",
      "              precision    recall  f1-score   support\n",
      "\n",
      "           0       0.72      0.70      0.71       478\n",
      "           1       0.71      0.72      0.72       476\n",
      "\n",
      "    accuracy                           0.71       954\n",
      "   macro avg       0.71      0.71      0.71       954\n",
      "weighted avg       0.71      0.71      0.71       954\n",
      "\n"
     ]
    }
   ],
   "source": [
    "#min diff between 0.25 and 0.3 test_size\n",
    "start_time_rfc = time.time()\n",
    "rfc = RandomForestClassifier(max_depth=25).fit(x_train, y_train)\n",
    "predictions_rfc = rfc.predict(x_test)\n",
    "elapsed_time_rfc = time.time() - start_time_rfc\n",
    "\n",
    "print(\"RandomForestClassifier: \\n time: %.3f\" % elapsed_time_rfc)\n",
    "print(classification_report(y_test, predictions_rfc))"
   ]
  },
  {
   "cell_type": "code",
   "execution_count": 59,
   "id": "d63f010e",
   "metadata": {},
   "outputs": [
    {
     "name": "stdout",
     "output_type": "stream",
     "text": [
      "GradientBoostingClassifier: \n",
      " time: 3.322\n",
      "              precision    recall  f1-score   support\n",
      "\n",
      "           0       0.73      0.71      0.72       478\n",
      "           1       0.72      0.74      0.73       476\n",
      "\n",
      "    accuracy                           0.72       954\n",
      "   macro avg       0.72      0.72      0.72       954\n",
      "weighted avg       0.72      0.72      0.72       954\n",
      "\n"
     ]
    }
   ],
   "source": [
    "\n",
    "start_time_gbc = time.time()\n",
    "gbc = GradientBoostingClassifier(loss='exponential', max_depth=10, learning_rate=0.75, n_estimators=120).fit(x_train, y_train)\n",
    "predictions_gbc = gbc.predict(x_test)\n",
    "elapsed_time_gbc = time.time() - start_time_gbc\n",
    "\n",
    "print(\"GradientBoostingClassifier: \\n time: %.3f\" % elapsed_time_gbc)\n",
    "print(classification_report(y_test, predictions_gbc))"
   ]
  },
  {
   "cell_type": "code",
   "execution_count": 60,
   "id": "51f45e84",
   "metadata": {},
   "outputs": [
    {
     "name": "stdout",
     "output_type": "stream",
     "text": [
      "GradientBoostingClassifier: \n",
      " time: 3.884\n",
      "              precision    recall  f1-score   support\n",
      "\n",
      "           0       0.74      0.74      0.74       478\n",
      "           1       0.74      0.74      0.74       476\n",
      "\n",
      "    accuracy                           0.74       954\n",
      "   macro avg       0.74      0.74      0.74       954\n",
      "weighted avg       0.74      0.74      0.74       954\n",
      "\n"
     ]
    }
   ],
   "source": [
    "#test_size=0.30\n",
    "#with max_depth=10, learning_rate=0.75; similar res as with additional parameters same as without\n",
    "#  time: 3.756\n",
    "#               precision    recall  f1-score   support\n",
    "\n",
    "#            0       0.73      0.71      0.72       579\n",
    "#            1       0.71      0.73      0.72       566\n",
    "\n",
    "#     accuracy                           0.72      1145\n",
    "#    macro avg       0.72      0.72      0.72      1145\n",
    "# weighted avg       0.72      0.72      0.72      1145\n",
    "\n",
    "#test_size=0.25 higher by 0.01\n",
    "\n",
    "start_time_gbc = time.time()\n",
    "gbc = GradientBoostingClassifier(max_depth=10, learning_rate=0.75).fit(x_train, y_train)\n",
    "predictions_gbc = gbc.predict(x_test)\n",
    "elapsed_time_gbc = time.time() - start_time_gbc\n",
    "print(\"GradientBoostingClassifier: \\n time: %.3f\" % elapsed_time_gbc)\n",
    "print(classification_report(y_test, predictions_gbc))"
   ]
  },
  {
   "cell_type": "markdown",
   "id": "0d1dbbc7",
   "metadata": {},
   "source": [
    "## CarryAway "
   ]
  },
  {
   "cell_type": "code",
   "execution_count": 61,
   "id": "e9cbec1c",
   "metadata": {},
   "outputs": [],
   "source": [
    "test_size=0.30\n",
    "x_train, x_test, y_train, y_test = train_test_split(X_carry_away, y_carry_away, test_size=test_size, random_state=seed)"
   ]
  },
  {
   "cell_type": "code",
   "execution_count": 62,
   "id": "0719aefa",
   "metadata": {},
   "outputs": [
    {
     "name": "stdout",
     "output_type": "stream",
     "text": [
      "[LibLinear]LogisticRegression: \n",
      " time: 0.016\n",
      "              precision    recall  f1-score   support\n",
      "\n",
      "           0       0.62      0.09      0.15       171\n",
      "           1       0.76      0.98      0.86       513\n",
      "\n",
      "    accuracy                           0.76       684\n",
      "   macro avg       0.69      0.54      0.51       684\n",
      "weighted avg       0.73      0.76      0.68       684\n",
      "\n"
     ]
    }
   ],
   "source": [
    "#solver='liblinear'\n",
    "\n",
    "start_time_lr = time.time()\n",
    "lr = LogisticRegression(penalty='l2', solver='liblinear', max_iter=350, verbose=1).fit(x_train, y_train)\n",
    "predictions_lr = lr.predict(x_test)\n",
    "elapsed_time_lr = time.time() - start_time_lr\n",
    "\n",
    "print(f\"LogisticRegression: \\n time: %.3f\" % elapsed_time_lr)\n",
    "print(classification_report(y_test, predictions_lr))"
   ]
  },
  {
   "cell_type": "code",
   "execution_count": 63,
   "id": "a538631b",
   "metadata": {},
   "outputs": [
    {
     "name": "stdout",
     "output_type": "stream",
     "text": [
      "LogisticRegression: \n",
      " time: 0.056\n",
      "              precision    recall  f1-score   support\n",
      "\n",
      "           0       0.62      0.09      0.15       171\n",
      "           1       0.76      0.98      0.86       513\n",
      "\n",
      "    accuracy                           0.76       684\n",
      "   macro avg       0.69      0.54      0.51       684\n",
      "weighted avg       0.73      0.76      0.68       684\n",
      "\n"
     ]
    }
   ],
   "source": [
    "#solver='liblinear'\n",
    "\n",
    "start_time_lr = time.time()\n",
    "lr = LogisticRegression(max_iter=350).fit(x_train, y_train)\n",
    "predictions_lr = lr.predict(x_test)\n",
    "elapsed_time_lr = time.time() - start_time_lr\n",
    "\n",
    "print(f\"LogisticRegression: \\n time: %.3f\" % elapsed_time_lr)\n",
    "print(classification_report(y_test, predictions_lr))"
   ]
  },
  {
   "cell_type": "code",
   "execution_count": 64,
   "id": "866b2f7d",
   "metadata": {},
   "outputs": [
    {
     "name": "stdout",
     "output_type": "stream",
     "text": [
      "LinearSVC: \n",
      " time: 0.049\n",
      "              precision    recall  f1-score   support\n",
      "\n",
      "           0       0.00      0.00      0.00       171\n",
      "           1       0.75      1.00      0.86       513\n",
      "\n",
      "    accuracy                           0.75       684\n",
      "   macro avg       0.38      0.50      0.43       684\n",
      "weighted avg       0.56      0.75      0.64       684\n",
      "\n"
     ]
    },
    {
     "name": "stderr",
     "output_type": "stream",
     "text": [
      "/home/vanda/Projects/jupyter_notes/lib/python3.8/site-packages/sklearn/metrics/_classification.py:1248: UndefinedMetricWarning: Precision and F-score are ill-defined and being set to 0.0 in labels with no predicted samples. Use `zero_division` parameter to control this behavior.\n",
      "  _warn_prf(average, modifier, msg_start, len(result))\n",
      "/home/vanda/Projects/jupyter_notes/lib/python3.8/site-packages/sklearn/metrics/_classification.py:1248: UndefinedMetricWarning: Precision and F-score are ill-defined and being set to 0.0 in labels with no predicted samples. Use `zero_division` parameter to control this behavior.\n",
      "  _warn_prf(average, modifier, msg_start, len(result))\n",
      "/home/vanda/Projects/jupyter_notes/lib/python3.8/site-packages/sklearn/metrics/_classification.py:1248: UndefinedMetricWarning: Precision and F-score are ill-defined and being set to 0.0 in labels with no predicted samples. Use `zero_division` parameter to control this behavior.\n",
      "  _warn_prf(average, modifier, msg_start, len(result))\n"
     ]
    }
   ],
   "source": [
    "start_time_svc = time.time()\n",
    "svc = LinearSVC(loss='hinge', max_iter=10000).fit(x_train, y_train)\n",
    "predictions_svc = svc.predict(x_test)\n",
    "elapsed_time_svc = time.time() - start_time_svc\n",
    "\n",
    "print(\"LinearSVC: \\n time: %.3f\" % elapsed_time_svc)\n",
    "print(classification_report(y_test, predictions_svc))"
   ]
  },
  {
   "cell_type": "code",
   "execution_count": 65,
   "id": "714f2e41",
   "metadata": {},
   "outputs": [
    {
     "name": "stdout",
     "output_type": "stream",
     "text": [
      "LinearSVC: \n",
      " time: 0.362\n",
      "              precision    recall  f1-score   support\n",
      "\n",
      "           0       0.58      0.06      0.12       171\n",
      "           1       0.76      0.98      0.86       513\n",
      "\n",
      "    accuracy                           0.75       684\n",
      "   macro avg       0.67      0.52      0.49       684\n",
      "weighted avg       0.71      0.75      0.67       684\n",
      "\n"
     ]
    },
    {
     "name": "stderr",
     "output_type": "stream",
     "text": [
      "/home/vanda/Projects/jupyter_notes/lib/python3.8/site-packages/sklearn/svm/_base.py:985: ConvergenceWarning: Liblinear failed to converge, increase the number of iterations.\n",
      "  warnings.warn(\"Liblinear failed to converge, increase \"\n"
     ]
    }
   ],
   "source": [
    "start_time_svc = time.time()\n",
    "svc = LinearSVC(max_iter=3000).fit(x_train, y_train)\n",
    "predictions_svc = svc.predict(x_test)\n",
    "elapsed_time_svc = time.time() - start_time_svc\n",
    "\n",
    "print(\"LinearSVC: \\n time: %.3f\" % elapsed_time_svc)\n",
    "print(classification_report(y_test, predictions_svc))"
   ]
  },
  {
   "cell_type": "code",
   "execution_count": 66,
   "id": "67d68cc1",
   "metadata": {},
   "outputs": [
    {
     "name": "stdout",
     "output_type": "stream",
     "text": [
      "KNeighborsClassifier: \n",
      " time: 0.029\n",
      "              precision    recall  f1-score   support\n",
      "\n",
      "           0       0.52      0.24      0.33       171\n",
      "           1       0.79      0.93      0.85       513\n",
      "\n",
      "    accuracy                           0.75       684\n",
      "   macro avg       0.65      0.58      0.59       684\n",
      "weighted avg       0.72      0.75      0.72       684\n",
      "\n"
     ]
    }
   ],
   "source": [
    "#n_neighbors=15, weights='distance', algorithm='kd_tree'\n",
    "#  time: 0.024\n",
    "#               precision    recall  f1-score   support\n",
    "\n",
    "#            0       0.52      0.24      0.33       171\n",
    "#            1       0.79      0.93      0.85       513\n",
    "\n",
    "#     accuracy                           0.75       684\n",
    "#    macro avg       0.65      0.58      0.59       684\n",
    "# weighted avg       0.72      0.75      0.72       684\n",
    "\n",
    "start_time_knn = time.time()\n",
    "knn = KNeighborsClassifier(n_neighbors=15, weights='distance', algorithm='kd_tree').fit(x_train, y_train)\n",
    "predictions_knn = knn.predict(x_test)\n",
    "elapsed_time_knn = time.time() - start_time_knn\n",
    "\n",
    "print(\"KNeighborsClassifier: \\n time: %.3f\" % elapsed_time_knn)\n",
    "print(classification_report(y_test, predictions_knn))"
   ]
  },
  {
   "cell_type": "code",
   "execution_count": 67,
   "id": "eda8e6b3",
   "metadata": {},
   "outputs": [
    {
     "name": "stdout",
     "output_type": "stream",
     "text": [
      "KNeighborsClassifier: \n",
      " time: 0.059\n",
      "              precision    recall  f1-score   support\n",
      "\n",
      "           0       0.37      0.22      0.28       171\n",
      "           1       0.77      0.87      0.82       513\n",
      "\n",
      "    accuracy                           0.71       684\n",
      "   macro avg       0.57      0.55      0.55       684\n",
      "weighted avg       0.67      0.71      0.68       684\n",
      "\n"
     ]
    }
   ],
   "source": [
    "start_time_knn = time.time()\n",
    "knn = KNeighborsClassifier().fit(x_train, y_train)\n",
    "predictions_knn = knn.predict(x_test)\n",
    "elapsed_time_knn = time.time() - start_time_knn\n",
    "print(\"KNeighborsClassifier: \\n time: %.3f\" % elapsed_time_knn)\n",
    "print(classification_report(y_test, predictions_knn))"
   ]
  },
  {
   "cell_type": "code",
   "execution_count": 68,
   "id": "9e56731d",
   "metadata": {},
   "outputs": [
    {
     "name": "stdout",
     "output_type": "stream",
     "text": [
      "DecisionTreeClassifier: \n",
      " time: 0.012\n",
      "              precision    recall  f1-score   support\n",
      "\n",
      "           0       0.37      0.37      0.37       171\n",
      "           1       0.79      0.79      0.79       513\n",
      "\n",
      "    accuracy                           0.68       684\n",
      "   macro avg       0.58      0.58      0.58       684\n",
      "weighted avg       0.69      0.68      0.68       684\n",
      "\n"
     ]
    }
   ],
   "source": [
    "#simialr res with default pars\n",
    "start_time_dtc = time.time()\n",
    "dtc = DecisionTreeClassifier(criterion='entropy', splitter='random', max_depth=25).fit(x_train, y_train)\n",
    "predictions_dtc = dtc.predict(x_test)\n",
    "elapsed_time_dtc = time.time() - start_time_dtc\n",
    "print(\"DecisionTreeClassifier: \\n time: %.3f\" % elapsed_time_dtc)\n",
    "print(classification_report(y_test, predictions_dtc))"
   ]
  },
  {
   "cell_type": "code",
   "execution_count": 69,
   "id": "7e9148b3",
   "metadata": {},
   "outputs": [
    {
     "name": "stdout",
     "output_type": "stream",
     "text": [
      "DecisionTreeClassifier: \n",
      " time: 0.015\n",
      "              precision    recall  f1-score   support\n",
      "\n",
      "           0       0.32      0.33      0.33       171\n",
      "           1       0.78      0.77      0.77       513\n",
      "\n",
      "    accuracy                           0.66       684\n",
      "   macro avg       0.55      0.55      0.55       684\n",
      "weighted avg       0.66      0.66      0.66       684\n",
      "\n"
     ]
    }
   ],
   "source": [
    "start_time_dtc = time.time()\n",
    "dtc = DecisionTreeClassifier( max_depth=15).fit(x_train, y_train)\n",
    "predictions_dtc = dtc.predict(x_test)\n",
    "elapsed_time_dtc = time.time() - start_time_dtc\n",
    "print(\"DecisionTreeClassifier: \\n time: %.3f\" % elapsed_time_dtc)\n",
    "print(classification_report(y_test, predictions_dtc))"
   ]
  },
  {
   "cell_type": "code",
   "execution_count": 70,
   "id": "44b4e504",
   "metadata": {},
   "outputs": [
    {
     "name": "stdout",
     "output_type": "stream",
     "text": [
      "RandomForestClassifier: \n",
      " time: 1.980\n",
      "              precision    recall  f1-score   support\n",
      "\n",
      "           0       0.38      0.30      0.34       171\n",
      "           1       0.78      0.84      0.81       513\n",
      "\n",
      "    accuracy                           0.70       684\n",
      "   macro avg       0.58      0.57      0.57       684\n",
      "weighted avg       0.68      0.70      0.69       684\n",
      "\n"
     ]
    }
   ],
   "source": [
    "\n",
    "#with n_estimators=500, max_depth=30, bootstrap=False\n",
    "# time: 1.316\n",
    "#               precision    recall  f1-score   support\n",
    "\n",
    "#            0       0.40      0.31      0.35       171\n",
    "#            1       0.79      0.84      0.81       513\n",
    "\n",
    "#     accuracy                           0.71       684\n",
    "#    macro avg       0.59      0.58      0.58       684\n",
    "# weighted avg       0.69      0.71      0.70       684\n",
    "\n",
    "start_time_rfc = time.time()\n",
    "rfc = RandomForestClassifier(n_estimators=500, max_depth=30, bootstrap=False).fit(x_train, y_train)\n",
    "predictions_rfc = rfc.predict(x_test)\n",
    "elapsed_time_rfc = time.time() - start_time_rfc\n",
    "\n",
    "print(\"RandomForestClassifier: \\n time: %.3f\" % elapsed_time_rfc)\n",
    "print(classification_report(y_test, predictions_rfc))"
   ]
  },
  {
   "cell_type": "code",
   "execution_count": 71,
   "id": "e88c1c64",
   "metadata": {},
   "outputs": [
    {
     "name": "stdout",
     "output_type": "stream",
     "text": [
      "RandomForestClassifier: \n",
      " time: 0.470\n",
      "              precision    recall  f1-score   support\n",
      "\n",
      "           0       0.43      0.25      0.32       171\n",
      "           1       0.78      0.89      0.83       513\n",
      "\n",
      "    accuracy                           0.73       684\n",
      "   macro avg       0.60      0.57      0.57       684\n",
      "weighted avg       0.69      0.73      0.70       684\n",
      "\n"
     ]
    }
   ],
   "source": [
    "#min diff between 0.25 and 0.3 test_size\n",
    "start_time_rfc = time.time()\n",
    "rfc = RandomForestClassifier(max_depth=25).fit(x_train, y_train)\n",
    "predictions_rfc = rfc.predict(x_test)\n",
    "elapsed_time_rfc = time.time() - start_time_rfc\n",
    "\n",
    "print(\"RandomForestClassifier: \\n time: %.3f\" % elapsed_time_rfc)\n",
    "print(classification_report(y_test, predictions_rfc))"
   ]
  },
  {
   "cell_type": "code",
   "execution_count": 72,
   "id": "269d862a",
   "metadata": {},
   "outputs": [
    {
     "name": "stdout",
     "output_type": "stream",
     "text": [
      "GradientBoostingClassifier: \n",
      " time: 5.673\n",
      "              precision    recall  f1-score   support\n",
      "\n",
      "           0       0.40      0.36      0.38       171\n",
      "           1       0.79      0.82      0.81       513\n",
      "\n",
      "    accuracy                           0.70       684\n",
      "   macro avg       0.60      0.59      0.59       684\n",
      "weighted avg       0.70      0.70      0.70       684\n",
      "\n"
     ]
    }
   ],
   "source": [
    "\n",
    "start_time_gbc = time.time()\n",
    "gbc = GradientBoostingClassifier(loss='exponential', max_depth=15, learning_rate=0.4, n_estimators=150).fit(x_train, y_train)\n",
    "predictions_gbc = gbc.predict(x_test)\n",
    "elapsed_time_gbc = time.time() - start_time_gbc\n",
    "\n",
    "print(\"GradientBoostingClassifier: \\n time: %.3f\" % elapsed_time_gbc)\n",
    "print(classification_report(y_test, predictions_gbc))"
   ]
  },
  {
   "cell_type": "code",
   "execution_count": 73,
   "id": "3c832bb3",
   "metadata": {},
   "outputs": [
    {
     "name": "stdout",
     "output_type": "stream",
     "text": [
      "GradientBoostingClassifier: \n",
      " time: 0.477\n",
      "              precision    recall  f1-score   support\n",
      "\n",
      "           0       0.46      0.37      0.41       171\n",
      "           1       0.80      0.85      0.83       513\n",
      "\n",
      "    accuracy                           0.73       684\n",
      "   macro avg       0.63      0.61      0.62       684\n",
      "weighted avg       0.72      0.73      0.72       684\n",
      "\n"
     ]
    }
   ],
   "source": [
    "# with max_depth=5, learning_rate=0.4\n",
    "# time: 0.515\n",
    "#               precision    recall  f1-score   support\n",
    "\n",
    "#            0       0.45      0.36      0.40       171\n",
    "#            1       0.80      0.85      0.83       513\n",
    "\n",
    "#     accuracy                           0.73       684\n",
    "#    macro avg       0.63      0.61      0.61       684\n",
    "# weighted avg       0.71      0.73      0.72       684\n",
    "\n",
    "start_time_gbc = time.time()\n",
    "gbc = GradientBoostingClassifier(max_depth=5, learning_rate=0.4).fit(x_train, y_train)\n",
    "predictions_gbc = gbc.predict(x_test)\n",
    "elapsed_time_gbc = time.time() - start_time_gbc\n",
    "print(\"GradientBoostingClassifier: \\n time: %.3f\" % elapsed_time_gbc)\n",
    "print(classification_report(y_test, predictions_gbc))"
   ]
  },
  {
   "cell_type": "markdown",
   "id": "298f3b61",
   "metadata": {},
   "source": [
    "## Restaurants "
   ]
  },
  {
   "cell_type": "code",
   "execution_count": 74,
   "id": "159ce179",
   "metadata": {},
   "outputs": [],
   "source": [
    "test_size=0.25\n",
    "x_train, x_test, y_train, y_test = train_test_split(X_restaurant, y_restaurant, test_size=test_size, random_state=seed)"
   ]
  },
  {
   "cell_type": "code",
   "execution_count": 75,
   "id": "101f954a",
   "metadata": {},
   "outputs": [
    {
     "name": "stdout",
     "output_type": "stream",
     "text": [
      "[LibLinear]LogisticRegression: \n",
      " time: 0.040\n",
      "              precision    recall  f1-score   support\n",
      "\n",
      "           0       0.71      0.50      0.59       414\n",
      "           1       0.72      0.86      0.78       604\n",
      "\n",
      "    accuracy                           0.72      1018\n",
      "   macro avg       0.72      0.68      0.69      1018\n",
      "weighted avg       0.72      0.72      0.70      1018\n",
      "\n"
     ]
    }
   ],
   "source": [
    "#same res as def pars\n",
    "#test_size = 0.25 higher f1 by 0.01\n",
    "start_time_lr = time.time()\n",
    "lr = LogisticRegression(penalty='l2', solver='liblinear', max_iter=350, verbose=1).fit(x_train, y_train)\n",
    "predictions_lr = lr.predict(x_test)\n",
    "elapsed_time_lr = time.time() - start_time_lr\n",
    "\n",
    "print(f\"LogisticRegression: \\n time: %.3f\" % elapsed_time_lr)\n",
    "print(classification_report(y_test, predictions_lr))"
   ]
  },
  {
   "cell_type": "code",
   "execution_count": 76,
   "id": "b658c23e",
   "metadata": {},
   "outputs": [
    {
     "name": "stdout",
     "output_type": "stream",
     "text": [
      "LogisticRegression: \n",
      " time: 0.238\n",
      "              precision    recall  f1-score   support\n",
      "\n",
      "           0       0.70      0.51      0.59       414\n",
      "           1       0.72      0.85      0.78       604\n",
      "\n",
      "    accuracy                           0.71      1018\n",
      "   macro avg       0.71      0.68      0.68      1018\n",
      "weighted avg       0.71      0.71      0.70      1018\n",
      "\n"
     ]
    }
   ],
   "source": [
    "#solver='liblinear'\n",
    "\n",
    "start_time_lr = time.time()\n",
    "lr = LogisticRegression(max_iter=350).fit(x_train, y_train)\n",
    "predictions_lr = lr.predict(x_test)\n",
    "elapsed_time_lr = time.time() - start_time_lr\n",
    "\n",
    "print(f\"LogisticRegression: \\n time: %.3f\" % elapsed_time_lr)\n",
    "print(classification_report(y_test, predictions_lr))"
   ]
  },
  {
   "cell_type": "code",
   "execution_count": 77,
   "id": "d2e2ccc5",
   "metadata": {},
   "outputs": [
    {
     "name": "stdout",
     "output_type": "stream",
     "text": [
      "LinearSVC: \n",
      " time: 0.427\n",
      "              precision    recall  f1-score   support\n",
      "\n",
      "           0       0.71      0.47      0.56       414\n",
      "           1       0.70      0.87      0.78       604\n",
      "\n",
      "    accuracy                           0.71      1018\n",
      "   macro avg       0.71      0.67      0.67      1018\n",
      "weighted avg       0.71      0.71      0.69      1018\n",
      "\n"
     ]
    },
    {
     "name": "stderr",
     "output_type": "stream",
     "text": [
      "/home/vanda/Projects/jupyter_notes/lib/python3.8/site-packages/sklearn/svm/_base.py:985: ConvergenceWarning: Liblinear failed to converge, increase the number of iterations.\n",
      "  warnings.warn(\"Liblinear failed to converge, increase \"\n"
     ]
    }
   ],
   "source": [
    "#with loss='hinge', max_iter=10000, random_state=55\n",
    "#higher overall f1 score\n",
    "# time: 0.412\n",
    "#               precision    recall  f1-score   support\n",
    "\n",
    "#            0       0.70      0.46      0.55       490\n",
    "#            1       0.71      0.87      0.78       731\n",
    "\n",
    "#     accuracy                           0.71      1221\n",
    "#    macro avg       0.70      0.66      0.67      1221\n",
    "# weighted avg       0.71      0.71      0.69      1221\n",
    "\n",
    "start_time_svc = time.time()\n",
    "svc = LinearSVC(loss='hinge', max_iter=10000, random_state=55).fit(x_train, y_train)\n",
    "predictions_svc = svc.predict(x_test)\n",
    "elapsed_time_svc = time.time() - start_time_svc\n",
    "\n",
    "print(\"LinearSVC: \\n time: %.3f\" % elapsed_time_svc)\n",
    "print(classification_report(y_test, predictions_svc))"
   ]
  },
  {
   "cell_type": "code",
   "execution_count": 78,
   "id": "7546e019",
   "metadata": {},
   "outputs": [
    {
     "name": "stdout",
     "output_type": "stream",
     "text": [
      "LinearSVC: \n",
      " time: 0.266\n",
      "              precision    recall  f1-score   support\n",
      "\n",
      "           0       0.64      0.61      0.63       414\n",
      "           1       0.74      0.77      0.75       604\n",
      "\n",
      "    accuracy                           0.70      1018\n",
      "   macro avg       0.69      0.69      0.69      1018\n",
      "weighted avg       0.70      0.70      0.70      1018\n",
      "\n"
     ]
    },
    {
     "name": "stderr",
     "output_type": "stream",
     "text": [
      "/home/vanda/Projects/jupyter_notes/lib/python3.8/site-packages/sklearn/svm/_base.py:985: ConvergenceWarning: Liblinear failed to converge, increase the number of iterations.\n",
      "  warnings.warn(\"Liblinear failed to converge, increase \"\n"
     ]
    }
   ],
   "source": [
    "start_time_svc = time.time()\n",
    "svc = LinearSVC().fit(x_train, y_train)\n",
    "predictions_svc = svc.predict(x_test)\n",
    "elapsed_time_svc = time.time() - start_time_svc\n",
    "\n",
    "print(\"LinearSVC: \\n time: %.3f\" % elapsed_time_svc)\n",
    "print(classification_report(y_test, predictions_svc))"
   ]
  },
  {
   "cell_type": "code",
   "execution_count": 79,
   "id": "8b9a96fb",
   "metadata": {},
   "outputs": [
    {
     "name": "stdout",
     "output_type": "stream",
     "text": [
      "KNeighborsClassifier: \n",
      " time: 0.055\n",
      "              precision    recall  f1-score   support\n",
      "\n",
      "           0       0.72      0.38      0.50       414\n",
      "           1       0.68      0.90      0.77       604\n",
      "\n",
      "    accuracy                           0.69      1018\n",
      "   macro avg       0.70      0.64      0.63      1018\n",
      "weighted avg       0.69      0.69      0.66      1018\n",
      "\n"
     ]
    }
   ],
   "source": [
    "#better res with def pars wehn test_size=0.30\n",
    "\n",
    "#test_size=0.25 higher overall f1 score\n",
    "# time: 0.056\n",
    "#               precision    recall  f1-score   support\n",
    "\n",
    "#            0       0.72      0.38      0.50       414\n",
    "#            1       0.68      0.90      0.77       604\n",
    "\n",
    "#     accuracy                           0.69      1018\n",
    "#    macro avg       0.70      0.64      0.63      1018\n",
    "# weighted avg       0.69      0.69      0.66      1018\n",
    "start_time_knn = time.time()\n",
    "knn = KNeighborsClassifier(n_neighbors=25, weights='distance', algorithm='ball_tree').fit(x_train, y_train)\n",
    "predictions_knn = knn.predict(x_test)\n",
    "elapsed_time_knn = time.time() - start_time_knn\n",
    "\n",
    "print(\"KNeighborsClassifier: \\n time: %.3f\" % elapsed_time_knn)\n",
    "print(classification_report(y_test, predictions_knn))"
   ]
  },
  {
   "cell_type": "code",
   "execution_count": 80,
   "id": "d3e63f20",
   "metadata": {},
   "outputs": [
    {
     "name": "stdout",
     "output_type": "stream",
     "text": [
      "KNeighborsClassifier: \n",
      " time: 0.093\n",
      "              precision    recall  f1-score   support\n",
      "\n",
      "           0       0.65      0.43      0.52       414\n",
      "           1       0.68      0.84      0.75       604\n",
      "\n",
      "    accuracy                           0.67      1018\n",
      "   macro avg       0.67      0.64      0.64      1018\n",
      "weighted avg       0.67      0.67      0.66      1018\n",
      "\n"
     ]
    }
   ],
   "source": [
    "start_time_knn = time.time()\n",
    "knn = KNeighborsClassifier().fit(x_train, y_train)\n",
    "predictions_knn = knn.predict(x_test)\n",
    "elapsed_time_knn = time.time() - start_time_knn\n",
    "print(\"KNeighborsClassifier: \\n time: %.3f\" % elapsed_time_knn)\n",
    "print(classification_report(y_test, predictions_knn))"
   ]
  },
  {
   "cell_type": "code",
   "execution_count": 81,
   "id": "8d86c518",
   "metadata": {},
   "outputs": [
    {
     "name": "stdout",
     "output_type": "stream",
     "text": [
      "DecisionTreeClassifier: \n",
      " time: 0.014\n",
      "              precision    recall  f1-score   support\n",
      "\n",
      "           0       0.57      0.51      0.54       414\n",
      "           1       0.69      0.73      0.71       604\n",
      "\n",
      "    accuracy                           0.64      1018\n",
      "   macro avg       0.63      0.62      0.62      1018\n",
      "weighted avg       0.64      0.64      0.64      1018\n",
      "\n"
     ]
    }
   ],
   "source": [
    "#hiher overall f1 score with test_size=0.30\n",
    "#with criterion='entropy', splitter='random', max_depth=5\n",
    "# time: 0.015\n",
    "#               precision    recall  f1-score   support\n",
    "\n",
    "#            0       0.66      0.45      0.53       490\n",
    "#            1       0.70      0.85      0.76       731\n",
    "\n",
    "#     accuracy                           0.69      1221\n",
    "#    macro avg       0.68      0.65      0.65      1221\n",
    "# weighted avg       0.68      0.69      0.67      1221\n",
    "\n",
    "start_time_dtc = time.time()\n",
    "dtc = DecisionTreeClassifier(criterion='entropy', splitter='random', max_depth=10).fit(x_train, y_train)\n",
    "predictions_dtc = dtc.predict(x_test)\n",
    "elapsed_time_dtc = time.time() - start_time_dtc\n",
    "print(\"DecisionTreeClassifier: \\n time: %.3f\" % elapsed_time_dtc)\n",
    "print(classification_report(y_test, predictions_dtc))"
   ]
  },
  {
   "cell_type": "code",
   "execution_count": 82,
   "id": "fb4331ca",
   "metadata": {},
   "outputs": [
    {
     "name": "stdout",
     "output_type": "stream",
     "text": [
      "DecisionTreeClassifier: \n",
      " time: 0.020\n",
      "              precision    recall  f1-score   support\n",
      "\n",
      "           0       0.57      0.57      0.57       414\n",
      "           1       0.71      0.71      0.71       604\n",
      "\n",
      "    accuracy                           0.65      1018\n",
      "   macro avg       0.64      0.64      0.64      1018\n",
      "weighted avg       0.65      0.65      0.65      1018\n",
      "\n"
     ]
    }
   ],
   "source": [
    "start_time_dtc = time.time()\n",
    "dtc = DecisionTreeClassifier( max_depth=15).fit(x_train, y_train)\n",
    "predictions_dtc = dtc.predict(x_test)\n",
    "elapsed_time_dtc = time.time() - start_time_dtc\n",
    "print(\"DecisionTreeClassifier: \\n time: %.3f\" % elapsed_time_dtc)\n",
    "print(classification_report(y_test, predictions_dtc))"
   ]
  },
  {
   "cell_type": "code",
   "execution_count": 83,
   "id": "fbaee116",
   "metadata": {},
   "outputs": [
    {
     "name": "stdout",
     "output_type": "stream",
     "text": [
      "RandomForestClassifier: \n",
      " time: 0.615\n",
      "              precision    recall  f1-score   support\n",
      "\n",
      "           0       0.63      0.59      0.61       414\n",
      "           1       0.73      0.76      0.74       604\n",
      "\n",
      "    accuracy                           0.69      1018\n",
      "   macro avg       0.68      0.68      0.68      1018\n",
      "weighted avg       0.69      0.69      0.69      1018\n",
      "\n"
     ]
    }
   ],
   "source": [
    "#worse res than with def pars with both test_sizes\n",
    "start_time_rfc = time.time()\n",
    "rfc = RandomForestClassifier(n_estimators=150, max_depth=30, random_state=2, bootstrap=False).fit(x_train, y_train)\n",
    "predictions_rfc = rfc.predict(x_test)\n",
    "elapsed_time_rfc = time.time() - start_time_rfc\n",
    "\n",
    "print(\"RandomForestClassifier: \\n time: %.3f\" % elapsed_time_rfc)\n",
    "print(classification_report(y_test, predictions_rfc))"
   ]
  },
  {
   "cell_type": "code",
   "execution_count": 84,
   "id": "ba4cdb06",
   "metadata": {},
   "outputs": [
    {
     "name": "stdout",
     "output_type": "stream",
     "text": [
      "RandomForestClassifier: \n",
      " time: 0.377\n",
      "              precision    recall  f1-score   support\n",
      "\n",
      "           0       0.64      0.59      0.61       414\n",
      "           1       0.73      0.77      0.75       604\n",
      "\n",
      "    accuracy                           0.70      1018\n",
      "   macro avg       0.69      0.68      0.68      1018\n",
      "weighted avg       0.70      0.70      0.70      1018\n",
      "\n"
     ]
    }
   ],
   "source": [
    "\n",
    "start_time_rfc = time.time()\n",
    "rfc = RandomForestClassifier(max_depth=25).fit(x_train, y_train)\n",
    "predictions_rfc = rfc.predict(x_test)\n",
    "elapsed_time_rfc = time.time() - start_time_rfc\n",
    "\n",
    "print(\"RandomForestClassifier: \\n time: %.3f\" % elapsed_time_rfc)\n",
    "print(classification_report(y_test, predictions_rfc))"
   ]
  },
  {
   "cell_type": "code",
   "execution_count": 85,
   "id": "8a02eca6",
   "metadata": {},
   "outputs": [
    {
     "name": "stdout",
     "output_type": "stream",
     "text": [
      "GradientBoostingClassifier: \n",
      " time: 0.726\n",
      "              precision    recall  f1-score   support\n",
      "\n",
      "           0       0.64      0.59      0.62       414\n",
      "           1       0.73      0.77      0.75       604\n",
      "\n",
      "    accuracy                           0.70      1018\n",
      "   macro avg       0.69      0.68      0.68      1018\n",
      "weighted avg       0.70      0.70      0.70      1018\n",
      "\n"
     ]
    }
   ],
   "source": [
    "#worse res than with def pars with both test_sizes\n",
    "start_time_gbc = time.time()\n",
    "gbc = GradientBoostingClassifier(loss='exponential', max_depth=5, learning_rate=0.4, n_estimators=150).fit(x_train, y_train)\n",
    "predictions_gbc = gbc.predict(x_test)\n",
    "elapsed_time_gbc = time.time() - start_time_gbc\n",
    "\n",
    "print(\"GradientBoostingClassifier: \\n time: %.3f\" % elapsed_time_gbc)\n",
    "print(classification_report(y_test, predictions_gbc))"
   ]
  },
  {
   "cell_type": "code",
   "execution_count": 86,
   "id": "7c724666",
   "metadata": {},
   "outputs": [
    {
     "name": "stdout",
     "output_type": "stream",
     "text": [
      "GradientBoostingClassifier: \n",
      " time: 5.243\n",
      "              precision    recall  f1-score   support\n",
      "\n",
      "           0       0.62      0.66      0.64       414\n",
      "           1       0.75      0.72      0.74       604\n",
      "\n",
      "    accuracy                           0.70      1018\n",
      "   macro avg       0.69      0.69      0.69      1018\n",
      "weighted avg       0.70      0.70      0.70      1018\n",
      "\n"
     ]
    }
   ],
   "source": [
    "\n",
    "start_time_gbc = time.time()\n",
    "gbc = GradientBoostingClassifier(max_depth=15, learning_rate=0.75).fit(x_train, y_train)\n",
    "predictions_gbc = gbc.predict(x_test)\n",
    "elapsed_time_gbc = time.time() - start_time_gbc\n",
    "print(\"GradientBoostingClassifier: \\n time: %.3f\" % elapsed_time_gbc)\n",
    "print(classification_report(y_test, predictions_gbc))"
   ]
  },
  {
   "cell_type": "code",
   "execution_count": null,
   "id": "7ee5cb2d",
   "metadata": {},
   "outputs": [],
   "source": []
  },
  {
   "cell_type": "code",
   "execution_count": null,
   "id": "c83fddd9",
   "metadata": {},
   "outputs": [],
   "source": []
  },
  {
   "cell_type": "code",
   "execution_count": null,
   "id": "280fbf0d",
   "metadata": {},
   "outputs": [],
   "source": [
    "#Training the models and measuring duration\n",
    "start_time_lr = time.time()\n",
    "lr = LogisticRegression().fit(x_train, y_train)\n",
    "predictions_lr = lr.predict(x_test)\n",
    "elapsed_time_lr = time.time() - start_time_lr\n",
    "\n",
    "start_time_nb = time.time()\n",
    "nb = GaussianNB().fit(x_train, y_train)\n",
    "predictions_nb = nb.predict(x_test)\n",
    "elapsed_time_nb = time.time() - start_time_nb\n",
    "\n",
    "start_time_svc = time.time()\n",
    "svc = LinearSVC().fit(x_train, y_train)\n",
    "predictions_svc = svc.predict(x_test)\n",
    "elapsed_time_svc = time.time() - start_time_svc\n",
    "\n",
    "start_time_knn = time.time()\n",
    "knn = KNeighborsClassifier().fit(x_train, y_train)\n",
    "predictions_knn = knn.predict(x_test)\n",
    "elapsed_time_knn = time.time() - start_time_knn\n",
    "\n",
    "start_time_dtc = time.time()\n",
    "dtc = DecisionTreeClassifier().fit(x_train, y_train)\n",
    "predictions_dtc = dtc.predict(x_test)\n",
    "elapsed_time_dtc = time.time() - start_time_dtc\n",
    "\n",
    "start_time_rfc = time.time()\n",
    "rfc = RandomForestClassifier().fit(x_train, y_train)\n",
    "predictions_rfc = rfc.predict(x_test)\n",
    "elapsed_time_rfc = time.time() - start_time_rfc\n",
    "\n",
    "start_time_gbc = time.time()\n",
    "gbc = GradientBoostingClassifier().fit(x_train, y_train)\n",
    "predictions_gbc = gbc.predict(x_test)\n",
    "elapsed_time_gbc = time.time() - start_time_gbc"
   ]
  },
  {
   "cell_type": "code",
   "execution_count": null,
   "id": "e1a419a3",
   "metadata": {},
   "outputs": [],
   "source": []
  },
  {
   "cell_type": "code",
   "execution_count": null,
   "id": "4090c680",
   "metadata": {},
   "outputs": [],
   "source": [
    "print(f\"LogisticRegression: \\n time: %.3f\" % elapsed_time_lr)\n",
    "print(classification_report(y_test, predictions_lr))\n",
    "\n",
    "print(\"GaussianNB: \\n time: %.3f\" % elapsed_time_nb)\n",
    "print(classification_report(y_test, predictions_nb))\n",
    "\n",
    "print(\"LinearSVC: \\n time: %.3f\" % elapsed_time_svc)\n",
    "print(classification_report(y_test, predictions_svc))\n",
    "\n",
    "print(\"KNeighborsClassifier: \\n time: %.3f\" % elapsed_time_knn)\n",
    "print(classification_report(y_test, predictions_knn))\n",
    "\n",
    "print(\"DecisionTreeClassifier: \\n time: %.3f\" % elapsed_time_dtc)\n",
    "print(classification_report(y_test, predictions_dtc))\n",
    "\n",
    "print(\"RandomForestClassifier: \\n time: %.3f\" % elapsed_time_rfc)\n",
    "print(classification_report(y_test, predictions_rfc))\n",
    "\n",
    "print(\"GradientBoostingClassifier: \\n time: %.3f\" % elapsed_time_gbc)\n",
    "print(classification_report(y_test, predictions_gbc))"
   ]
  }
 ],
 "metadata": {
  "kernelspec": {
   "display_name": "Python 3",
   "language": "python",
   "name": "python3"
  },
  "language_info": {
   "codemirror_mode": {
    "name": "ipython",
    "version": 3
   },
   "file_extension": ".py",
   "mimetype": "text/x-python",
   "name": "python",
   "nbconvert_exporter": "python",
   "pygments_lexer": "ipython3",
   "version": "3.8.10"
  }
 },
 "nbformat": 4,
 "nbformat_minor": 5
}
